{
 "cells": [
  {
   "cell_type": "code",
   "execution_count": 9,
   "metadata": {},
   "outputs": [],
   "source": [
    "import pandas as pd\n",
    "import numpy as np\n",
    "import matplotlib.pyplot as plt\n",
    "%matplotlib inline\n",
    "plt.style.use('ggplot')\n",
    "\n",
    "import pyspark\n",
    "from pyspark.sql import SparkSession\n",
    "from pyspark.ml.recommendation import ALS, ALSModel\n",
    "from pyspark.ml.evaluation import RegressionEvaluator\n",
    "# The following is only for working with RDDs\n",
    "# from pyspark.mllib.recommendation import ALS, MatrixFactorizationModel, Rating\n",
    "\n",
    "# Setup a SparkSession\n",
    "spark = SparkSession.builder.getOrCreate()"
   ]
  },
  {
   "cell_type": "code",
   "execution_count": 3,
   "metadata": {
    "collapsed": true
   },
   "outputs": [],
   "source": [
    "train_owns_stars = pd.read_csv('data/new_subset_data/train_data.csv')\n",
    "test_owns_stars = pd.read_csv('data/new_subset_data/test_data.csv')\n",
    "\n",
    "sp_train_owns_stars = spark.createDataFrame(train_owns_stars)\n",
    "sp_test_owns_stars = spark.createDataFrame(test_owns_stars)"
   ]
  },
  {
   "cell_type": "code",
   "execution_count": 11,
   "metadata": {},
   "outputs": [],
   "source": [
    "model1 = ALS(\n",
    "    itemCol='repo_id',\n",
    "    userCol='user_id',\n",
    "    ratingCol='interest_rank',\n",
    "    nonnegative=True,    \n",
    "    regParam=0.1,\n",
    "    rank=5,\n",
    "    maxIter=15,\n",
    "    alpha=10\n",
    "    ) \n",
    "\n",
    "model2 = ALS(\n",
    "    itemCol='repo_id',\n",
    "    userCol='user_id',\n",
    "    ratingCol='interest_rank',\n",
    "    nonnegative=True,    \n",
    "    regParam=0.1,\n",
    "    rank=10,\n",
    "    maxIter=15,\n",
    "    alpha=10\n",
    "    )  \n",
    "\n",
    "model3 = ALS(\n",
    "    itemCol='repo_id',\n",
    "    userCol='user_id',\n",
    "    ratingCol='interest_rank',\n",
    "    nonnegative=True,    \n",
    "    regParam=0.1,\n",
    "    rank=15,\n",
    "    maxIter=15,\n",
    "    alpha=10\n",
    "    )  \n",
    "\n",
    "model4 = ALS(\n",
    "    itemCol='repo_id',\n",
    "    userCol='user_id',\n",
    "    ratingCol='interest_rank',\n",
    "    nonnegative=True,    \n",
    "    regParam=0.1,\n",
    "    rank=20,\n",
    "    maxIter=15,\n",
    "    alpha=10\n",
    "    )  \n",
    "\n",
    "model5 = ALS(\n",
    "    itemCol='repo_id',\n",
    "    userCol='user_id',\n",
    "    ratingCol='interest_rank',\n",
    "    nonnegative=True,    \n",
    "    regParam=0.1,\n",
    "    rank=25,\n",
    "    maxIter=15,\n",
    "    alpha=10\n",
    "    ) \n",
    "\n",
    "model6 = ALS(\n",
    "    itemCol='repo_id',\n",
    "    userCol='user_id',\n",
    "    ratingCol='interest_rank',\n",
    "    nonnegative=True,    \n",
    "    regParam=0.1,\n",
    "    rank=30,\n",
    "    maxIter=15,\n",
    "    alpha=10\n",
    "    ) \n",
    "\n",
    "model7 = ALS(\n",
    "    itemCol='repo_id',\n",
    "    userCol='user_id',\n",
    "    ratingCol='interest_rank',\n",
    "    nonnegative=True,    \n",
    "    regParam=0.1,\n",
    "    rank=35,\n",
    "    maxIter=15,\n",
    "    alpha=10\n",
    "    ) \n",
    "\n",
    "\n",
    "# Fit models\n",
    "recommender1 = model1.fit(sp_train_owns_stars)\n",
    "recommender2 = model2.fit(sp_train_owns_stars)\n",
    "recommender3 = model3.fit(sp_train_owns_stars)\n",
    "recommender4 = model4.fit(sp_train_owns_stars)\n",
    "recommender5 = model5.fit(sp_train_owns_stars)\n",
    "recommender6 = model6.fit(sp_train_owns_stars)\n",
    "recommender7 = model7.fit(sp_train_owns_stars)\n",
    "\n",
    "models = [recommender1, recommender2, recommender3, recommender4, recommender5, recommender6, recommender7]"
   ]
  },
  {
   "cell_type": "code",
   "execution_count": 51,
   "metadata": {},
   "outputs": [],
   "source": [
    "def evaluate_models(trained_models, testdf):\n",
    "    ranks = []\n",
    "    rmses = []\n",
    "    for model in trained_models:\n",
    "        predictions = model.transform(testdf)\n",
    "        pred_df = predictions.toPandas()\n",
    "        rawPredictions = spark.createDataFrame(pred_df.dropna(axis=0))\n",
    "        \n",
    "        predictions = rawPredictions\\\n",
    "        .withColumn(\"interest_rank\", rawPredictions.interest_rank.cast(\"double\"))\\\n",
    "        .withColumn(\"prediction\", rawPredictions.prediction.cast(\"double\"))\n",
    "       \n",
    "        evaluator =\\\n",
    "        RegressionEvaluator(metricName=\"rmse\", labelCol=\"interest_rank\", predictionCol=\"prediction\")\n",
    "        rmse = evaluator.evaluate(predictions)\n",
    "        \n",
    "        ranks.append(model.rank)\n",
    "        rmses.append(rmse)\n",
    "    return rmses, ranks\n",
    "    "
   ]
  },
  {
   "cell_type": "code",
   "execution_count": 52,
   "metadata": {},
   "outputs": [],
   "source": [
    "rmse, rank = evaluate_models(models, sp_test_owns_stars)"
   ]
  },
  {
   "cell_type": "code",
   "execution_count": 18,
   "metadata": {},
   "outputs": [
    {
     "data": {
      "text/plain": [
       "[0.3740496420218617,\n",
       " 0.32314478192966867,\n",
       " 0.3151265172986602,\n",
       " 0.30467200256505556,\n",
       " 0.29878662038768905,\n",
       " 0.2986263091786887,\n",
       " 0.2983536223108384]"
      ]
     },
     "execution_count": 18,
     "metadata": {},
     "output_type": "execute_result"
    }
   ],
   "source": [
    "rmse"
   ]
  },
  {
   "cell_type": "code",
   "execution_count": 19,
   "metadata": {},
   "outputs": [
    {
     "data": {
      "text/plain": [
       "[5, 10, 15, 20, 25, 30, 35]"
      ]
     },
     "execution_count": 19,
     "metadata": {},
     "output_type": "execute_result"
    }
   ],
   "source": [
    "rank"
   ]
  },
  {
   "cell_type": "markdown",
   "metadata": {},
   "source": [
    "# Use 25-30 latent features (rank)"
   ]
  },
  {
   "cell_type": "code",
   "execution_count": 36,
   "metadata": {},
   "outputs": [
    {
     "data": {
      "image/png": "[encoded data removed]",
      "text/plain": [
       "<matplotlib.figure.Figure at 0x7f1282b7c090>"
      ]
     },
     "metadata": {},
     "output_type": "display_data"
    }
   ],
   "source": [
    "fig, ax = plt.subplots(1,1, figsize=(10,7))\n",
    "ax.plot(rank, rmse)\n",
    "ax.set_title(\"Latent Features to RMSE\")\n",
    "ax.set_ylabel(\"Root Mean Squared Error\")\n",
    "ax.set_xlabel(\"# Latent Features\");"
   ]
  },
  {
   "cell_type": "markdown",
   "metadata": {},
   "source": [
    "# Other parameters: alpha"
   ]
  },
  {
   "cell_type": "code",
   "execution_count": 53,
   "metadata": {
    "collapsed": true
   },
   "outputs": [],
   "source": [
    "model8 = ALS(\n",
    "    itemCol='repo_id',\n",
    "    userCol='user_id',\n",
    "    ratingCol='interest_rank',\n",
    "    nonnegative=True,    \n",
    "    regParam=0.1,\n",
    "    rank=25,\n",
    "    maxIter=15,\n",
    "    alpha=1.0\n",
    "    ) \n",
    "\n",
    "model9 = ALS(\n",
    "    itemCol='repo_id',\n",
    "    userCol='user_id',\n",
    "    ratingCol='interest_rank',\n",
    "    nonnegative=True,    \n",
    "    regParam=0.1,\n",
    "    rank=25,\n",
    "    maxIter=15,\n",
    "    alpha=5.0\n",
    "    ) \n",
    "\n",
    "model10 = ALS(\n",
    "    itemCol='repo_id',\n",
    "    userCol='user_id',\n",
    "    ratingCol='interest_rank',\n",
    "    nonnegative=True,    \n",
    "    regParam=0.1,\n",
    "    rank=25,\n",
    "    maxIter=15,\n",
    "    alpha=20.0\n",
    "    ) \n",
    "\n",
    "recommender8 = model8.fit(sp_train_owns_stars)\n",
    "recommender9 = model9.fit(sp_train_owns_stars) \n",
    "recommender10 = model10.fit(sp_train_owns_stars) \n",
    "\n",
    "models_alpha = [recommender8, recommender9, recommender10]"
   ]
  },
  {
   "cell_type": "code",
   "execution_count": 54,
   "metadata": {
    "collapsed": true
   },
   "outputs": [],
   "source": [
    "rmse, alpha = evaluate_models(models_alpha, sp_test_owns_stars)"
   ]
  },
  {
   "cell_type": "code",
   "execution_count": 55,
   "metadata": {
    "collapsed": true
   },
   "outputs": [],
   "source": [
    "alpha = [1, 5, 20]"
   ]
  },
  {
   "cell_type": "markdown",
   "metadata": {},
   "source": [
    "## Using different alphas different change RMSE"
   ]
  },
  {
   "cell_type": "code",
   "execution_count": 56,
   "metadata": {},
   "outputs": [
    {
     "data": {
      "image/png": "[encoded data removed]",
      "text/plain": [
       "<matplotlib.figure.Figure at 0x7f1282d262d0>"
      ]
     },
     "metadata": {},
     "output_type": "display_data"
    }
   ],
   "source": [
    "fig, ax = plt.subplots(1,1, figsize=(10,7))\n",
    "ax.plot(alpha, rmse)\n",
    "ax.set_title(\"Alphas to RMSE\")\n",
    "ax.set_ylabel(\"Root Mean Squared Error\")\n",
    "ax.set_xlabel(\"Alpha\");"
   ]
  },
  {
   "cell_type": "code",
   "execution_count": null,
   "metadata": {
    "collapsed": true
   },
   "outputs": [],
   "source": []
  }
 ],
 "metadata": {
  "kernelspec": {
   "display_name": "Python 2",
   "language": "python",
   "name": "python2"
  },
  "language_info": {
   "codemirror_mode": {
    "name": "ipython",
    "version": 2
   },
   "file_extension": ".py",
   "mimetype": "text/x-python",
   "name": "python",
   "nbconvert_exporter": "python",
   "pygments_lexer": "ipython2",
   "version": "2.7.13"
  }
 },
 "nbformat": 4,
 "nbformat_minor": 2
}
