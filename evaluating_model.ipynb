{
 "cells": [
  {
   "cell_type": "code",
   "execution_count": 144,
   "metadata": {
    "collapsed": true
   },
   "outputs": [],
   "source": [
    "import pandas as pd\n",
    "import numpy as np\n",
    "import matplotlib.pyplot as plt\n",
    "%matplotlib inline\n",
    "plt.style.use('bmh')\n",
    "\n",
    "import pyspark\n",
    "from pyspark.sql import SparkSession\n",
    "from pyspark.ml.recommendation import ALS, ALSModel\n",
    "from pyspark.ml.evaluation import RegressionEvaluator\n",
    "# The following is only for working with RDDs\n",
    "# from pyspark.mllib.recommendation import ALS, MatrixFactorizationModel, Rating\n",
    "\n",
    "# Setup a SparkSession\n",
    "spark = SparkSession.builder.getOrCreate()"
   ]
  },
  {
   "cell_type": "code",
   "execution_count": 132,
   "metadata": {
    "collapsed": true
   },
   "outputs": [],
   "source": [
    "traindata = pd.read_csv('data/new_subset_data/final_train_data.csv')\n",
    "testdata = pd.read_csv('data/new_subset_data/final_test_data.csv')\n",
    "\n",
    "sp_train = spark.createDataFrame(traindata)\n",
    "sp_test = spark.createDataFrame(testdata)"
   ]
  },
  {
   "cell_type": "code",
   "execution_count": 133,
   "metadata": {},
   "outputs": [
    {
     "name": "stdout",
     "output_type": "stream",
     "text": [
      "root\n",
      " |-- user: long (nullable = true)\n",
      " |-- item: long (nullable = true)\n",
      " |-- rating: double (nullable = true)\n",
      "\n",
      "root\n",
      " |-- user: long (nullable = true)\n",
      " |-- item: long (nullable = true)\n",
      " |-- rating: double (nullable = true)\n",
      "\n"
     ]
    }
   ],
   "source": [
    "#Change column names to something Spark has hardcoded into their GridSearch feature for dataframes\n",
    "oldColumns = sp_train.schema.names\n",
    "newColumns = [\"user\", \"item\", \"rating\"]\n",
    "\n",
    "sp_train = reduce(lambda sp_train, idx: sp_train.withColumnRenamed(oldColumns[idx], newColumns[idx]), xrange(len(oldColumns)), sp_train)\n",
    "sp_train.printSchema()\n",
    "\n",
    "#Change column names to something Spark has hardcoded into their GridSearch feature for dataframes\n",
    "oldColumns = sp_test.schema.names\n",
    "newColumns = [\"user\", \"item\", \"rating\"]\n",
    "\n",
    "sp_test = reduce(lambda sp_test, idx: sp_test.withColumnRenamed(oldColumns[idx], newColumns[idx]), xrange(len(oldColumns)), sp_test)\n",
    "sp_test.printSchema()"
   ]
  },
  {
   "cell_type": "markdown",
   "metadata": {},
   "source": [
    "# Load entire dataset for use in crossval gridsearch"
   ]
  },
  {
   "cell_type": "code",
   "execution_count": 100,
   "metadata": {
    "collapsed": true
   },
   "outputs": [],
   "source": [
    "entiredata = pd.read_csv('data/new_subset_data/ratings_data.csv', sep='\\t')\n",
    "\n",
    "sp_entire = spark.createDataFrame(entiredata)"
   ]
  },
  {
   "cell_type": "code",
   "execution_count": 101,
   "metadata": {
    "collapsed": true
   },
   "outputs": [
    {
     "name": "stdout",
     "output_type": "stream",
     "text": [
      "root\n",
      " |-- user: long (nullable = true)\n",
      " |-- item: long (nullable = true)\n",
      " |-- rating: double (nullable = true)\n",
      "\n",
      "+----+----+------+\n",
      "|user|item|rating|\n",
      "+----+----+------+\n",
      "|   4|   2|   4.0|\n",
      "|  23|   3|   4.0|\n",
      "|  28|   5|   4.0|\n",
      "|  31|   6|   4.0|\n",
      "|  67|  10|   6.0|\n",
      "|  69|  11|   4.0|\n",
      "|  78|  19|   4.0|\n",
      "|  86|  23|   4.0|\n",
      "|  89|  27|   4.0|\n",
      "| 111|  29|   4.0|\n",
      "| 136|  31|   4.0|\n",
      "| 142|  34|   4.0|\n",
      "| 145|  35|   4.0|\n",
      "| 159|  37|   4.0|\n",
      "| 161|  39|   4.0|\n",
      "| 166|  40|   4.0|\n",
      "| 178|  42|   4.0|\n",
      "| 208|  49|   4.0|\n",
      "| 216|  52|   4.0|\n",
      "| 272|  55|   4.0|\n",
      "+----+----+------+\n",
      "only showing top 20 rows\n",
      "\n"
     ]
    }
   ],
   "source": [
    "#Change column names to something Spark has hardcoded into their GridSearch feature for dataframes\n",
    "oldColumns = sp_entire.schema.names\n",
    "newColumns = [\"user\", \"item\", \"rating\"]\n",
    "\n",
    "sp_entire = reduce(lambda sp_entire, idx: sp_entire.withColumnRenamed(oldColumns[idx], newColumns[idx]), xrange(len(oldColumns)), sp_entire)\n",
    "sp_entire.printSchema()\n",
    "sp_entire.show()"
   ]
  },
  {
   "cell_type": "code",
   "execution_count": 102,
   "metadata": {
    "collapsed": true
   },
   "outputs": [],
   "source": [
    "# define models using different ranks\n",
    "model0 = ALS(\n",
    "    itemCol='item',\n",
    "    userCol='user',\n",
    "    ratingCol='rating',\n",
    "    nonnegative=True,    \n",
    "    regParam=0.1,\n",
    "    rank=1,\n",
    "    maxIter=15\n",
    "    ) \n",
    "\n",
    "model1 = ALS(\n",
    "    itemCol='item',\n",
    "    userCol='user',\n",
    "    ratingCol='rating',\n",
    "    nonnegative=True,    \n",
    "    regParam=0.1,\n",
    "    rank=5,\n",
    "    maxIter=15\n",
    "    ) \n",
    "\n",
    "model2 = ALS(\n",
    "    itemCol='item',\n",
    "    userCol='user',\n",
    "    ratingCol='rating',\n",
    "    nonnegative=True,    \n",
    "    regParam=0.1,\n",
    "    rank=7,\n",
    "    maxIter=15\n",
    "    )\n",
    "\n",
    "model3 = ALS(\n",
    "    itemCol='item',\n",
    "    userCol='user',\n",
    "    ratingCol='rating',\n",
    "    nonnegative=True,    \n",
    "    regParam=0.1,\n",
    "    rank=10,\n",
    "    maxIter=15\n",
    "    )\n",
    "\n",
    "model4 = ALS(\n",
    "    itemCol='item',\n",
    "    userCol='user',\n",
    "    ratingCol='rating',\n",
    "    nonnegative=True,    \n",
    "    regParam=0.1,\n",
    "    rank=15,\n",
    "    maxIter=15\n",
    "    )\n",
    "\n",
    "model5 = ALS(\n",
    "    itemCol='item',\n",
    "    userCol='user',\n",
    "    ratingCol='rating',\n",
    "    nonnegative=True,    \n",
    "    regParam=0.1,\n",
    "    rank=20,\n",
    "    maxIter=15\n",
    "    )\n",
    "\n",
    "model6 = ALS(\n",
    "    itemCol='item',\n",
    "    userCol='user',\n",
    "    ratingCol='rating',\n",
    "    nonnegative=True,    \n",
    "    regParam=0.1,\n",
    "    rank=25,\n",
    "    maxIter=15\n",
    "    )\n",
    "\n",
    "model7 = ALS(\n",
    "    itemCol='item',\n",
    "    userCol='user',\n",
    "    ratingCol='rating',\n",
    "    nonnegative=True,    \n",
    "    regParam=0.1,\n",
    "    rank=30,\n",
    "    maxIter=15\n",
    "    )\n",
    "\n",
    "model8 = ALS(\n",
    "    itemCol='item',\n",
    "    userCol='user',\n",
    "    ratingCol='rating',\n",
    "    nonnegative=True,    \n",
    "    regParam=0.1,\n",
    "    rank=40,\n",
    "    maxIter=15\n",
    "    )"
   ]
  },
  {
   "cell_type": "code",
   "execution_count": 103,
   "metadata": {
    "collapsed": true
   },
   "outputs": [],
   "source": [
    "# Fit models\n",
    "recommender0 = model0.fit(sp_train)\n",
    "recommender1 = model1.fit(sp_train)\n",
    "recommender2 = model2.fit(sp_train)\n",
    "recommender3 = model3.fit(sp_train)\n",
    "recommender4 = model4.fit(sp_train)\n",
    "recommender5 = model5.fit(sp_train)\n",
    "recommender6 = model6.fit(sp_train)\n",
    "recommender7 = model7.fit(sp_train)\n",
    "recommender8 = model8.fit(sp_train)\n",
    "\n",
    "models = [recommender0, recommender1, recommender2, recommender3, recommender4, \n",
    "          recommender5, recommender6, recommender7, recommender8]"
   ]
  },
  {
   "cell_type": "code",
   "execution_count": 104,
   "metadata": {
    "collapsed": true
   },
   "outputs": [],
   "source": [
    "def evaluate_models(trained_models, testdf, metric='rmse'):\n",
    "    '''\n",
    "    INPUT: list of trained models, and spark dataframe of training data\n",
    "    OUTPUT: list of rmses, and list of ranks associated with models\n",
    "    \n",
    "    trained_models = [recommender1, recommender2]\n",
    "    testdf = spark.createDataFrame(test_pandas_df)\n",
    "    \n",
    "    rmses, ranks =  evaluate_models(trained_models, testdf)\n",
    "    '''\n",
    "    ranks = []\n",
    "    rmses = []\n",
    "    for model in trained_models:\n",
    "        predictions = model.transform(testdf)\n",
    "        pred_df = predictions.toPandas()\n",
    "        rawPredictions = spark.createDataFrame(pred_df.dropna(axis=0))\n",
    "        \n",
    "        predictions = rawPredictions\\\n",
    "        .withColumn(\"rating\", rawPredictions.rating.cast(\"double\"))\\\n",
    "        .withColumn(\"prediction\", rawPredictions.prediction.cast(\"double\"))\n",
    "       \n",
    "        evaluator =\\\n",
    "        RegressionEvaluator(metricName=metric, labelCol=\"rating\", predictionCol=\"prediction\")\n",
    "        rmse = evaluator.evaluate(predictions)\n",
    "        \n",
    "        ranks.append(model.rank)\n",
    "        rmses.append(rmse)\n",
    "    return rmses, ranks\n",
    "    "
   ]
  },
  {
   "cell_type": "code",
   "execution_count": 105,
   "metadata": {
    "collapsed": true
   },
   "outputs": [],
   "source": [
    "rmses, ranks = evaluate_models(models, sp_test, metric='rmse')"
   ]
  },
  {
   "cell_type": "code",
   "execution_count": 106,
   "metadata": {
    "collapsed": true
   },
   "outputs": [],
   "source": [
    "rmsestrain, rankstrain = evaluate_models(models, sp_train, metric='rmse')"
   ]
  },
  {
   "cell_type": "markdown",
   "metadata": {},
   "source": [
    "# Use 25-30 latent features (rank)"
   ]
  },
  {
   "cell_type": "code",
   "execution_count": 118,
   "metadata": {},
   "outputs": [
    {
     "data": {
      "image/png": "[encoded data removed]",
      "text/plain": [
       "<matplotlib.figure.Figure at 0x7f675994f090>"
      ]
     },
     "metadata": {},
     "output_type": "display_data"
    }
   ],
   "source": [
    "fig, ax = plt.subplots(1,1, figsize=(10,7))\n",
    "\n",
    "ax.plot(ranks, rmses, label='Test', c='blue')\n",
    "ax.plot(rankstrain, rmsestrain, label='Train', c='blue', ls='dashed')\n",
    "ax.axhline(mean_rmse, label='Mean', ls='dashed', c='red')\n",
    "\n",
    "ax.set_title(\"Latent Features to RMSE\")\n",
    "ax.set_ylabel(\"Root Mean Squared Error\")\n",
    "ax.set_xlabel(\"# Latent Features\")\n",
    "ax.legend()\n",
    "fig.savefig('/home/ubuntu/PROJECT/github-collaborator/matplots/RMSE.png');"
   ]
  },
  {
   "cell_type": "markdown",
   "metadata": {},
   "source": [
    "### playing with imputing random 'predictions' instead of actual predictions"
   ]
  },
  {
   "cell_type": "code",
   "execution_count": 119,
   "metadata": {},
   "outputs": [
    {
     "data": {
      "text/plain": [
       "6.0"
      ]
     },
     "execution_count": 119,
     "metadata": {},
     "output_type": "execute_result"
    }
   ],
   "source": [
    "np.random.choice([2.0, 4.0, 6.0])"
   ]
  },
  {
   "cell_type": "code",
   "execution_count": 120,
   "metadata": {},
   "outputs": [
    {
     "data": {
      "text/html": [
       "<div>\n",
       "<style>\n",
       "    .dataframe thead tr:only-child th {\n",
       "        text-align: right;\n",
       "    }\n",
       "\n",
       "    .dataframe thead th {\n",
       "        text-align: left;\n",
       "    }\n",
       "\n",
       "    .dataframe tbody tr th {\n",
       "        vertical-align: top;\n",
       "    }\n",
       "</style>\n",
       "<table border=\"1\" class=\"dataframe\">\n",
       "  <thead>\n",
       "    <tr style=\"text-align: right;\">\n",
       "      <th></th>\n",
       "      <th>actual</th>\n",
       "      <th>prediciton</th>\n",
       "    </tr>\n",
       "  </thead>\n",
       "  <tbody>\n",
       "    <tr>\n",
       "      <th>0</th>\n",
       "      <td>2.0</td>\n",
       "      <td>6.0</td>\n",
       "    </tr>\n",
       "    <tr>\n",
       "      <th>1</th>\n",
       "      <td>2.0</td>\n",
       "      <td>2.0</td>\n",
       "    </tr>\n",
       "    <tr>\n",
       "      <th>2</th>\n",
       "      <td>6.0</td>\n",
       "      <td>2.0</td>\n",
       "    </tr>\n",
       "    <tr>\n",
       "      <th>3</th>\n",
       "      <td>4.0</td>\n",
       "      <td>2.0</td>\n",
       "    </tr>\n",
       "  </tbody>\n",
       "</table>\n",
       "</div>"
      ],
      "text/plain": [
       "   actual  prediciton\n",
       "0     2.0         6.0\n",
       "1     2.0         2.0\n",
       "2     6.0         2.0\n",
       "3     4.0         2.0"
      ]
     },
     "execution_count": 120,
     "metadata": {},
     "output_type": "execute_result"
    }
   ],
   "source": [
    "fakedf = pd.DataFrame({'actual': [2.0, 2.0, 6.0, 4.0]})\n",
    "fakedf['prediciton'] = pd.Series([np.random.choice([2.0, 4.0, 6.0]) for _ in range(fakedf.shape[0])])\n",
    "fakedf"
   ]
  },
  {
   "cell_type": "code",
   "execution_count": 121,
   "metadata": {},
   "outputs": [
    {
     "data": {
      "text/plain": [
       "3.5"
      ]
     },
     "execution_count": 121,
     "metadata": {},
     "output_type": "execute_result"
    }
   ],
   "source": [
    "fakemean = np.mean(fakedf.actual)\n",
    "fakemean"
   ]
  },
  {
   "cell_type": "code",
   "execution_count": 122,
   "metadata": {},
   "outputs": [
    {
     "data": {
      "text/html": [
       "<div>\n",
       "<style>\n",
       "    .dataframe thead tr:only-child th {\n",
       "        text-align: right;\n",
       "    }\n",
       "\n",
       "    .dataframe thead th {\n",
       "        text-align: left;\n",
       "    }\n",
       "\n",
       "    .dataframe tbody tr th {\n",
       "        vertical-align: top;\n",
       "    }\n",
       "</style>\n",
       "<table border=\"1\" class=\"dataframe\">\n",
       "  <thead>\n",
       "    <tr style=\"text-align: right;\">\n",
       "      <th></th>\n",
       "      <th>actual</th>\n",
       "      <th>prediciton</th>\n",
       "    </tr>\n",
       "  </thead>\n",
       "  <tbody>\n",
       "    <tr>\n",
       "      <th>0</th>\n",
       "      <td>2.0</td>\n",
       "      <td>3.5</td>\n",
       "    </tr>\n",
       "    <tr>\n",
       "      <th>1</th>\n",
       "      <td>2.0</td>\n",
       "      <td>3.5</td>\n",
       "    </tr>\n",
       "    <tr>\n",
       "      <th>2</th>\n",
       "      <td>6.0</td>\n",
       "      <td>3.5</td>\n",
       "    </tr>\n",
       "    <tr>\n",
       "      <th>3</th>\n",
       "      <td>4.0</td>\n",
       "      <td>3.5</td>\n",
       "    </tr>\n",
       "  </tbody>\n",
       "</table>\n",
       "</div>"
      ],
      "text/plain": [
       "   actual  prediciton\n",
       "0     2.0         3.5\n",
       "1     2.0         3.5\n",
       "2     6.0         3.5\n",
       "3     4.0         3.5"
      ]
     },
     "execution_count": 122,
     "metadata": {},
     "output_type": "execute_result"
    }
   ],
   "source": [
    "fakedf['prediciton'] = fakemean\n",
    "fakedf"
   ]
  },
  {
   "cell_type": "markdown",
   "metadata": {
    "collapsed": true
   },
   "source": [
    "# Final model performance"
   ]
  },
  {
   "cell_type": "code",
   "execution_count": 119,
   "metadata": {},
   "outputs": [
    {
     "name": "stdout",
     "output_type": "stream",
     "text": [
      "root\n",
      " |-- user: long (nullable = true)\n",
      " |-- item: long (nullable = true)\n",
      " |-- rating: double (nullable = true)\n",
      "\n"
     ]
    }
   ],
   "source": [
    "sp_test.printSchema()"
   ]
  },
  {
   "cell_type": "code",
   "execution_count": 120,
   "metadata": {
    "collapsed": true
   },
   "outputs": [],
   "source": [
    "final_als = ALS(\n",
    "    itemCol='item',\n",
    "    userCol='user',\n",
    "    ratingCol='rating',\n",
    "    nonnegative=True,    \n",
    "    regParam=0.1,\n",
    "    rank=25,\n",
    "    maxIter=15\n",
    "    ) \n",
    "final_model = final_als.fit(sp_train)\n",
    "\n",
    "fin_rmses, fin_ranks = evaluate_models([final_model], sp_test, metric='rmse')"
   ]
  },
  {
   "cell_type": "code",
   "execution_count": 121,
   "metadata": {},
   "outputs": [
    {
     "data": {
      "text/plain": [
       "'Final model has RMSE of : 0.2904'"
      ]
     },
     "execution_count": 121,
     "metadata": {},
     "output_type": "execute_result"
    }
   ],
   "source": [
    "\"Final model has RMSE of : {:.4f}\".format(fin_rmses[0])"
   ]
  },
  {
   "cell_type": "markdown",
   "metadata": {},
   "source": [
    "# Versus predicting random rank for all (2, 4, or 6)"
   ]
  },
  {
   "cell_type": "code",
   "execution_count": 111,
   "metadata": {},
   "outputs": [
    {
     "name": "stdout",
     "output_type": "stream",
     "text": [
      "Model imputed with random rank values for predictions has RMSE of : 2.5818\n"
     ]
    }
   ],
   "source": [
    "import numpy as np\n",
    "\n",
    "# Using random choice of 2, 4, or 6\n",
    "predictions_random = alsModel.transform(sp_test)\n",
    "\n",
    "pred_df = predictions_random.toPandas()\n",
    "pred_df = pred_df.dropna(axis=0)\n",
    "pred_df['prediction'] = pd.Series([np.random.choice([2.0, 4.0, 6.0]) for _ in range(pred_df.shape[0])])\n",
    "\n",
    "rawPredictions = spark.createDataFrame(pred_df.dropna(axis=0))\n",
    "\n",
    "predictions = rawPredictions\\\n",
    ".withColumn(\"rating\", rawPredictions.rating.cast(\"double\"))\\\n",
    ".withColumn(\"prediction\", rawPredictions.prediction.cast(\"double\"))\n",
    "\n",
    "evaluator =\\\n",
    "RegressionEvaluator(metricName=\"rmse\", labelCol=\"rating\", predictionCol=\"prediction\")\n",
    "rand_rmse = evaluator.evaluate(predictions)\n",
    "\n",
    "print \"Model imputed with random rank values for predictions has RMSE of : {:.4f}\".format(rand_rmse)"
   ]
  },
  {
   "cell_type": "code",
   "execution_count": 145,
   "metadata": {},
   "outputs": [
    {
     "name": "stdout",
     "output_type": "stream",
     "text": [
      "Model imputed with random rank values for predictions has RMSE of : 0.5560\n"
     ]
    }
   ],
   "source": [
    "import numpy as np\n",
    "\n",
    "# Using mean rank\n",
    "predictions_random = alsModel.transform(sp_test)\n",
    "\n",
    "pred_df = predictions_random.toPandas()\n",
    "mean_rank = np.mean(pred_df.rating)\n",
    "pred_df = pred_df.dropna(axis=0)\n",
    "pred_df['prediction'] = mean_rank\n",
    "\n",
    "rawPredictions = spark.createDataFrame(pred_df.dropna(axis=0))\n",
    "\n",
    "predictions = rawPredictions\\\n",
    ".withColumn(\"rating\", rawPredictions.rating.cast(\"double\"))\\\n",
    ".withColumn(\"prediction\", rawPredictions.prediction.cast(\"double\"))\n",
    "\n",
    "evaluator =\\\n",
    "RegressionEvaluator(metricName=\"rmse\", labelCol=\"rating\", predictionCol=\"prediction\")\n",
    "mean_rmse = evaluator.evaluate(predictions)\n",
    "\n",
    "print \"Model imputed with random rank values for predictions has RMSE of : {:.4f}\".format(mean_rmse)"
   ]
  },
  {
   "cell_type": "markdown",
   "metadata": {},
   "source": [
    "# Save Final Model"
   ]
  },
  {
   "cell_type": "code",
   "execution_count": 123,
   "metadata": {
    "collapsed": true
   },
   "outputs": [],
   "source": [
    "final_model.save(\"/home/ubuntu/PROJECT/github-collaborator/data/models/finalModel\")"
   ]
  },
  {
   "cell_type": "markdown",
   "metadata": {},
   "source": [
    "# GridSearch"
   ]
  },
  {
   "cell_type": "code",
   "execution_count": 134,
   "metadata": {
    "collapsed": true
   },
   "outputs": [],
   "source": [
    "from pyspark.ml.tuning import CrossValidator, ParamGridBuilder"
   ]
  },
  {
   "cell_type": "code",
   "execution_count": 139,
   "metadata": {
    "collapsed": true
   },
   "outputs": [],
   "source": [
    "als = ALS(nonnegative=True)\n",
    "\n",
    "paramGrid = ParamGridBuilder() \\\n",
    "    .addGrid(als.maxIter, [15, 30]) \\\n",
    "    .addGrid(als.regParam, [1, 0.1, 0.01, 5]) \\\n",
    "    .addGrid(als.rank, [10,15,20,25,30,35,40]) \\\n",
    "    .build()\n",
    "    \n",
    "crossval = CrossValidator(estimator=als,\n",
    "                      estimatorParamMaps=paramGrid,\n",
    "                      evaluator=RegressionEvaluator(\n",
    "                          metricName=\"rmse\", \n",
    "                          labelCol=\"rating\"),\n",
    "                      numFolds=7)\n",
    "\n",
    "# Run cross-validation, and choose the best set of parameters.\n",
    "alsModel = crossval.fit(sp_train)\n",
    "alsModel.bestModel.save('/home/ubuntu/PROJECT/github-collaborator/data/models/CVmodel')"
   ]
  },
  {
   "cell_type": "code",
   "execution_count": 143,
   "metadata": {},
   "outputs": [],
   "source": [
    "alsModel = ALSModel.load('/home/ubuntu/PROJECT/github-collaborator/data/models/CVmodel')\n",
    "alsModel."
   ]
  },
  {
   "cell_type": "code",
   "execution_count": 128,
   "metadata": {
    "collapsed": true
   },
   "outputs": [],
   "source": [
    "cvrmses, cvranks = evaluate_models([alsModel.bestModel], sp_test, metric='rmse')"
   ]
  },
  {
   "cell_type": "code",
   "execution_count": 140,
   "metadata": {},
   "outputs": [
    {
     "data": {
      "text/plain": [
       "[0.9676345450302812]"
      ]
     },
     "execution_count": 140,
     "metadata": {},
     "output_type": "execute_result"
    }
   ],
   "source": [
    "cvrmses"
   ]
  },
  {
   "cell_type": "code",
   "execution_count": 141,
   "metadata": {},
   "outputs": [
    {
     "data": {
      "text/plain": [
       "[10]"
      ]
     },
     "execution_count": 141,
     "metadata": {},
     "output_type": "execute_result"
    }
   ],
   "source": [
    "cvranks"
   ]
  },
  {
   "cell_type": "markdown",
   "metadata": {},
   "source": [
    "## Recommend"
   ]
  },
  {
   "cell_type": "code",
   "execution_count": 146,
   "metadata": {
    "collapsed": true
   },
   "outputs": [],
   "source": [
    "Model = ALSModel.load(\"/home/ubuntu/PROJECT/github-collaborator/data/models/finalModel\")\n",
    "CVModel = ALSModel.load('/home/ubuntu/PROJECT/github-collaborator/data/models/CVmodel/')"
   ]
  },
  {
   "cell_type": "code",
   "execution_count": 147,
   "metadata": {
    "collapsed": true
   },
   "outputs": [],
   "source": [
    "repos = pd.read_pickle('data/pickled/new_subset_repos.pkl')\n",
    "users = pd.read_pickle('data/pickled/new_subset_users.pkl')"
   ]
  },
  {
   "cell_type": "code",
   "execution_count": 150,
   "metadata": {},
   "outputs": [
    {
     "data": {
      "text/plain": [
       "3384558"
      ]
     },
     "execution_count": 150,
     "metadata": {},
     "output_type": "execute_result"
    }
   ],
   "source": [
    "int(users['id'].loc[users['login'] == 'caitriggs'])"
   ]
  },
  {
   "cell_type": "code",
   "execution_count": 82,
   "metadata": {
    "collapsed": true
   },
   "outputs": [],
   "source": [
    "def recommend_repos(model, users_df, repos_df, username):\n",
    "    user = int(users_df['id'].loc[users_df['login'] == username])\n",
    "    prediction_df = pd.DataFrame(repos_df['id'])\n",
    "    prediction_df['user'] = user\n",
    "    prediction_df = prediction_df.rename(columns={'id':'item'})\n",
    "    \n",
    "    pred_df = spark.createDataFrame(prediction_df)\n",
    "    predictions_user = model.transform(pred_df)\n",
    "    return predictions_user.toPandas().sort_values('prediction', ascending=False).head(10)\n",
    "    "
   ]
  },
  {
   "cell_type": "code",
   "execution_count": 151,
   "metadata": {},
   "outputs": [
    {
     "name": "stdout",
     "output_type": "stream",
     "text": [
      "Index([u'item', u'user'], dtype='object')\n"
     ]
    },
    {
     "data": {
      "text/html": [
       "<div>\n",
       "<style>\n",
       "    .dataframe thead tr:only-child th {\n",
       "        text-align: right;\n",
       "    }\n",
       "\n",
       "    .dataframe thead th {\n",
       "        text-align: left;\n",
       "    }\n",
       "\n",
       "    .dataframe tbody tr th {\n",
       "        vertical-align: top;\n",
       "    }\n",
       "</style>\n",
       "<table border=\"1\" class=\"dataframe\">\n",
       "  <thead>\n",
       "    <tr style=\"text-align: right;\">\n",
       "      <th></th>\n",
       "      <th>item</th>\n",
       "      <th>user</th>\n",
       "      <th>prediction</th>\n",
       "    </tr>\n",
       "  </thead>\n",
       "  <tbody>\n",
       "    <tr>\n",
       "      <th>168844</th>\n",
       "      <td>32144805</td>\n",
       "      <td>3384558</td>\n",
       "      <td>6.549193</td>\n",
       "    </tr>\n",
       "    <tr>\n",
       "      <th>943443</th>\n",
       "      <td>13745548</td>\n",
       "      <td>3384558</td>\n",
       "      <td>6.495636</td>\n",
       "    </tr>\n",
       "    <tr>\n",
       "      <th>585358</th>\n",
       "      <td>10908073</td>\n",
       "      <td>3384558</td>\n",
       "      <td>6.495636</td>\n",
       "    </tr>\n",
       "    <tr>\n",
       "      <th>717768</th>\n",
       "      <td>1098428</td>\n",
       "      <td>3384558</td>\n",
       "      <td>6.495636</td>\n",
       "    </tr>\n",
       "    <tr>\n",
       "      <th>741020</th>\n",
       "      <td>21509204</td>\n",
       "      <td>3384558</td>\n",
       "      <td>6.441789</td>\n",
       "    </tr>\n",
       "    <tr>\n",
       "      <th>96674</th>\n",
       "      <td>2559614</td>\n",
       "      <td>3384558</td>\n",
       "      <td>6.358458</td>\n",
       "    </tr>\n",
       "    <tr>\n",
       "      <th>66780</th>\n",
       "      <td>26336982</td>\n",
       "      <td>3384558</td>\n",
       "      <td>6.358389</td>\n",
       "    </tr>\n",
       "    <tr>\n",
       "      <th>221087</th>\n",
       "      <td>12983788</td>\n",
       "      <td>3384558</td>\n",
       "      <td>6.342174</td>\n",
       "    </tr>\n",
       "    <tr>\n",
       "      <th>577086</th>\n",
       "      <td>42964577</td>\n",
       "      <td>3384558</td>\n",
       "      <td>6.342174</td>\n",
       "    </tr>\n",
       "    <tr>\n",
       "      <th>249199</th>\n",
       "      <td>28085873</td>\n",
       "      <td>3384558</td>\n",
       "      <td>6.313771</td>\n",
       "    </tr>\n",
       "  </tbody>\n",
       "</table>\n",
       "</div>"
      ],
      "text/plain": [
       "            item     user  prediction\n",
       "168844  32144805  3384558    6.549193\n",
       "943443  13745548  3384558    6.495636\n",
       "585358  10908073  3384558    6.495636\n",
       "717768   1098428  3384558    6.495636\n",
       "741020  21509204  3384558    6.441789\n",
       "96674    2559614  3384558    6.358458\n",
       "66780   26336982  3384558    6.358389\n",
       "221087  12983788  3384558    6.342174\n",
       "577086  42964577  3384558    6.342174\n",
       "249199  28085873  3384558    6.313771"
      ]
     },
     "execution_count": 151,
     "metadata": {},
     "output_type": "execute_result"
    }
   ],
   "source": [
    "cait_reco = recommend_repos(Model, users, repos, 'caitriggs')\n",
    "cait_reco"
   ]
  },
  {
   "cell_type": "code",
   "execution_count": 152,
   "metadata": {},
   "outputs": [
    {
     "name": "stdout",
     "output_type": "stream",
     "text": [
      "Index([u'item', u'user'], dtype='object')\n"
     ]
    },
    {
     "data": {
      "text/html": [
       "<div>\n",
       "<style>\n",
       "    .dataframe thead tr:only-child th {\n",
       "        text-align: right;\n",
       "    }\n",
       "\n",
       "    .dataframe thead th {\n",
       "        text-align: left;\n",
       "    }\n",
       "\n",
       "    .dataframe tbody tr th {\n",
       "        vertical-align: top;\n",
       "    }\n",
       "</style>\n",
       "<table border=\"1\" class=\"dataframe\">\n",
       "  <thead>\n",
       "    <tr style=\"text-align: right;\">\n",
       "      <th></th>\n",
       "      <th>item</th>\n",
       "      <th>user</th>\n",
       "      <th>prediction</th>\n",
       "    </tr>\n",
       "  </thead>\n",
       "  <tbody>\n",
       "    <tr>\n",
       "      <th>166642</th>\n",
       "      <td>5376946</td>\n",
       "      <td>3384558</td>\n",
       "      <td>3.979448</td>\n",
       "    </tr>\n",
       "    <tr>\n",
       "      <th>1055674</th>\n",
       "      <td>15409390</td>\n",
       "      <td>3384558</td>\n",
       "      <td>3.979329</td>\n",
       "    </tr>\n",
       "    <tr>\n",
       "      <th>939597</th>\n",
       "      <td>34001531</td>\n",
       "      <td>3384558</td>\n",
       "      <td>3.979177</td>\n",
       "    </tr>\n",
       "    <tr>\n",
       "      <th>404725</th>\n",
       "      <td>27313720</td>\n",
       "      <td>3384558</td>\n",
       "      <td>3.979140</td>\n",
       "    </tr>\n",
       "    <tr>\n",
       "      <th>643148</th>\n",
       "      <td>2946617</td>\n",
       "      <td>3384558</td>\n",
       "      <td>3.979140</td>\n",
       "    </tr>\n",
       "    <tr>\n",
       "      <th>414833</th>\n",
       "      <td>19478412</td>\n",
       "      <td>3384558</td>\n",
       "      <td>3.979106</td>\n",
       "    </tr>\n",
       "    <tr>\n",
       "      <th>698709</th>\n",
       "      <td>25260835</td>\n",
       "      <td>3384558</td>\n",
       "      <td>3.979105</td>\n",
       "    </tr>\n",
       "    <tr>\n",
       "      <th>671879</th>\n",
       "      <td>27435507</td>\n",
       "      <td>3384558</td>\n",
       "      <td>3.979023</td>\n",
       "    </tr>\n",
       "    <tr>\n",
       "      <th>247773</th>\n",
       "      <td>9729989</td>\n",
       "      <td>3384558</td>\n",
       "      <td>3.979020</td>\n",
       "    </tr>\n",
       "    <tr>\n",
       "      <th>328471</th>\n",
       "      <td>11428670</td>\n",
       "      <td>3384558</td>\n",
       "      <td>3.978911</td>\n",
       "    </tr>\n",
       "  </tbody>\n",
       "</table>\n",
       "</div>"
      ],
      "text/plain": [
       "             item     user  prediction\n",
       "166642    5376946  3384558    3.979448\n",
       "1055674  15409390  3384558    3.979329\n",
       "939597   34001531  3384558    3.979177\n",
       "404725   27313720  3384558    3.979140\n",
       "643148    2946617  3384558    3.979140\n",
       "414833   19478412  3384558    3.979106\n",
       "698709   25260835  3384558    3.979105\n",
       "671879   27435507  3384558    3.979023\n",
       "247773    9729989  3384558    3.979020\n",
       "328471   11428670  3384558    3.978911"
      ]
     },
     "execution_count": 152,
     "metadata": {},
     "output_type": "execute_result"
    }
   ],
   "source": [
    "cait_reco_cv = recommend_repos(CVModel, users, repos, 'caitriggs')\n",
    "cait_reco_cv"
   ]
  },
  {
   "cell_type": "code",
   "execution_count": 157,
   "metadata": {},
   "outputs": [
    {
     "data": {
      "text/html": [
       "<div>\n",
       "<style>\n",
       "    .dataframe thead tr:only-child th {\n",
       "        text-align: right;\n",
       "    }\n",
       "\n",
       "    .dataframe thead th {\n",
       "        text-align: left;\n",
       "    }\n",
       "\n",
       "    .dataframe tbody tr th {\n",
       "        vertical-align: top;\n",
       "    }\n",
       "</style>\n",
       "<table border=\"1\" class=\"dataframe\">\n",
       "  <thead>\n",
       "    <tr style=\"text-align: right;\">\n",
       "      <th></th>\n",
       "      <th>id</th>\n",
       "      <th>url</th>\n",
       "      <th>owner_id</th>\n",
       "      <th>name</th>\n",
       "      <th>language</th>\n",
       "      <th>created_at</th>\n",
       "      <th>forked_from</th>\n",
       "    </tr>\n",
       "  </thead>\n",
       "  <tbody>\n",
       "    <tr>\n",
       "      <th>290462</th>\n",
       "      <td>10908073</td>\n",
       "      <td>https://api.github.com/repos/pkt/apt-transport...</td>\n",
       "      <td>343773</td>\n",
       "      <td>apt-transport-sftp</td>\n",
       "      <td>C++</td>\n",
       "      <td>2012-03-13 15:28:49</td>\n",
       "      <td>0</td>\n",
       "    </tr>\n",
       "  </tbody>\n",
       "</table>\n",
       "</div>"
      ],
      "text/plain": [
       "              id                                                url  owner_id  \\\n",
       "290462  10908073  https://api.github.com/repos/pkt/apt-transport...    343773   \n",
       "\n",
       "                      name language          created_at  forked_from  \n",
       "290462  apt-transport-sftp      C++ 2012-03-13 15:28:49            0  "
      ]
     },
     "execution_count": 157,
     "metadata": {},
     "output_type": "execute_result"
    }
   ],
   "source": [
    "#Top recommendations from Model\n",
    "repos[repos.id == 2559614]"
   ]
  },
  {
   "cell_type": "code",
   "execution_count": 159,
   "metadata": {},
   "outputs": [
    {
     "data": {
      "text/html": [
       "<div>\n",
       "<style>\n",
       "    .dataframe thead tr:only-child th {\n",
       "        text-align: right;\n",
       "    }\n",
       "\n",
       "    .dataframe thead th {\n",
       "        text-align: left;\n",
       "    }\n",
       "\n",
       "    .dataframe tbody tr th {\n",
       "        vertical-align: top;\n",
       "    }\n",
       "</style>\n",
       "<table border=\"1\" class=\"dataframe\">\n",
       "  <thead>\n",
       "    <tr style=\"text-align: right;\">\n",
       "      <th></th>\n",
       "      <th>id</th>\n",
       "      <th>url</th>\n",
       "      <th>owner_id</th>\n",
       "      <th>name</th>\n",
       "      <th>language</th>\n",
       "      <th>created_at</th>\n",
       "      <th>forked_from</th>\n",
       "    </tr>\n",
       "  </thead>\n",
       "  <tbody>\n",
       "    <tr>\n",
       "      <th>512671</th>\n",
       "      <td>25260835</td>\n",
       "      <td>https://api.github.com/repos/robeastham/RealSe...</td>\n",
       "      <td>7575</td>\n",
       "      <td>RealSense_ROS</td>\n",
       "      <td>C++</td>\n",
       "      <td>2015-09-10 10:38:42</td>\n",
       "      <td>25046894</td>\n",
       "    </tr>\n",
       "  </tbody>\n",
       "</table>\n",
       "</div>"
      ],
      "text/plain": [
       "              id                                                url  owner_id  \\\n",
       "512671  25260835  https://api.github.com/repos/robeastham/RealSe...      7575   \n",
       "\n",
       "                 name language          created_at  forked_from  \n",
       "512671  RealSense_ROS      C++ 2015-09-10 10:38:42     25046894  "
      ]
     },
     "execution_count": 159,
     "metadata": {},
     "output_type": "execute_result"
    }
   ],
   "source": [
    "# Top recommendations from CVModel\n",
    "repos[repos.id == 25260835]"
   ]
  },
  {
   "cell_type": "code",
   "execution_count": null,
   "metadata": {
    "collapsed": true
   },
   "outputs": [],
   "source": []
  }
 ],
 "metadata": {
  "kernelspec": {
   "display_name": "Python 2",
   "language": "python",
   "name": "python2"
  },
  "language_info": {
   "codemirror_mode": {
    "name": "ipython",
    "version": 2
   },
   "file_extension": ".py",
   "mimetype": "text/x-python",
   "name": "python",
   "nbconvert_exporter": "python",
   "pygments_lexer": "ipython2",
   "version": "2.7.13"
  }
 },
 "nbformat": 4,
 "nbformat_minor": 2
}
