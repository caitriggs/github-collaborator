{
 "cells": [
  {
   "cell_type": "markdown",
   "metadata": {},
   "source": [
    "### Clean data file into fit() ready spark dataframe"
   ]
  },
  {
   "cell_type": "code",
   "execution_count": 26,
   "metadata": {
    "collapsed": true
   },
   "outputs": [],
   "source": [
    "import pandas as pd\n",
    "import numpy as np\n",
    "import matplotlib.pyplot as plt\n",
    "%matplotlib inline"
   ]
  },
  {
   "cell_type": "code",
   "execution_count": 4,
   "metadata": {
    "collapsed": true
   },
   "outputs": [],
   "source": [
    "from src_2.submit import compute_score"
   ]
  },
  {
   "cell_type": "code",
   "execution_count": 5,
   "metadata": {
    "collapsed": true
   },
   "outputs": [],
   "source": [
    "# import pyspark\n",
    "# from pyspark.sql import SparkSession\n",
    "# from pyspark.ml.recommendation import ALS\n",
    "\n",
    "# # Setup a SparkSession\n",
    "# spark = SparkSession.builder.getOrCreate()"
   ]
  },
  {
   "cell_type": "code",
   "execution_count": 19,
   "metadata": {},
   "outputs": [
    {
     "name": "stdout",
     "output_type": "stream",
     "text": [
      "<class 'pandas.core.frame.DataFrame'>\n",
      "RangeIndex: 228180 entries, 0 to 228179\n",
      "Data columns (total 7 columns):\n",
      "id             228180 non-null int64\n",
      "url            228180 non-null object\n",
      "owner_id       228180 non-null int64\n",
      "name           228174 non-null object\n",
      "language       228180 non-null object\n",
      "created_at     228180 non-null object\n",
      "forked_from    228180 non-null object\n",
      "dtypes: int64(2), object(5)\n",
      "memory usage: 12.2+ MB\n"
     ]
    },
    {
     "data": {
      "text/html": [
       "<div>\n",
       "<style>\n",
       "    .dataframe thead tr:only-child th {\n",
       "        text-align: right;\n",
       "    }\n",
       "\n",
       "    .dataframe thead th {\n",
       "        text-align: left;\n",
       "    }\n",
       "\n",
       "    .dataframe tbody tr th {\n",
       "        vertical-align: top;\n",
       "    }\n",
       "</style>\n",
       "<table border=\"1\" class=\"dataframe\">\n",
       "  <thead>\n",
       "    <tr style=\"text-align: right;\">\n",
       "      <th></th>\n",
       "      <th>id</th>\n",
       "      <th>url</th>\n",
       "      <th>owner_id</th>\n",
       "      <th>name</th>\n",
       "      <th>language</th>\n",
       "      <th>created_at</th>\n",
       "      <th>forked_from</th>\n",
       "    </tr>\n",
       "  </thead>\n",
       "  <tbody>\n",
       "    <tr>\n",
       "      <th>0</th>\n",
       "      <td>27750972</td>\n",
       "      <td>https://api.github.com/repos/Electronics-Ninja...</td>\n",
       "      <td>7259404</td>\n",
       "      <td>BBB_python</td>\n",
       "      <td>Python</td>\n",
       "      <td>2015-10-22 01:13:11</td>\n",
       "      <td>\\N</td>\n",
       "    </tr>\n",
       "    <tr>\n",
       "      <th>1</th>\n",
       "      <td>28683824</td>\n",
       "      <td>https://api.github.com/repos/d0u9/.dot</td>\n",
       "      <td>8629487</td>\n",
       "      <td>.dot</td>\n",
       "      <td>VimL</td>\n",
       "      <td>2015-11-29 10:34:32</td>\n",
       "      <td>\\N</td>\n",
       "    </tr>\n",
       "    <tr>\n",
       "      <th>2</th>\n",
       "      <td>1808</td>\n",
       "      <td>https://api.github.com/repos/candlepin/subscri...</td>\n",
       "      <td>9548</td>\n",
       "      <td>subscription-manager</td>\n",
       "      <td>Python</td>\n",
       "      <td>2012-05-17 16:13:30</td>\n",
       "      <td>\\N</td>\n",
       "    </tr>\n",
       "    <tr>\n",
       "      <th>3</th>\n",
       "      <td>28922584</td>\n",
       "      <td>https://api.github.com/repos/greenalpha/utxx</td>\n",
       "      <td>10557672</td>\n",
       "      <td>utxx</td>\n",
       "      <td>C++</td>\n",
       "      <td>2015-11-17 16:14:36</td>\n",
       "      <td>2149824</td>\n",
       "    </tr>\n",
       "    <tr>\n",
       "      <th>4</th>\n",
       "      <td>9884164</td>\n",
       "      <td>https://api.github.com/repos/endlessm/linux</td>\n",
       "      <td>2234193</td>\n",
       "      <td>linux</td>\n",
       "      <td>C</td>\n",
       "      <td>2014-05-20 18:43:21</td>\n",
       "      <td>\\N</td>\n",
       "    </tr>\n",
       "  </tbody>\n",
       "</table>\n",
       "</div>"
      ],
      "text/plain": [
       "         id                                                url  owner_id  \\\n",
       "0  27750972  https://api.github.com/repos/Electronics-Ninja...   7259404   \n",
       "1  28683824             https://api.github.com/repos/d0u9/.dot   8629487   \n",
       "2      1808  https://api.github.com/repos/candlepin/subscri...      9548   \n",
       "3  28922584       https://api.github.com/repos/greenalpha/utxx  10557672   \n",
       "4   9884164        https://api.github.com/repos/endlessm/linux   2234193   \n",
       "\n",
       "                   name language           created_at forked_from  \n",
       "0            BBB_python   Python  2015-10-22 01:13:11          \\N  \n",
       "1                  .dot     VimL  2015-11-29 10:34:32          \\N  \n",
       "2  subscription-manager   Python  2012-05-17 16:13:30          \\N  \n",
       "3                  utxx      C++  2015-11-17 16:14:36     2149824  \n",
       "4                 linux        C  2014-05-20 18:43:21          \\N  "
      ]
     },
     "execution_count": 19,
     "metadata": {},
     "output_type": "execute_result"
    }
   ],
   "source": [
    "repos = pd.read_csv('data/active_projects.csv', sep='\\t')\n",
    "repos.info()\n",
    "repos.head()"
   ]
  },
  {
   "cell_type": "code",
   "execution_count": 20,
   "metadata": {},
   "outputs": [
    {
     "name": "stdout",
     "output_type": "stream",
     "text": [
      "<class 'pandas.core.frame.DataFrame'>\n",
      "RangeIndex: 159321 entries, 0 to 159320\n",
      "Data columns (total 9 columns):\n",
      "id              159321 non-null int64\n",
      "login           159321 non-null object\n",
      "company         159289 non-null object\n",
      "created_at      159321 non-null object\n",
      "type            159321 non-null object\n",
      "country_code    159321 non-null object\n",
      "state           159321 non-null object\n",
      "city            159321 non-null object\n",
      "location        159319 non-null object\n",
      "dtypes: int64(1), object(8)\n",
      "memory usage: 10.9+ MB\n"
     ]
    },
    {
     "data": {
      "text/html": [
       "<div>\n",
       "<style>\n",
       "    .dataframe thead tr:only-child th {\n",
       "        text-align: right;\n",
       "    }\n",
       "\n",
       "    .dataframe thead th {\n",
       "        text-align: left;\n",
       "    }\n",
       "\n",
       "    .dataframe tbody tr th {\n",
       "        vertical-align: top;\n",
       "    }\n",
       "</style>\n",
       "<table border=\"1\" class=\"dataframe\">\n",
       "  <thead>\n",
       "    <tr style=\"text-align: right;\">\n",
       "      <th></th>\n",
       "      <th>id</th>\n",
       "      <th>login</th>\n",
       "      <th>company</th>\n",
       "      <th>created_at</th>\n",
       "      <th>type</th>\n",
       "      <th>country_code</th>\n",
       "      <th>state</th>\n",
       "      <th>city</th>\n",
       "      <th>location</th>\n",
       "    </tr>\n",
       "  </thead>\n",
       "  <tbody>\n",
       "    <tr>\n",
       "      <th>0</th>\n",
       "      <td>7259404</td>\n",
       "      <td>Electronics-Ninja</td>\n",
       "      <td>\\N</td>\n",
       "      <td>2015-03-05 02:56:43</td>\n",
       "      <td>USR</td>\n",
       "      <td>\\N</td>\n",
       "      <td>\\N</td>\n",
       "      <td>\\N</td>\n",
       "      <td>\\N</td>\n",
       "    </tr>\n",
       "    <tr>\n",
       "      <th>1</th>\n",
       "      <td>8629487</td>\n",
       "      <td>d0u9</td>\n",
       "      <td>▒▒▒▒▒▒▒▒▒▒▒▒▒▒▒▒</td>\n",
       "      <td>2014-03-23 12:52:20</td>\n",
       "      <td>USR</td>\n",
       "      <td>\\N</td>\n",
       "      <td>\\N</td>\n",
       "      <td>\\N</td>\n",
       "      <td>░░░░░░░░░░░░░░░</td>\n",
       "    </tr>\n",
       "    <tr>\n",
       "      <th>2</th>\n",
       "      <td>9548</td>\n",
       "      <td>candlepin</td>\n",
       "      <td>\\N</td>\n",
       "      <td>2012-05-17 14:02:36</td>\n",
       "      <td>ORG</td>\n",
       "      <td>\\N</td>\n",
       "      <td>\\N</td>\n",
       "      <td>\\N</td>\n",
       "      <td>\\N</td>\n",
       "    </tr>\n",
       "    <tr>\n",
       "      <th>3</th>\n",
       "      <td>10557672</td>\n",
       "      <td>greenalpha</td>\n",
       "      <td>\\N</td>\n",
       "      <td>2015-11-11 02:05:28</td>\n",
       "      <td>USR</td>\n",
       "      <td>\\N</td>\n",
       "      <td>\\N</td>\n",
       "      <td>\\N</td>\n",
       "      <td>\\N</td>\n",
       "    </tr>\n",
       "    <tr>\n",
       "      <th>4</th>\n",
       "      <td>2234193</td>\n",
       "      <td>endlessm</td>\n",
       "      <td>\\N</td>\n",
       "      <td>2012-07-06 04:09:10</td>\n",
       "      <td>ORG</td>\n",
       "      <td>\\N</td>\n",
       "      <td>\\N</td>\n",
       "      <td>\\N</td>\n",
       "      <td>\\N</td>\n",
       "    </tr>\n",
       "  </tbody>\n",
       "</table>\n",
       "</div>"
      ],
      "text/plain": [
       "         id              login           company           created_at type  \\\n",
       "0   7259404  Electronics-Ninja                \\N  2015-03-05 02:56:43  USR   \n",
       "1   8629487               d0u9  ▒▒▒▒▒▒▒▒▒▒▒▒▒▒▒▒  2014-03-23 12:52:20  USR   \n",
       "2      9548          candlepin                \\N  2012-05-17 14:02:36  ORG   \n",
       "3  10557672         greenalpha                \\N  2015-11-11 02:05:28  USR   \n",
       "4   2234193           endlessm                \\N  2012-07-06 04:09:10  ORG   \n",
       "\n",
       "  country_code state city         location  \n",
       "0           \\N    \\N   \\N               \\N  \n",
       "1           \\N    \\N   \\N  ░░░░░░░░░░░░░░░  \n",
       "2           \\N    \\N   \\N               \\N  \n",
       "3           \\N    \\N   \\N               \\N  \n",
       "4           \\N    \\N   \\N               \\N  "
      ]
     },
     "execution_count": 20,
     "metadata": {},
     "output_type": "execute_result"
    }
   ],
   "source": [
    "users = pd.read_csv('data/active_users.csv', sep='\\t')\n",
    "users.info()\n",
    "users.head()"
   ]
  },
  {
   "cell_type": "code",
   "execution_count": 42,
   "metadata": {},
   "outputs": [
    {
     "name": "stdout",
     "output_type": "stream",
     "text": [
      "<class 'pandas.core.frame.DataFrame'>\n",
      "RangeIndex: 6311239 entries, 0 to 6311238\n",
      "Data columns (total 3 columns):\n",
      "repo_id       int64\n",
      "user_id       int64\n",
      "created_at    datetime64[ns]\n",
      "dtypes: datetime64[ns](1), int64(2)\n",
      "memory usage: 144.5 MB\n"
     ]
    },
    {
     "data": {
      "text/html": [
       "<div>\n",
       "<style>\n",
       "    .dataframe thead tr:only-child th {\n",
       "        text-align: right;\n",
       "    }\n",
       "\n",
       "    .dataframe thead th {\n",
       "        text-align: left;\n",
       "    }\n",
       "\n",
       "    .dataframe tbody tr th {\n",
       "        vertical-align: top;\n",
       "    }\n",
       "</style>\n",
       "<table border=\"1\" class=\"dataframe\">\n",
       "  <thead>\n",
       "    <tr style=\"text-align: right;\">\n",
       "      <th></th>\n",
       "      <th>repo_id</th>\n",
       "      <th>user_id</th>\n",
       "      <th>created_at</th>\n",
       "    </tr>\n",
       "  </thead>\n",
       "  <tbody>\n",
       "    <tr>\n",
       "      <th>0</th>\n",
       "      <td>28683824</td>\n",
       "      <td>1329957</td>\n",
       "      <td>2015-12-29 15:34:15</td>\n",
       "    </tr>\n",
       "    <tr>\n",
       "      <th>1</th>\n",
       "      <td>28683824</td>\n",
       "      <td>1804898</td>\n",
       "      <td>2016-04-14 09:47:01</td>\n",
       "    </tr>\n",
       "    <tr>\n",
       "      <th>2</th>\n",
       "      <td>28683824</td>\n",
       "      <td>2000339</td>\n",
       "      <td>2016-02-01 09:37:06</td>\n",
       "    </tr>\n",
       "    <tr>\n",
       "      <th>3</th>\n",
       "      <td>28683824</td>\n",
       "      <td>2815290</td>\n",
       "      <td>2016-06-08 16:13:31</td>\n",
       "    </tr>\n",
       "    <tr>\n",
       "      <th>4</th>\n",
       "      <td>28683824</td>\n",
       "      <td>3139662</td>\n",
       "      <td>2017-04-18 06:51:21</td>\n",
       "    </tr>\n",
       "  </tbody>\n",
       "</table>\n",
       "</div>"
      ],
      "text/plain": [
       "    repo_id  user_id          created_at\n",
       "0  28683824  1329957 2015-12-29 15:34:15\n",
       "1  28683824  1804898 2016-04-14 09:47:01\n",
       "2  28683824  2000339 2016-02-01 09:37:06\n",
       "3  28683824  2815290 2016-06-08 16:13:31\n",
       "4  28683824  3139662 2017-04-18 06:51:21"
      ]
     },
     "execution_count": 42,
     "metadata": {},
     "output_type": "execute_result"
    }
   ],
   "source": [
    "starred = pd.read_csv('data/active_stars.csv', parse_dates=['created_at'], sep='\\t')\n",
    "starred.info()\n",
    "starred.head()"
   ]
  },
  {
   "cell_type": "code",
   "execution_count": 43,
   "metadata": {},
   "outputs": [
    {
     "name": "stdout",
     "output_type": "stream",
     "text": [
      "<class 'pandas.core.frame.DataFrame'>\n",
      "Int64Index: 895822 entries, 0 to 895821\n",
      "Data columns (total 12 columns):\n",
      "repo_id         895822 non-null int64\n",
      "user_id         895822 non-null int64\n",
      "created_at_x    895822 non-null datetime64[ns]\n",
      "id              895822 non-null int64\n",
      "login           895822 non-null object\n",
      "company         895630 non-null object\n",
      "created_at_y    895822 non-null object\n",
      "type            895822 non-null object\n",
      "country_code    895822 non-null object\n",
      "state           895822 non-null object\n",
      "city            895822 non-null object\n",
      "location        895798 non-null object\n",
      "dtypes: datetime64[ns](1), int64(3), object(8)\n",
      "memory usage: 88.8+ MB\n"
     ]
    }
   ],
   "source": [
    "# Forgot to remove USERS who don't exist in my graph before exporting to csv from mySQL\n",
    "new_starred = starred.merge(users, left_on='user_id', right_on='id')\n",
    "new_starred.info()"
   ]
  },
  {
   "cell_type": "code",
   "execution_count": 44,
   "metadata": {},
   "outputs": [
    {
     "name": "stdout",
     "output_type": "stream",
     "text": [
      "<class 'pandas.core.frame.DataFrame'>\n",
      "Int64Index: 895822 entries, 0 to 895821\n",
      "Data columns (total 19 columns):\n",
      "repo_id         895822 non-null int64\n",
      "user_id         895822 non-null int64\n",
      "created_at_x    895822 non-null datetime64[ns]\n",
      "id_x            895822 non-null int64\n",
      "login           895822 non-null object\n",
      "company         895630 non-null object\n",
      "created_at_y    895822 non-null object\n",
      "type            895822 non-null object\n",
      "country_code    895822 non-null object\n",
      "state           895822 non-null object\n",
      "city            895822 non-null object\n",
      "location        895798 non-null object\n",
      "id_y            895822 non-null int64\n",
      "url             895822 non-null object\n",
      "owner_id        895822 non-null int64\n",
      "name            895674 non-null object\n",
      "language        895822 non-null object\n",
      "created_at      895822 non-null object\n",
      "forked_from     895822 non-null object\n",
      "dtypes: datetime64[ns](1), int64(5), object(13)\n",
      "memory usage: 136.7+ MB\n"
     ]
    }
   ],
   "source": [
    "new_starred = new_starred.merge(repos, left_on='repo_id', right_on='id')\n",
    "new_starred.info()"
   ]
  },
  {
   "cell_type": "code",
   "execution_count": 45,
   "metadata": {},
   "outputs": [
    {
     "data": {
      "text/plain": [
       "Index([u'repo_id', u'user_id', u'created_at_x', u'id_x', u'login', u'company',\n",
       "       u'created_at_y', u'type', u'country_code', u'state', u'city',\n",
       "       u'location', u'id_y', u'url', u'owner_id', u'name', u'language',\n",
       "       u'created_at', u'forked_from'],\n",
       "      dtype='object')"
      ]
     },
     "execution_count": 45,
     "metadata": {},
     "output_type": "execute_result"
    }
   ],
   "source": [
    "new_starred.columns"
   ]
  },
  {
   "cell_type": "code",
   "execution_count": 46,
   "metadata": {},
   "outputs": [
    {
     "data": {
      "text/html": [
       "<div>\n",
       "<style>\n",
       "    .dataframe thead tr:only-child th {\n",
       "        text-align: right;\n",
       "    }\n",
       "\n",
       "    .dataframe thead th {\n",
       "        text-align: left;\n",
       "    }\n",
       "\n",
       "    .dataframe tbody tr th {\n",
       "        vertical-align: top;\n",
       "    }\n",
       "</style>\n",
       "<table border=\"1\" class=\"dataframe\">\n",
       "  <thead>\n",
       "    <tr style=\"text-align: right;\">\n",
       "      <th></th>\n",
       "      <th>repo_id</th>\n",
       "      <th>user_id</th>\n",
       "      <th>created_at</th>\n",
       "      <th>login</th>\n",
       "      <th>type</th>\n",
       "      <th>url</th>\n",
       "      <th>language</th>\n",
       "    </tr>\n",
       "  </thead>\n",
       "  <tbody>\n",
       "    <tr>\n",
       "      <th>0</th>\n",
       "      <td>28683824</td>\n",
       "      <td>2815290</td>\n",
       "      <td>2016-06-08 16:13:31</td>\n",
       "      <td>TomShine</td>\n",
       "      <td>USR</td>\n",
       "      <td>https://api.github.com/repos/d0u9/.dot</td>\n",
       "      <td>VimL</td>\n",
       "    </tr>\n",
       "    <tr>\n",
       "      <th>1</th>\n",
       "      <td>28683824</td>\n",
       "      <td>3152387</td>\n",
       "      <td>2016-03-21 06:16:58</td>\n",
       "      <td>sundiontheway</td>\n",
       "      <td>USR</td>\n",
       "      <td>https://api.github.com/repos/d0u9/.dot</td>\n",
       "      <td>VimL</td>\n",
       "    </tr>\n",
       "    <tr>\n",
       "      <th>2</th>\n",
       "      <td>28683824</td>\n",
       "      <td>8629487</td>\n",
       "      <td>2015-11-29 12:19:12</td>\n",
       "      <td>d0u9</td>\n",
       "      <td>USR</td>\n",
       "      <td>https://api.github.com/repos/d0u9/.dot</td>\n",
       "      <td>VimL</td>\n",
       "    </tr>\n",
       "    <tr>\n",
       "      <th>3</th>\n",
       "      <td>26166110</td>\n",
       "      <td>2815290</td>\n",
       "      <td>2015-09-30 07:43:07</td>\n",
       "      <td>TomShine</td>\n",
       "      <td>USR</td>\n",
       "      <td>https://api.github.com/repos/hashicorp/nomad</td>\n",
       "      <td>Go</td>\n",
       "    </tr>\n",
       "    <tr>\n",
       "      <th>4</th>\n",
       "      <td>26166110</td>\n",
       "      <td>4268116</td>\n",
       "      <td>2015-09-28 19:51:53</td>\n",
       "      <td>gunjan5</td>\n",
       "      <td>USR</td>\n",
       "      <td>https://api.github.com/repos/hashicorp/nomad</td>\n",
       "      <td>Go</td>\n",
       "    </tr>\n",
       "  </tbody>\n",
       "</table>\n",
       "</div>"
      ],
      "text/plain": [
       "    repo_id  user_id          created_at          login type  \\\n",
       "0  28683824  2815290 2016-06-08 16:13:31       TomShine  USR   \n",
       "1  28683824  3152387 2016-03-21 06:16:58  sundiontheway  USR   \n",
       "2  28683824  8629487 2015-11-29 12:19:12           d0u9  USR   \n",
       "3  26166110  2815290 2015-09-30 07:43:07       TomShine  USR   \n",
       "4  26166110  4268116 2015-09-28 19:51:53        gunjan5  USR   \n",
       "\n",
       "                                            url language  \n",
       "0        https://api.github.com/repos/d0u9/.dot     VimL  \n",
       "1        https://api.github.com/repos/d0u9/.dot     VimL  \n",
       "2        https://api.github.com/repos/d0u9/.dot     VimL  \n",
       "3  https://api.github.com/repos/hashicorp/nomad       Go  \n",
       "4  https://api.github.com/repos/hashicorp/nomad       Go  "
      ]
     },
     "execution_count": 46,
     "metadata": {},
     "output_type": "execute_result"
    }
   ],
   "source": [
    "new_starred = new_starred.drop([u'id_x', u'company',\n",
    "       u'created_at_y', u'country_code', u'state', u'city',\n",
    "       u'location', u'id_y', u'owner_id', u'name',\n",
    "       u'created_at', u'forked_from'], axis=1)\n",
    "new_starred = new_starred.rename(columns={'created_at_x': 'created_at'})\n",
    "new_starred.head()"
   ]
  },
  {
   "cell_type": "code",
   "execution_count": 48,
   "metadata": {
    "collapsed": true
   },
   "outputs": [],
   "source": [
    "# new_starred.to_pickle('data/pickled/active_stars.pkl')"
   ]
  },
  {
   "cell_type": "code",
   "execution_count": 49,
   "metadata": {},
   "outputs": [
    {
     "name": "stdout",
     "output_type": "stream",
     "text": [
      "<class 'pandas.core.frame.DataFrame'>\n",
      "Int64Index: 895822 entries, 0 to 895821\n",
      "Data columns (total 7 columns):\n",
      "repo_id       895822 non-null int64\n",
      "user_id       895822 non-null int64\n",
      "created_at    895822 non-null datetime64[ns]\n",
      "login         895822 non-null object\n",
      "type          895822 non-null object\n",
      "url           895822 non-null object\n",
      "language      895822 non-null object\n",
      "dtypes: datetime64[ns](1), int64(2), object(4)\n",
      "memory usage: 54.7+ MB\n"
     ]
    },
    {
     "data": {
      "text/html": [
       "<div>\n",
       "<style>\n",
       "    .dataframe thead tr:only-child th {\n",
       "        text-align: right;\n",
       "    }\n",
       "\n",
       "    .dataframe thead th {\n",
       "        text-align: left;\n",
       "    }\n",
       "\n",
       "    .dataframe tbody tr th {\n",
       "        vertical-align: top;\n",
       "    }\n",
       "</style>\n",
       "<table border=\"1\" class=\"dataframe\">\n",
       "  <thead>\n",
       "    <tr style=\"text-align: right;\">\n",
       "      <th></th>\n",
       "      <th>repo_id</th>\n",
       "      <th>user_id</th>\n",
       "      <th>created_at</th>\n",
       "      <th>login</th>\n",
       "      <th>type</th>\n",
       "      <th>url</th>\n",
       "      <th>language</th>\n",
       "    </tr>\n",
       "  </thead>\n",
       "  <tbody>\n",
       "    <tr>\n",
       "      <th>0</th>\n",
       "      <td>28683824</td>\n",
       "      <td>2815290</td>\n",
       "      <td>2016-06-08 16:13:31</td>\n",
       "      <td>TomShine</td>\n",
       "      <td>USR</td>\n",
       "      <td>https://api.github.com/repos/d0u9/.dot</td>\n",
       "      <td>VimL</td>\n",
       "    </tr>\n",
       "    <tr>\n",
       "      <th>1</th>\n",
       "      <td>28683824</td>\n",
       "      <td>3152387</td>\n",
       "      <td>2016-03-21 06:16:58</td>\n",
       "      <td>sundiontheway</td>\n",
       "      <td>USR</td>\n",
       "      <td>https://api.github.com/repos/d0u9/.dot</td>\n",
       "      <td>VimL</td>\n",
       "    </tr>\n",
       "    <tr>\n",
       "      <th>2</th>\n",
       "      <td>28683824</td>\n",
       "      <td>8629487</td>\n",
       "      <td>2015-11-29 12:19:12</td>\n",
       "      <td>d0u9</td>\n",
       "      <td>USR</td>\n",
       "      <td>https://api.github.com/repos/d0u9/.dot</td>\n",
       "      <td>VimL</td>\n",
       "    </tr>\n",
       "    <tr>\n",
       "      <th>3</th>\n",
       "      <td>26166110</td>\n",
       "      <td>2815290</td>\n",
       "      <td>2015-09-30 07:43:07</td>\n",
       "      <td>TomShine</td>\n",
       "      <td>USR</td>\n",
       "      <td>https://api.github.com/repos/hashicorp/nomad</td>\n",
       "      <td>Go</td>\n",
       "    </tr>\n",
       "    <tr>\n",
       "      <th>4</th>\n",
       "      <td>26166110</td>\n",
       "      <td>4268116</td>\n",
       "      <td>2015-09-28 19:51:53</td>\n",
       "      <td>gunjan5</td>\n",
       "      <td>USR</td>\n",
       "      <td>https://api.github.com/repos/hashicorp/nomad</td>\n",
       "      <td>Go</td>\n",
       "    </tr>\n",
       "  </tbody>\n",
       "</table>\n",
       "</div>"
      ],
      "text/plain": [
       "    repo_id  user_id          created_at          login type  \\\n",
       "0  28683824  2815290 2016-06-08 16:13:31       TomShine  USR   \n",
       "1  28683824  3152387 2016-03-21 06:16:58  sundiontheway  USR   \n",
       "2  28683824  8629487 2015-11-29 12:19:12           d0u9  USR   \n",
       "3  26166110  2815290 2015-09-30 07:43:07       TomShine  USR   \n",
       "4  26166110  4268116 2015-09-28 19:51:53        gunjan5  USR   \n",
       "\n",
       "                                            url language  \n",
       "0        https://api.github.com/repos/d0u9/.dot     VimL  \n",
       "1        https://api.github.com/repos/d0u9/.dot     VimL  \n",
       "2        https://api.github.com/repos/d0u9/.dot     VimL  \n",
       "3  https://api.github.com/repos/hashicorp/nomad       Go  \n",
       "4  https://api.github.com/repos/hashicorp/nomad       Go  "
      ]
     },
     "execution_count": 49,
     "metadata": {},
     "output_type": "execute_result"
    }
   ],
   "source": [
    "starred = pd.read_pickle('data/pickled/active_stars.pkl')\n",
    "starred.info()\n",
    "starred.head()"
   ]
  },
  {
   "cell_type": "code",
   "execution_count": 50,
   "metadata": {
    "collapsed": true
   },
   "outputs": [],
   "source": [
    "starred['starred'] = 1"
   ]
  },
  {
   "cell_type": "code",
   "execution_count": 12,
   "metadata": {
    "collapsed": true
   },
   "outputs": [],
   "source": [
    "# spark_request_df = spark.createDataFrame(pd_requests_df)\n",
    "# spark_training_df = spark.createDataFrame(pd_training_df)\n",
    "# #spark_request_df.show()"
   ]
  },
  {
   "cell_type": "code",
   "execution_count": 13,
   "metadata": {
    "collapsed": true
   },
   "outputs": [],
   "source": [
    "# train, test = spark.createDataFrame(df).randomSplit([0.8, 0.2], seed=52)"
   ]
  },
  {
   "cell_type": "code",
   "execution_count": 51,
   "metadata": {},
   "outputs": [
    {
     "data": {
      "text/html": [
       "<div>\n",
       "<style>\n",
       "    .dataframe thead tr:only-child th {\n",
       "        text-align: right;\n",
       "    }\n",
       "\n",
       "    .dataframe thead th {\n",
       "        text-align: left;\n",
       "    }\n",
       "\n",
       "    .dataframe tbody tr th {\n",
       "        vertical-align: top;\n",
       "    }\n",
       "</style>\n",
       "<table border=\"1\" class=\"dataframe\">\n",
       "  <thead>\n",
       "    <tr style=\"text-align: right;\">\n",
       "      <th></th>\n",
       "      <th>repo_id</th>\n",
       "      <th>user_id</th>\n",
       "      <th>created_at</th>\n",
       "      <th>login</th>\n",
       "      <th>type</th>\n",
       "      <th>url</th>\n",
       "      <th>language</th>\n",
       "      <th>starred</th>\n",
       "    </tr>\n",
       "  </thead>\n",
       "  <tbody>\n",
       "    <tr>\n",
       "      <th>507397</th>\n",
       "      <td>12031</td>\n",
       "      <td>889397</td>\n",
       "      <td>2008-02-08 02:54:32</td>\n",
       "      <td>cdcarter</td>\n",
       "      <td>USR</td>\n",
       "      <td>https://api.github.com/repos/rubinius/rubinius</td>\n",
       "      <td>Ruby</td>\n",
       "      <td>1</td>\n",
       "    </tr>\n",
       "    <tr>\n",
       "      <th>884659</th>\n",
       "      <td>52574448</td>\n",
       "      <td>889397</td>\n",
       "      <td>2008-02-08 03:54:32</td>\n",
       "      <td>cdcarter</td>\n",
       "      <td>USR</td>\n",
       "      <td>https://api.github.com/repos/SalesforceFoundat...</td>\n",
       "      <td>\\N</td>\n",
       "      <td>1</td>\n",
       "    </tr>\n",
       "    <tr>\n",
       "      <th>507175</th>\n",
       "      <td>12031</td>\n",
       "      <td>17898</td>\n",
       "      <td>2008-02-14 16:54:50</td>\n",
       "      <td>gnufied</td>\n",
       "      <td>USR</td>\n",
       "      <td>https://api.github.com/repos/rubinius/rubinius</td>\n",
       "      <td>Ruby</td>\n",
       "      <td>1</td>\n",
       "    </tr>\n",
       "    <tr>\n",
       "      <th>507346</th>\n",
       "      <td>12031</td>\n",
       "      <td>25789</td>\n",
       "      <td>2008-02-21 04:29:17</td>\n",
       "      <td>Sutto</td>\n",
       "      <td>USR</td>\n",
       "      <td>https://api.github.com/repos/rubinius/rubinius</td>\n",
       "      <td>Ruby</td>\n",
       "      <td>1</td>\n",
       "    </tr>\n",
       "    <tr>\n",
       "      <th>507241</th>\n",
       "      <td>12031</td>\n",
       "      <td>10942</td>\n",
       "      <td>2008-02-25 03:32:26</td>\n",
       "      <td>tarcieri</td>\n",
       "      <td>USR</td>\n",
       "      <td>https://api.github.com/repos/rubinius/rubinius</td>\n",
       "      <td>Ruby</td>\n",
       "      <td>1</td>\n",
       "    </tr>\n",
       "  </tbody>\n",
       "</table>\n",
       "</div>"
      ],
      "text/plain": [
       "         repo_id  user_id          created_at     login type  \\\n",
       "507397     12031   889397 2008-02-08 02:54:32  cdcarter  USR   \n",
       "884659  52574448   889397 2008-02-08 03:54:32  cdcarter  USR   \n",
       "507175     12031    17898 2008-02-14 16:54:50   gnufied  USR   \n",
       "507346     12031    25789 2008-02-21 04:29:17     Sutto  USR   \n",
       "507241     12031    10942 2008-02-25 03:32:26  tarcieri  USR   \n",
       "\n",
       "                                                      url language  starred  \n",
       "507397     https://api.github.com/repos/rubinius/rubinius     Ruby        1  \n",
       "884659  https://api.github.com/repos/SalesforceFoundat...       \\N        1  \n",
       "507175     https://api.github.com/repos/rubinius/rubinius     Ruby        1  \n",
       "507346     https://api.github.com/repos/rubinius/rubinius     Ruby        1  \n",
       "507241     https://api.github.com/repos/rubinius/rubinius     Ruby        1  "
      ]
     },
     "execution_count": 51,
     "metadata": {},
     "output_type": "execute_result"
    }
   ],
   "source": [
    "starred = starred.sort_values('created_at')\n",
    "starred.head()"
   ]
  },
  {
   "cell_type": "code",
   "execution_count": 52,
   "metadata": {},
   "outputs": [
    {
     "data": {
      "text/html": [
       "<div>\n",
       "<style>\n",
       "    .dataframe thead tr:only-child th {\n",
       "        text-align: right;\n",
       "    }\n",
       "\n",
       "    .dataframe thead th {\n",
       "        text-align: left;\n",
       "    }\n",
       "\n",
       "    .dataframe tbody tr th {\n",
       "        vertical-align: top;\n",
       "    }\n",
       "</style>\n",
       "<table border=\"1\" class=\"dataframe\">\n",
       "  <thead>\n",
       "    <tr style=\"text-align: right;\">\n",
       "      <th></th>\n",
       "      <th>repo_id</th>\n",
       "      <th>user_id</th>\n",
       "      <th>created_at</th>\n",
       "      <th>login</th>\n",
       "      <th>type</th>\n",
       "      <th>url</th>\n",
       "      <th>language</th>\n",
       "      <th>starred</th>\n",
       "    </tr>\n",
       "  </thead>\n",
       "  <tbody>\n",
       "    <tr>\n",
       "      <th>59368</th>\n",
       "      <td>3231</td>\n",
       "      <td>34365666</td>\n",
       "      <td>2017-06-30 23:48:26</td>\n",
       "      <td>Qwartz2</td>\n",
       "      <td>USR</td>\n",
       "      <td>https://api.github.com/repos/robbyrussell/oh-m...</td>\n",
       "      <td>Shell</td>\n",
       "      <td>1</td>\n",
       "    </tr>\n",
       "    <tr>\n",
       "      <th>539367</th>\n",
       "      <td>16657452</td>\n",
       "      <td>1240204</td>\n",
       "      <td>2017-06-30 23:49:28</td>\n",
       "      <td>Randl</td>\n",
       "      <td>USR</td>\n",
       "      <td>https://api.github.com/repos/orlp/pdqsort</td>\n",
       "      <td>C++</td>\n",
       "      <td>1</td>\n",
       "    </tr>\n",
       "    <tr>\n",
       "      <th>656740</th>\n",
       "      <td>46961268</td>\n",
       "      <td>8716720</td>\n",
       "      <td>2017-06-30 23:49:46</td>\n",
       "      <td>CeramicSkate0</td>\n",
       "      <td>USR</td>\n",
       "      <td>https://api.github.com/repos/manwhoami/OSXChro...</td>\n",
       "      <td>Python</td>\n",
       "      <td>1</td>\n",
       "    </tr>\n",
       "    <tr>\n",
       "      <th>354576</th>\n",
       "      <td>29131071</td>\n",
       "      <td>12527376</td>\n",
       "      <td>2017-06-30 23:58:39</td>\n",
       "      <td>AlexiaJM</td>\n",
       "      <td>USR</td>\n",
       "      <td>https://api.github.com/repos/karpathy/arxiv-sa...</td>\n",
       "      <td>Python</td>\n",
       "      <td>1</td>\n",
       "    </tr>\n",
       "    <tr>\n",
       "      <th>343169</th>\n",
       "      <td>22218658</td>\n",
       "      <td>9338700</td>\n",
       "      <td>2017-06-30 23:59:48</td>\n",
       "      <td>josephpd3</td>\n",
       "      <td>USR</td>\n",
       "      <td>https://api.github.com/repos/jupyter/docker-st...</td>\n",
       "      <td>Makefile</td>\n",
       "      <td>1</td>\n",
       "    </tr>\n",
       "  </tbody>\n",
       "</table>\n",
       "</div>"
      ],
      "text/plain": [
       "         repo_id   user_id          created_at          login type  \\\n",
       "59368       3231  34365666 2017-06-30 23:48:26        Qwartz2  USR   \n",
       "539367  16657452   1240204 2017-06-30 23:49:28          Randl  USR   \n",
       "656740  46961268   8716720 2017-06-30 23:49:46  CeramicSkate0  USR   \n",
       "354576  29131071  12527376 2017-06-30 23:58:39       AlexiaJM  USR   \n",
       "343169  22218658   9338700 2017-06-30 23:59:48      josephpd3  USR   \n",
       "\n",
       "                                                      url  language  starred  \n",
       "59368   https://api.github.com/repos/robbyrussell/oh-m...     Shell        1  \n",
       "539367          https://api.github.com/repos/orlp/pdqsort       C++        1  \n",
       "656740  https://api.github.com/repos/manwhoami/OSXChro...    Python        1  \n",
       "354576  https://api.github.com/repos/karpathy/arxiv-sa...    Python        1  \n",
       "343169  https://api.github.com/repos/jupyter/docker-st...  Makefile        1  "
      ]
     },
     "execution_count": 52,
     "metadata": {},
     "output_type": "execute_result"
    }
   ],
   "source": [
    "starred.tail()"
   ]
  },
  {
   "cell_type": "code",
   "execution_count": 53,
   "metadata": {},
   "outputs": [
    {
     "data": {
      "text/plain": [
       "179165"
      ]
     },
     "execution_count": 53,
     "metadata": {},
     "output_type": "execute_result"
    }
   ],
   "source": [
    "#20% remaining rows\n",
    "starred.shape[0] - int(starred.shape[0] * .8)"
   ]
  },
  {
   "cell_type": "code",
   "execution_count": 54,
   "metadata": {},
   "outputs": [
    {
     "data": {
      "text/plain": [
       "716657"
      ]
     },
     "execution_count": 54,
     "metadata": {},
     "output_type": "execute_result"
    }
   ],
   "source": [
    "# 80% of starred df (ordered by timestamp) for train set\n",
    "up_to = int(starred.shape[0]*.80)\n",
    "up_to"
   ]
  },
  {
   "cell_type": "code",
   "execution_count": 55,
   "metadata": {},
   "outputs": [
    {
     "data": {
      "text/html": [
       "<div>\n",
       "<style>\n",
       "    .dataframe thead tr:only-child th {\n",
       "        text-align: right;\n",
       "    }\n",
       "\n",
       "    .dataframe thead th {\n",
       "        text-align: left;\n",
       "    }\n",
       "\n",
       "    .dataframe tbody tr th {\n",
       "        vertical-align: top;\n",
       "    }\n",
       "</style>\n",
       "<table border=\"1\" class=\"dataframe\">\n",
       "  <thead>\n",
       "    <tr style=\"text-align: right;\">\n",
       "      <th></th>\n",
       "      <th>repo_id</th>\n",
       "      <th>user_id</th>\n",
       "      <th>created_at</th>\n",
       "      <th>login</th>\n",
       "      <th>type</th>\n",
       "      <th>url</th>\n",
       "      <th>language</th>\n",
       "      <th>starred</th>\n",
       "    </tr>\n",
       "  </thead>\n",
       "  <tbody>\n",
       "    <tr>\n",
       "      <th>303662</th>\n",
       "      <td>29073150</td>\n",
       "      <td>3091761</td>\n",
       "      <td>2017-01-27 04:32:26</td>\n",
       "      <td>shen-xianpeng</td>\n",
       "      <td>USR</td>\n",
       "      <td>https://api.github.com/repos/anishathalye/neur...</td>\n",
       "      <td>Python</td>\n",
       "      <td>1</td>\n",
       "    </tr>\n",
       "    <tr>\n",
       "      <th>728730</th>\n",
       "      <td>27645585</td>\n",
       "      <td>2605600</td>\n",
       "      <td>2017-01-27 04:33:03</td>\n",
       "      <td>jamesdbrock</td>\n",
       "      <td>USR</td>\n",
       "      <td>https://api.github.com/repos/boostorg/hana</td>\n",
       "      <td>C++</td>\n",
       "      <td>1</td>\n",
       "    </tr>\n",
       "    <tr>\n",
       "      <th>251377</th>\n",
       "      <td>11721331</td>\n",
       "      <td>226571</td>\n",
       "      <td>2017-01-27 04:34:41</td>\n",
       "      <td>lorddaedra</td>\n",
       "      <td>USR</td>\n",
       "      <td>https://api.github.com/repos/matrix-org/synapse</td>\n",
       "      <td>Python</td>\n",
       "      <td>1</td>\n",
       "    </tr>\n",
       "    <tr>\n",
       "      <th>420419</th>\n",
       "      <td>13447331</td>\n",
       "      <td>3900498</td>\n",
       "      <td>2017-01-27 04:36:26</td>\n",
       "      <td>UnixMonky</td>\n",
       "      <td>USR</td>\n",
       "      <td>https://api.github.com/repos/nodemcu/nodemcu-f...</td>\n",
       "      <td>C</td>\n",
       "      <td>1</td>\n",
       "    </tr>\n",
       "    <tr>\n",
       "      <th>571302</th>\n",
       "      <td>15771614</td>\n",
       "      <td>641683</td>\n",
       "      <td>2017-01-27 04:40:18</td>\n",
       "      <td>user01</td>\n",
       "      <td>USR</td>\n",
       "      <td>https://api.github.com/repos/Calysto/matlab_ke...</td>\n",
       "      <td>Jupyter Notebook</td>\n",
       "      <td>1</td>\n",
       "    </tr>\n",
       "  </tbody>\n",
       "</table>\n",
       "</div>"
      ],
      "text/plain": [
       "         repo_id  user_id          created_at          login type  \\\n",
       "303662  29073150  3091761 2017-01-27 04:32:26  shen-xianpeng  USR   \n",
       "728730  27645585  2605600 2017-01-27 04:33:03    jamesdbrock  USR   \n",
       "251377  11721331   226571 2017-01-27 04:34:41     lorddaedra  USR   \n",
       "420419  13447331  3900498 2017-01-27 04:36:26      UnixMonky  USR   \n",
       "571302  15771614   641683 2017-01-27 04:40:18         user01  USR   \n",
       "\n",
       "                                                      url          language  \\\n",
       "303662  https://api.github.com/repos/anishathalye/neur...            Python   \n",
       "728730         https://api.github.com/repos/boostorg/hana               C++   \n",
       "251377    https://api.github.com/repos/matrix-org/synapse            Python   \n",
       "420419  https://api.github.com/repos/nodemcu/nodemcu-f...                 C   \n",
       "571302  https://api.github.com/repos/Calysto/matlab_ke...  Jupyter Notebook   \n",
       "\n",
       "        starred  \n",
       "303662        1  \n",
       "728730        1  \n",
       "251377        1  \n",
       "420419        1  \n",
       "571302        1  "
      ]
     },
     "execution_count": 55,
     "metadata": {},
     "output_type": "execute_result"
    }
   ],
   "source": [
    "train_starred = starred.iloc[:up_to,:]\n",
    "train_starred.tail()"
   ]
  },
  {
   "cell_type": "code",
   "execution_count": 56,
   "metadata": {},
   "outputs": [
    {
     "data": {
      "text/html": [
       "<div>\n",
       "<style>\n",
       "    .dataframe thead tr:only-child th {\n",
       "        text-align: right;\n",
       "    }\n",
       "\n",
       "    .dataframe thead th {\n",
       "        text-align: left;\n",
       "    }\n",
       "\n",
       "    .dataframe tbody tr th {\n",
       "        vertical-align: top;\n",
       "    }\n",
       "</style>\n",
       "<table border=\"1\" class=\"dataframe\">\n",
       "  <thead>\n",
       "    <tr style=\"text-align: right;\">\n",
       "      <th></th>\n",
       "      <th>repo_id</th>\n",
       "      <th>user_id</th>\n",
       "      <th>created_at</th>\n",
       "      <th>login</th>\n",
       "      <th>type</th>\n",
       "      <th>url</th>\n",
       "      <th>language</th>\n",
       "      <th>starred</th>\n",
       "    </tr>\n",
       "  </thead>\n",
       "  <tbody>\n",
       "    <tr>\n",
       "      <th>667901</th>\n",
       "      <td>55567488</td>\n",
       "      <td>6694284</td>\n",
       "      <td>2017-01-27 04:46:39</td>\n",
       "      <td>CaiJiJi</td>\n",
       "      <td>USR</td>\n",
       "      <td>https://api.github.com/repos/lijiejie/ds_store...</td>\n",
       "      <td>Python</td>\n",
       "      <td>1</td>\n",
       "    </tr>\n",
       "    <tr>\n",
       "      <th>348434</th>\n",
       "      <td>1282</td>\n",
       "      <td>13665131</td>\n",
       "      <td>2017-01-27 04:51:12</td>\n",
       "      <td>tarvos21</td>\n",
       "      <td>USR</td>\n",
       "      <td>https://api.github.com/repos/Pylons/pyramid</td>\n",
       "      <td>Python</td>\n",
       "      <td>1</td>\n",
       "    </tr>\n",
       "    <tr>\n",
       "      <th>644503</th>\n",
       "      <td>16356</td>\n",
       "      <td>6806774</td>\n",
       "      <td>2017-01-27 04:53:38</td>\n",
       "      <td>acro5piano</td>\n",
       "      <td>USR</td>\n",
       "      <td>https://api.github.com/repos/phalcon/cphalcon</td>\n",
       "      <td>PHP</td>\n",
       "      <td>1</td>\n",
       "    </tr>\n",
       "    <tr>\n",
       "      <th>796058</th>\n",
       "      <td>12651428</td>\n",
       "      <td>11997</td>\n",
       "      <td>2017-01-27 04:54:28</td>\n",
       "      <td>alias1</td>\n",
       "      <td>USR</td>\n",
       "      <td>https://api.github.com/repos/Yubico/u2fval</td>\n",
       "      <td>Python</td>\n",
       "      <td>1</td>\n",
       "    </tr>\n",
       "    <tr>\n",
       "      <th>820877</th>\n",
       "      <td>394885</td>\n",
       "      <td>9279104</td>\n",
       "      <td>2017-01-27 05:00:32</td>\n",
       "      <td>nilsdeppe</td>\n",
       "      <td>USR</td>\n",
       "      <td>https://api.github.com/repos/p12tic/cppreferen...</td>\n",
       "      <td>Python</td>\n",
       "      <td>1</td>\n",
       "    </tr>\n",
       "  </tbody>\n",
       "</table>\n",
       "</div>"
      ],
      "text/plain": [
       "         repo_id   user_id          created_at       login type  \\\n",
       "667901  55567488   6694284 2017-01-27 04:46:39     CaiJiJi  USR   \n",
       "348434      1282  13665131 2017-01-27 04:51:12    tarvos21  USR   \n",
       "644503     16356   6806774 2017-01-27 04:53:38  acro5piano  USR   \n",
       "796058  12651428     11997 2017-01-27 04:54:28      alias1  USR   \n",
       "820877    394885   9279104 2017-01-27 05:00:32   nilsdeppe  USR   \n",
       "\n",
       "                                                      url language  starred  \n",
       "667901  https://api.github.com/repos/lijiejie/ds_store...   Python        1  \n",
       "348434        https://api.github.com/repos/Pylons/pyramid   Python        1  \n",
       "644503      https://api.github.com/repos/phalcon/cphalcon      PHP        1  \n",
       "796058         https://api.github.com/repos/Yubico/u2fval   Python        1  \n",
       "820877  https://api.github.com/repos/p12tic/cppreferen...   Python        1  "
      ]
     },
     "execution_count": 56,
     "metadata": {},
     "output_type": "execute_result"
    }
   ],
   "source": [
    "test_starred = starred.iloc[up_to:,:]\n",
    "test_starred.head()"
   ]
  },
  {
   "cell_type": "code",
   "execution_count": 57,
   "metadata": {},
   "outputs": [
    {
     "name": "stdout",
     "output_type": "stream",
     "text": [
      "<class 'pandas.core.frame.DataFrame'>\n",
      "Int64Index: 179165 entries, 667901 to 343169\n",
      "Data columns (total 8 columns):\n",
      "repo_id       179165 non-null int64\n",
      "user_id       179165 non-null int64\n",
      "created_at    179165 non-null datetime64[ns]\n",
      "login         179165 non-null object\n",
      "type          179165 non-null object\n",
      "url           179165 non-null object\n",
      "language      179165 non-null object\n",
      "starred       179165 non-null int64\n",
      "dtypes: datetime64[ns](1), int64(3), object(4)\n",
      "memory usage: 12.3+ MB\n",
      "<class 'pandas.core.frame.DataFrame'>\n",
      "Int64Index: 716657 entries, 507397 to 571302\n",
      "Data columns (total 8 columns):\n",
      "repo_id       716657 non-null int64\n",
      "user_id       716657 non-null int64\n",
      "created_at    716657 non-null datetime64[ns]\n",
      "login         716657 non-null object\n",
      "type          716657 non-null object\n",
      "url           716657 non-null object\n",
      "language      716657 non-null object\n",
      "starred       716657 non-null int64\n",
      "dtypes: datetime64[ns](1), int64(3), object(4)\n",
      "memory usage: 49.2+ MB\n"
     ]
    }
   ],
   "source": [
    "#Check split count\n",
    "test_starred.info()\n",
    "train_starred.info()"
   ]
  },
  {
   "cell_type": "code",
   "execution_count": 58,
   "metadata": {
    "collapsed": true
   },
   "outputs": [],
   "source": [
    "train_starred.to_pickle('data/pickled/train_starred.pkl')\n",
    "test_starred.to_pickle('data/pickled/test_starred.pkl')"
   ]
  },
  {
   "cell_type": "markdown",
   "metadata": {},
   "source": [
    "## Run ALS on just the Star data"
   ]
  },
  {
   "cell_type": "code",
   "execution_count": 4,
   "metadata": {},
   "outputs": [
    {
     "ename": "IllegalArgumentException",
     "evalue": "u\"Error while instantiating 'org.apache.spark.sql.hive.HiveSessionState':\"",
     "output_type": "error",
     "traceback": [
      "\u001b[0;31m---------------------------------------------------------------------------\u001b[0m",
      "\u001b[0;31mIllegalArgumentException\u001b[0m                  Traceback (most recent call last)",
      "\u001b[0;32m<ipython-input-4-87fa6602760a>\u001b[0m in \u001b[0;36m<module>\u001b[0;34m()\u001b[0m\n\u001b[1;32m      6\u001b[0m \u001b[0;34m\u001b[0m\u001b[0m\n\u001b[1;32m      7\u001b[0m \u001b[0;31m# Setup a SparkSession\u001b[0m\u001b[0;34m\u001b[0m\u001b[0;34m\u001b[0m\u001b[0m\n\u001b[0;32m----> 8\u001b[0;31m \u001b[0mspark\u001b[0m \u001b[0;34m=\u001b[0m \u001b[0mSparkSession\u001b[0m\u001b[0;34m.\u001b[0m\u001b[0mbuilder\u001b[0m\u001b[0;34m.\u001b[0m\u001b[0mgetOrCreate\u001b[0m\u001b[0;34m(\u001b[0m\u001b[0;34m)\u001b[0m\u001b[0;34m\u001b[0m\u001b[0m\n\u001b[0m\u001b[1;32m      9\u001b[0m \u001b[0;34m\u001b[0m\u001b[0m\n\u001b[1;32m     10\u001b[0m \u001b[0;31m# # Convert a Pandas DF to a Spark DF\u001b[0m\u001b[0;34m\u001b[0m\u001b[0;34m\u001b[0m\u001b[0m\n",
      "\u001b[0;32m/home/ubuntu/spark-2.1.1-bin-hadoop2.7/python/pyspark/sql/session.pyc\u001b[0m in \u001b[0;36mgetOrCreate\u001b[0;34m(self)\u001b[0m\n\u001b[1;32m    177\u001b[0m                     \u001b[0msession\u001b[0m \u001b[0;34m=\u001b[0m \u001b[0mSparkSession\u001b[0m\u001b[0;34m(\u001b[0m\u001b[0msc\u001b[0m\u001b[0;34m)\u001b[0m\u001b[0;34m\u001b[0m\u001b[0m\n\u001b[1;32m    178\u001b[0m                 \u001b[0;32mfor\u001b[0m \u001b[0mkey\u001b[0m\u001b[0;34m,\u001b[0m \u001b[0mvalue\u001b[0m \u001b[0;32min\u001b[0m \u001b[0mself\u001b[0m\u001b[0;34m.\u001b[0m\u001b[0m_options\u001b[0m\u001b[0;34m.\u001b[0m\u001b[0mitems\u001b[0m\u001b[0;34m(\u001b[0m\u001b[0;34m)\u001b[0m\u001b[0;34m:\u001b[0m\u001b[0;34m\u001b[0m\u001b[0m\n\u001b[0;32m--> 179\u001b[0;31m                     \u001b[0msession\u001b[0m\u001b[0;34m.\u001b[0m\u001b[0m_jsparkSession\u001b[0m\u001b[0;34m.\u001b[0m\u001b[0msessionState\u001b[0m\u001b[0;34m(\u001b[0m\u001b[0;34m)\u001b[0m\u001b[0;34m.\u001b[0m\u001b[0mconf\u001b[0m\u001b[0;34m(\u001b[0m\u001b[0;34m)\u001b[0m\u001b[0;34m.\u001b[0m\u001b[0msetConfString\u001b[0m\u001b[0;34m(\u001b[0m\u001b[0mkey\u001b[0m\u001b[0;34m,\u001b[0m \u001b[0mvalue\u001b[0m\u001b[0;34m)\u001b[0m\u001b[0;34m\u001b[0m\u001b[0m\n\u001b[0m\u001b[1;32m    180\u001b[0m                 \u001b[0;32mfor\u001b[0m \u001b[0mkey\u001b[0m\u001b[0;34m,\u001b[0m \u001b[0mvalue\u001b[0m \u001b[0;32min\u001b[0m \u001b[0mself\u001b[0m\u001b[0;34m.\u001b[0m\u001b[0m_options\u001b[0m\u001b[0;34m.\u001b[0m\u001b[0mitems\u001b[0m\u001b[0;34m(\u001b[0m\u001b[0;34m)\u001b[0m\u001b[0;34m:\u001b[0m\u001b[0;34m\u001b[0m\u001b[0m\n\u001b[1;32m    181\u001b[0m                     \u001b[0msession\u001b[0m\u001b[0;34m.\u001b[0m\u001b[0msparkContext\u001b[0m\u001b[0;34m.\u001b[0m\u001b[0m_conf\u001b[0m\u001b[0;34m.\u001b[0m\u001b[0mset\u001b[0m\u001b[0;34m(\u001b[0m\u001b[0mkey\u001b[0m\u001b[0;34m,\u001b[0m \u001b[0mvalue\u001b[0m\u001b[0;34m)\u001b[0m\u001b[0;34m\u001b[0m\u001b[0m\n",
      "\u001b[0;32m/home/ubuntu/spark-2.1.1-bin-hadoop2.7/python/lib/py4j-0.10.4-src.zip/py4j/java_gateway.py\u001b[0m in \u001b[0;36m__call__\u001b[0;34m(self, *args)\u001b[0m\n\u001b[1;32m   1131\u001b[0m         \u001b[0manswer\u001b[0m \u001b[0;34m=\u001b[0m \u001b[0mself\u001b[0m\u001b[0;34m.\u001b[0m\u001b[0mgateway_client\u001b[0m\u001b[0;34m.\u001b[0m\u001b[0msend_command\u001b[0m\u001b[0;34m(\u001b[0m\u001b[0mcommand\u001b[0m\u001b[0;34m)\u001b[0m\u001b[0;34m\u001b[0m\u001b[0m\n\u001b[1;32m   1132\u001b[0m         return_value = get_return_value(\n\u001b[0;32m-> 1133\u001b[0;31m             answer, self.gateway_client, self.target_id, self.name)\n\u001b[0m\u001b[1;32m   1134\u001b[0m \u001b[0;34m\u001b[0m\u001b[0m\n\u001b[1;32m   1135\u001b[0m         \u001b[0;32mfor\u001b[0m \u001b[0mtemp_arg\u001b[0m \u001b[0;32min\u001b[0m \u001b[0mtemp_args\u001b[0m\u001b[0;34m:\u001b[0m\u001b[0;34m\u001b[0m\u001b[0m\n",
      "\u001b[0;32m/home/ubuntu/spark-2.1.1-bin-hadoop2.7/python/pyspark/sql/utils.pyc\u001b[0m in \u001b[0;36mdeco\u001b[0;34m(*a, **kw)\u001b[0m\n\u001b[1;32m     77\u001b[0m                 \u001b[0;32mraise\u001b[0m \u001b[0mQueryExecutionException\u001b[0m\u001b[0;34m(\u001b[0m\u001b[0ms\u001b[0m\u001b[0;34m.\u001b[0m\u001b[0msplit\u001b[0m\u001b[0;34m(\u001b[0m\u001b[0;34m': '\u001b[0m\u001b[0;34m,\u001b[0m \u001b[0;36m1\u001b[0m\u001b[0;34m)\u001b[0m\u001b[0;34m[\u001b[0m\u001b[0;36m1\u001b[0m\u001b[0;34m]\u001b[0m\u001b[0;34m,\u001b[0m \u001b[0mstackTrace\u001b[0m\u001b[0;34m)\u001b[0m\u001b[0;34m\u001b[0m\u001b[0m\n\u001b[1;32m     78\u001b[0m             \u001b[0;32mif\u001b[0m \u001b[0ms\u001b[0m\u001b[0;34m.\u001b[0m\u001b[0mstartswith\u001b[0m\u001b[0;34m(\u001b[0m\u001b[0;34m'java.lang.IllegalArgumentException: '\u001b[0m\u001b[0;34m)\u001b[0m\u001b[0;34m:\u001b[0m\u001b[0;34m\u001b[0m\u001b[0m\n\u001b[0;32m---> 79\u001b[0;31m                 \u001b[0;32mraise\u001b[0m \u001b[0mIllegalArgumentException\u001b[0m\u001b[0;34m(\u001b[0m\u001b[0ms\u001b[0m\u001b[0;34m.\u001b[0m\u001b[0msplit\u001b[0m\u001b[0;34m(\u001b[0m\u001b[0;34m': '\u001b[0m\u001b[0;34m,\u001b[0m \u001b[0;36m1\u001b[0m\u001b[0;34m)\u001b[0m\u001b[0;34m[\u001b[0m\u001b[0;36m1\u001b[0m\u001b[0;34m]\u001b[0m\u001b[0;34m,\u001b[0m \u001b[0mstackTrace\u001b[0m\u001b[0;34m)\u001b[0m\u001b[0;34m\u001b[0m\u001b[0m\n\u001b[0m\u001b[1;32m     80\u001b[0m             \u001b[0;32mraise\u001b[0m\u001b[0;34m\u001b[0m\u001b[0m\n\u001b[1;32m     81\u001b[0m     \u001b[0;32mreturn\u001b[0m \u001b[0mdeco\u001b[0m\u001b[0;34m\u001b[0m\u001b[0m\n",
      "\u001b[0;31mIllegalArgumentException\u001b[0m: u\"Error while instantiating 'org.apache.spark.sql.hive.HiveSessionState':\""
     ]
    }
   ],
   "source": [
    "import pyspark\n",
    "from pyspark.sql import SparkSession\n",
    "from pyspark.ml.recommendation import ALS\n",
    "\n",
    "#import src_2.evaluate as evaluate\n",
    "\n",
    "# Setup a SparkSession\n",
    "spark = SparkSession.builder.getOrCreate()\n",
    "\n",
    "# # Convert a Pandas DF to a Spark DF\n",
    "# spark_df = spark.createDataFrame(pandas_df) \n",
    "\n",
    "# # Convert a Spark DF to a Pandas DF\n",
    "# pandas_df = spark_df.toPandas()"
   ]
  },
  {
   "cell_type": "markdown",
   "metadata": {},
   "source": [
    "# UnPickle dataframes"
   ]
  },
  {
   "cell_type": "code",
   "execution_count": 1,
   "metadata": {
    "collapsed": true
   },
   "outputs": [],
   "source": [
    "import pandas as pd\n",
    "import numpy as np\n",
    "import src.evaluate as evaluate"
   ]
  },
  {
   "cell_type": "code",
   "execution_count": null,
   "metadata": {
    "collapsed": true
   },
   "outputs": [],
   "source": [
    "#train, test = spark_training_df.randomSplit([0.8, 0.2], seed=427471138)"
   ]
  },
  {
   "cell_type": "code",
   "execution_count": 2,
   "metadata": {
    "collapsed": true
   },
   "outputs": [],
   "source": [
    "train_starred = pd.read_pickle('data/pickled/train_starred.pkl')\n",
    "test_starred = pd.read_pickle('data/pickled/test_starred.pkl')"
   ]
  },
  {
   "cell_type": "code",
   "execution_count": 3,
   "metadata": {},
   "outputs": [
    {
     "name": "stdout",
     "output_type": "stream",
     "text": [
      "<class 'pandas.core.frame.DataFrame'>\n",
      "Int64Index: 716657 entries, 507397 to 571302\n",
      "Data columns (total 8 columns):\n",
      "repo_id       716657 non-null int64\n",
      "user_id       716657 non-null int64\n",
      "created_at    716657 non-null datetime64[ns]\n",
      "login         716657 non-null object\n",
      "type          716657 non-null object\n",
      "url           716657 non-null object\n",
      "language      716657 non-null object\n",
      "starred       716657 non-null int64\n",
      "dtypes: datetime64[ns](1), int64(3), object(4)\n",
      "memory usage: 49.2+ MB\n",
      "<class 'pandas.core.frame.DataFrame'>\n",
      "Int64Index: 179165 entries, 667901 to 343169\n",
      "Data columns (total 8 columns):\n",
      "repo_id       179165 non-null int64\n",
      "user_id       179165 non-null int64\n",
      "created_at    179165 non-null datetime64[ns]\n",
      "login         179165 non-null object\n",
      "type          179165 non-null object\n",
      "url           179165 non-null object\n",
      "language      179165 non-null object\n",
      "starred       179165 non-null int64\n",
      "dtypes: datetime64[ns](1), int64(3), object(4)\n",
      "memory usage: 12.3+ MB\n"
     ]
    }
   ],
   "source": [
    "train_starred.info()\n",
    "test_starred.info()"
   ]
  },
  {
   "cell_type": "markdown",
   "metadata": {},
   "source": [
    "## Run small test df on Spark"
   ]
  },
  {
   "cell_type": "code",
   "execution_count": 61,
   "metadata": {
    "scrolled": true
   },
   "outputs": [
    {
     "name": "stdout",
     "output_type": "stream",
     "text": [
      "<class 'pandas.core.frame.DataFrame'>\n",
      "Int64Index: 100 entries, 667901 to 622045\n",
      "Data columns (total 8 columns):\n",
      "repo_id       100 non-null int64\n",
      "user_id       100 non-null int64\n",
      "created_at    100 non-null datetime64[ns]\n",
      "login         100 non-null object\n",
      "type          100 non-null object\n",
      "url           100 non-null object\n",
      "language      100 non-null object\n",
      "starred       100 non-null int64\n",
      "dtypes: datetime64[ns](1), int64(3), object(4)\n",
      "memory usage: 7.0+ KB\n"
     ]
    }
   ],
   "source": [
    "small_test = test_starred.iloc[:100,:]\n",
    "small_test.info()"
   ]
  },
  {
   "cell_type": "code",
   "execution_count": 9,
   "metadata": {
    "collapsed": true
   },
   "outputs": [
    {
     "name": "stdout",
     "output_type": "stream",
     "text": [
      "+--------+--------+-------------------+-------+\n",
      "| repo_id| user_id|         created_at|starred|\n",
      "+--------+--------+-------------------+-------+\n",
      "|11750990| 6532782|1483983076000000000|      1|\n",
      "|   29253|  248011|1483983090000000000|      1|\n",
      "|12888184|11634827|1483983095000000000|      1|\n",
      "| 9770717| 7266153|1483983105000000000|      1|\n",
      "|53787751| 6845189|1483983110000000000|      1|\n",
      "|30349509| 4745331|1483983133000000000|      1|\n",
      "|30232738| 1383765|1483983160000000000|      1|\n",
      "|53787751| 2813487|1483983179000000000|      1|\n",
      "|37666164| 1621509|1483983187000000000|      1|\n",
      "|15012233| 1052121|1483983196000000000|      1|\n",
      "|   46907| 3430339|1483983204000000000|      1|\n",
      "|12219032|10777273|1483983223000000000|      1|\n",
      "|22091370| 3496396|1483983253000000000|      1|\n",
      "|52406965| 1324281|1483983263000000000|      1|\n",
      "|21382248| 5977639|1483983293000000000|      1|\n",
      "|     853|  842279|1483983293000000000|      1|\n",
      "| 3309728|33368236|1483983303000000000|      1|\n",
      "|21447351| 7266153|1483983340000000000|      1|\n",
      "|18059067|  297558|1483983341000000000|      1|\n",
      "|37666164| 2565790|1483983344000000000|      1|\n",
      "+--------+--------+-------------------+-------+\n",
      "only showing top 20 rows\n",
      "\n"
     ]
    }
   ],
   "source": [
    "test_spark_df = spark.createDataFrame(small_test)\n",
    "test_spark_df.show()"
   ]
  },
  {
   "cell_type": "markdown",
   "metadata": {},
   "source": [
    "## Run actual test train data"
   ]
  },
  {
   "cell_type": "code",
   "execution_count": 5,
   "metadata": {
    "collapsed": true
   },
   "outputs": [],
   "source": [
    "spark_train_stars_df = spark.createDataFrame(train_starred)"
   ]
  },
  {
   "cell_type": "code",
   "execution_count": 6,
   "metadata": {
    "collapsed": true
   },
   "outputs": [],
   "source": [
    "spark_test_stars_df = spark.createDataFrame(test_starred)"
   ]
  },
  {
   "cell_type": "code",
   "execution_count": 10,
   "metadata": {
    "collapsed": true
   },
   "outputs": [
    {
     "name": "stdout",
     "output_type": "stream",
     "text": [
      "+--------+-------+-------------------+---------------+----+--------------------+--------+-------+\n",
      "| repo_id|user_id|         created_at|          login|type|                 url|language|starred|\n",
      "+--------+-------+-------------------+---------------+----+--------------------+--------+-------+\n",
      "|   12031| 889397|1202439272000000000|       cdcarter| USR|https://api.githu...|    Ruby|      1|\n",
      "|52574448| 889397|1202442872000000000|       cdcarter| USR|https://api.githu...|      \\N|      1|\n",
      "|   12031|  17898|1203008090000000000|        gnufied| USR|https://api.githu...|    Ruby|      1|\n",
      "|   12031|  25789|1203568157000000000|          Sutto| USR|https://api.githu...|    Ruby|      1|\n",
      "|   12031|  10942|1203910346000000000|       tarcieri| USR|https://api.githu...|    Ruby|      1|\n",
      "|   12031|  35126|1204050466000000000|         cypher| USR|https://api.githu...|    Ruby|      1|\n",
      "|40916741| 401456|1204169012000000000|           dsrw| USR|https://api.githu...|   Shell|      1|\n",
      "|   12031|  60568|1204188452000000000|         rmoriz| USR|https://api.githu...|    Ruby|      1|\n",
      "|   12031|  23329|1204289546000000000|         joshua| USR|https://api.githu...|    Ruby|      1|\n",
      "|22081833|  23823|1204326283000000000|         bmabey| USR|https://api.githu...|     TeX|      1|\n",
      "|   12031|    676|1204733314000000000|     charleseff| USR|https://api.githu...|    Ruby|      1|\n",
      "|40916741|  26723|1204798197000000000|      pfefferle| USR|https://api.githu...|   Shell|      1|\n",
      "|   12031|   9273|1204938631000000000|           tmm1| USR|https://api.githu...|    Ruby|      1|\n",
      "|   12031|   6113|1205164599000000000|      diasjorge| USR|https://api.githu...|    Ruby|      1|\n",
      "|   12031|   6737|1205767427000000000|     sgtcoolguy| USR|https://api.githu...|    Ruby|      1|\n",
      "|22049966|    452|1205795777000000000|      adragomir| USR|https://api.githu...|  Python|      1|\n",
      "|40916741| 192845|1205859595000000000|       gohanlon| USR|https://api.githu...|   Shell|      1|\n",
      "|   12031|   2308|1206373140000000000|smtlaissezfaire| USR|https://api.githu...|    Ruby|      1|\n",
      "|   12031|   7604|1207240079000000000|        nathany| USR|https://api.githu...|    Ruby|      1|\n",
      "|   12031|   2956|1207286409000000000|       bendiken| USR|https://api.githu...|    Ruby|      1|\n",
      "+--------+-------+-------------------+---------------+----+--------------------+--------+-------+\n",
      "only showing top 20 rows\n",
      "\n"
     ]
    }
   ],
   "source": [
    "spark_train_stars_df.show()"
   ]
  },
  {
   "cell_type": "code",
   "execution_count": 11,
   "metadata": {
    "collapsed": true
   },
   "outputs": [
    {
     "name": "stdout",
     "output_type": "stream",
     "text": [
      "+--------+--------+-------------------+-----------------+----+--------------------+----------+-------+\n",
      "| repo_id| user_id|         created_at|            login|type|                 url|  language|starred|\n",
      "+--------+--------+-------------------+-----------------+----+--------------------+----------+-------+\n",
      "|55567488| 6694284|1485492399000000000|          CaiJiJi| USR|https://api.githu...|    Python|      1|\n",
      "|    1282|13665131|1485492672000000000|         tarvos21| USR|https://api.githu...|    Python|      1|\n",
      "|   16356| 6806774|1485492818000000000|       acro5piano| USR|https://api.githu...|       PHP|      1|\n",
      "|12651428|   11997|1485492868000000000|           alias1| USR|https://api.githu...|    Python|      1|\n",
      "|  394885| 9279104|1485493232000000000|        nilsdeppe| USR|https://api.githu...|    Python|      1|\n",
      "|29629404| 2060726|1485493578000000000|           Patola| USR|https://api.githu...|         C|      1|\n",
      "|   38701|12092442|1485493937000000000|         buhuipao| USR|https://api.githu...|    Python|      1|\n",
      "| 4876188|  704249|1485493945000000000|         yukimori| USR|https://api.githu...|      Java|      1|\n",
      "|16286325|  704249|1485493950000000000|         yukimori| USR|https://api.githu...|      Java|      1|\n",
      "|20337473|11491400|1485493966000000000|        2018sjain| USR|https://api.githu...|      Java|      1|\n",
      "| 6063252| 2041518|1485493967000000000|           yangnw| USR|https://api.githu...|    Python|      1|\n",
      "| 3742671|10813264|1485494000000000000|   pandeydivesh15| USR|https://api.githu...|       PHP|      1|\n",
      "|55366196| 6389717|1485494109000000000|andresitodeguzman| USR|https://api.githu...|    Python|      1|\n",
      "|10104856|  288758|1485494343000000000|            xissy| USR|https://api.githu...|JavaScript|      1|\n",
      "|   13296| 8345633|1485494713000000000|         genevera| USR|https://api.githu...|     Shell|      1|\n",
      "|55794638|     245|1485495116000000000|     jefftriplett| USR|https://api.githu...|    Python|      1|\n",
      "| 4173288| 8539793|1485495208000000000|      FooBarQuaxx| USR|https://api.githu...|    Python|      1|\n",
      "|11537087|11734536|1485495265000000000|         roughike| USR|https://api.githu...|      Java|      1|\n",
      "|30081376| 2231598|1485495373000000000|            jstol| USR|https://api.githu...|        Go|      1|\n",
      "|   78029|  785672|1485495566000000000|           leomao| USR|https://api.githu...|    Python|      1|\n",
      "+--------+--------+-------------------+-----------------+----+--------------------+----------+-------+\n",
      "only showing top 20 rows\n",
      "\n"
     ]
    }
   ],
   "source": [
    "spark_test_stars_df.show()"
   ]
  },
  {
   "cell_type": "code",
   "execution_count": 12,
   "metadata": {
    "collapsed": true
   },
   "outputs": [],
   "source": [
    "als_model = ALS(\n",
    "    itemCol='repo_id',\n",
    "    userCol='user_id',\n",
    "    ratingCol='starred',\n",
    "    nonnegative=True,    \n",
    "    regParam=0.1,\n",
    "    rank=10\n",
    "    ) "
   ]
  },
  {
   "cell_type": "code",
   "execution_count": 13,
   "metadata": {
    "collapsed": true
   },
   "outputs": [],
   "source": [
    "recommender = als_model.fit(spark_train_stars_df)"
   ]
  },
  {
   "cell_type": "code",
   "execution_count": 14,
   "metadata": {
    "collapsed": true
   },
   "outputs": [],
   "source": [
    "predictions = recommender.transform(spark_test_stars_df)"
   ]
  },
  {
   "cell_type": "code",
   "execution_count": 15,
   "metadata": {
    "collapsed": true
   },
   "outputs": [
    {
     "name": "stdout",
     "output_type": "stream",
     "text": [
      "+-------+--------+-------------------+-------------+----+--------------------+--------+-------+----------+\n",
      "|repo_id| user_id|         created_at|        login|type|                 url|language|starred|prediction|\n",
      "+-------+--------+-------------------+-------------+----+--------------------+--------+-------+----------+\n",
      "|   1088| 1966345|1490671147000000000|    craigwong| USR|https://api.githu...|       C|      1|0.89964926|\n",
      "|   1088| 6504088|1487783348000000000|ghostwriternr| USR|https://api.githu...|       C|      1|0.89964825|\n",
      "|   1088|10452600|1489503628000000000|     mike168m| USR|https://api.githu...|       C|      1| 0.8996487|\n",
      "|   1088|26464620|1488393840000000000|  amitbansal7| USR|https://api.githu...|       C|      1|       NaN|\n",
      "|   1088|31125242|1493660697000000000|     rmccorm4| USR|https://api.githu...|       C|      1|       NaN|\n",
      "|   1088| 1383890|1492655096000000000|       Xwoder| USR|https://api.githu...|       C|      1|  0.899648|\n",
      "|   1088| 8635446|1489621495000000000|     cdrrazan| USR|https://api.githu...|       C|      1|  0.899648|\n",
      "|   1088| 3329382|1488260790000000000|     dettervt| USR|https://api.githu...|       C|      1| 0.8996488|\n",
      "|   1088| 8143877|1492570547000000000|     kzlin129| USR|https://api.githu...|       C|      1| 0.8996477|\n",
      "|   1088|10096198|1489989106000000000|     doitliao| USR|https://api.githu...|       C|      1| 0.8996484|\n",
      "|   1088|12094050|1486693475000000000|  spambusters| USR|https://api.githu...|       C|      1|0.89964885|\n",
      "|   1088|32198618|1495172662000000000| YuanChenmang| USR|https://api.githu...|       C|      1| 0.8996492|\n",
      "|   1088|35187952|1498249272000000000|     xPushkin| USR|https://api.githu...|       C|      1|       NaN|\n",
      "|   1088| 3374019|1497902648000000000|   samverneck| USR|https://api.githu...|       C|      1|       NaN|\n",
      "|   1088| 7233839|1490036775000000000|     Anik1199| USR|https://api.githu...|       C|      1|  0.899475|\n",
      "|   1088| 4400730|1489861464000000000|  PeterFeicht| USR|https://api.githu...|       C|      1| 0.8996468|\n",
      "|   1088| 7265047|1489513089000000000|jaantollander| USR|https://api.githu...|       C|      1| 0.8996479|\n",
      "|   1088|24310270|1497072791000000000|   Alirezaies| USR|https://api.githu...|       C|      1|0.89964825|\n",
      "|   1088|32034780|1493007580000000000|     zhebinhu| USR|https://api.githu...|       C|      1| 0.8996486|\n",
      "|   1088| 2079241|1498675759000000000|      Crandel| USR|https://api.githu...|       C|      1|0.89964825|\n",
      "+-------+--------+-------------------+-------------+----+--------------------+--------+-------+----------+\n",
      "only showing top 20 rows\n",
      "\n"
     ]
    }
   ],
   "source": [
    "predictions.show()"
   ]
  },
  {
   "cell_type": "code",
   "execution_count": null,
   "metadata": {
    "collapsed": true
   },
   "outputs": [],
   "source": [
    "pred_df = predictions.toPandas()"
   ]
  },
  {
   "cell_type": "code",
   "execution_count": 20,
   "metadata": {
    "collapsed": true
   },
   "outputs": [
    {
     "data": {
      "text/html": [
       "<div>\n",
       "<style>\n",
       "    .dataframe thead tr:only-child th {\n",
       "        text-align: right;\n",
       "    }\n",
       "\n",
       "    .dataframe thead th {\n",
       "        text-align: left;\n",
       "    }\n",
       "\n",
       "    .dataframe tbody tr th {\n",
       "        vertical-align: top;\n",
       "    }\n",
       "</style>\n",
       "<table border=\"1\" class=\"dataframe\">\n",
       "  <thead>\n",
       "    <tr style=\"text-align: right;\">\n",
       "      <th></th>\n",
       "      <th>repo_id</th>\n",
       "      <th>user_id</th>\n",
       "      <th>created_at</th>\n",
       "      <th>login</th>\n",
       "      <th>type</th>\n",
       "      <th>url</th>\n",
       "      <th>language</th>\n",
       "      <th>starred</th>\n",
       "      <th>prediction</th>\n",
       "    </tr>\n",
       "  </thead>\n",
       "  <tbody>\n",
       "    <tr>\n",
       "      <th>153561</th>\n",
       "      <td>18059067</td>\n",
       "      <td>121133</td>\n",
       "      <td>1489510601000000000</td>\n",
       "      <td>SimonEbner</td>\n",
       "      <td>USR</td>\n",
       "      <td>https://api.github.com/repos/fchollet/keras</td>\n",
       "      <td>Python</td>\n",
       "      <td>1</td>\n",
       "      <td>0.902500</td>\n",
       "    </tr>\n",
       "    <tr>\n",
       "      <th>53874</th>\n",
       "      <td>31810056</td>\n",
       "      <td>121133</td>\n",
       "      <td>1488213819000000000</td>\n",
       "      <td>SimonEbner</td>\n",
       "      <td>USR</td>\n",
       "      <td>https://api.github.com/repos/tensorflow/models</td>\n",
       "      <td>Python</td>\n",
       "      <td>1</td>\n",
       "      <td>0.902497</td>\n",
       "    </tr>\n",
       "    <tr>\n",
       "      <th>64441</th>\n",
       "      <td>40445917</td>\n",
       "      <td>1160385</td>\n",
       "      <td>1487626701000000000</td>\n",
       "      <td>silgon</td>\n",
       "      <td>USR</td>\n",
       "      <td>https://api.github.com/repos/llSourcell/One-Sh...</td>\n",
       "      <td>Python</td>\n",
       "      <td>1</td>\n",
       "      <td>0.902074</td>\n",
       "    </tr>\n",
       "    <tr>\n",
       "      <th>56385</th>\n",
       "      <td>19688305</td>\n",
       "      <td>1160385</td>\n",
       "      <td>1486740545000000000</td>\n",
       "      <td>silgon</td>\n",
       "      <td>USR</td>\n",
       "      <td>https://api.github.com/repos/vegasbrianc/docke...</td>\n",
       "      <td>Python</td>\n",
       "      <td>1</td>\n",
       "      <td>0.902065</td>\n",
       "    </tr>\n",
       "    <tr>\n",
       "      <th>17647</th>\n",
       "      <td>10412366</td>\n",
       "      <td>30383526</td>\n",
       "      <td>1486755550000000000</td>\n",
       "      <td>cjue</td>\n",
       "      <td>USR</td>\n",
       "      <td>https://api.github.com/repos/FreeOpcUa/freeopcua</td>\n",
       "      <td>C++</td>\n",
       "      <td>1</td>\n",
       "      <td>0.901518</td>\n",
       "    </tr>\n",
       "    <tr>\n",
       "      <th>17648</th>\n",
       "      <td>10412366</td>\n",
       "      <td>3944360</td>\n",
       "      <td>1495956582000000000</td>\n",
       "      <td>habedi</td>\n",
       "      <td>USR</td>\n",
       "      <td>https://api.github.com/repos/FreeOpcUa/freeopcua</td>\n",
       "      <td>C++</td>\n",
       "      <td>1</td>\n",
       "      <td>0.901486</td>\n",
       "    </tr>\n",
       "    <tr>\n",
       "      <th>17649</th>\n",
       "      <td>10412366</td>\n",
       "      <td>7627650</td>\n",
       "      <td>1498444082000000000</td>\n",
       "      <td>YuehChuan</td>\n",
       "      <td>USR</td>\n",
       "      <td>https://api.github.com/repos/FreeOpcUa/freeopcua</td>\n",
       "      <td>C++</td>\n",
       "      <td>1</td>\n",
       "      <td>0.901462</td>\n",
       "    </tr>\n",
       "    <tr>\n",
       "      <th>35749</th>\n",
       "      <td>108908</td>\n",
       "      <td>287007</td>\n",
       "      <td>1495715652000000000</td>\n",
       "      <td>jfloff</td>\n",
       "      <td>USR</td>\n",
       "      <td>https://api.github.com/repos/fogbeam/Quoddy</td>\n",
       "      <td>Groovy</td>\n",
       "      <td>1</td>\n",
       "      <td>0.901445</td>\n",
       "    </tr>\n",
       "    <tr>\n",
       "      <th>4119</th>\n",
       "      <td>11388076</td>\n",
       "      <td>30694659</td>\n",
       "      <td>1490778834000000000</td>\n",
       "      <td>jacknlliu</td>\n",
       "      <td>USR</td>\n",
       "      <td>https://api.github.com/repos/rock-simulation/p...</td>\n",
       "      <td>Python</td>\n",
       "      <td>1</td>\n",
       "      <td>0.901234</td>\n",
       "    </tr>\n",
       "    <tr>\n",
       "      <th>110627</th>\n",
       "      <td>750</td>\n",
       "      <td>8651447</td>\n",
       "      <td>1494002386000000000</td>\n",
       "      <td>Crobisaur</td>\n",
       "      <td>USR</td>\n",
       "      <td>https://api.github.com/repos/ros/rosdistro</td>\n",
       "      <td>Python</td>\n",
       "      <td>1</td>\n",
       "      <td>0.900545</td>\n",
       "    </tr>\n",
       "    <tr>\n",
       "      <th>88303</th>\n",
       "      <td>22047463</td>\n",
       "      <td>1871</td>\n",
       "      <td>1491235778000000000</td>\n",
       "      <td>gustavofonseca</td>\n",
       "      <td>USR</td>\n",
       "      <td>https://api.github.com/repos/donnemartin/inter...</td>\n",
       "      <td>Python</td>\n",
       "      <td>1</td>\n",
       "      <td>0.900537</td>\n",
       "    </tr>\n",
       "    <tr>\n",
       "      <th>110632</th>\n",
       "      <td>750</td>\n",
       "      <td>77446</td>\n",
       "      <td>1496349595000000000</td>\n",
       "      <td>rmoorman</td>\n",
       "      <td>USR</td>\n",
       "      <td>https://api.github.com/repos/ros/rosdistro</td>\n",
       "      <td>Python</td>\n",
       "      <td>1</td>\n",
       "      <td>0.900537</td>\n",
       "    </tr>\n",
       "    <tr>\n",
       "      <th>125775</th>\n",
       "      <td>12049</td>\n",
       "      <td>1871</td>\n",
       "      <td>1494334358000000000</td>\n",
       "      <td>gustavofonseca</td>\n",
       "      <td>USR</td>\n",
       "      <td>https://api.github.com/repos/nvie/rq</td>\n",
       "      <td>Python</td>\n",
       "      <td>1</td>\n",
       "      <td>0.900536</td>\n",
       "    </tr>\n",
       "    <tr>\n",
       "      <th>76965</th>\n",
       "      <td>191659</td>\n",
       "      <td>1871</td>\n",
       "      <td>1487102954000000000</td>\n",
       "      <td>gustavofonseca</td>\n",
       "      <td>USR</td>\n",
       "      <td>https://api.github.com/repos/disqus/django-bit...</td>\n",
       "      <td>Python</td>\n",
       "      <td>1</td>\n",
       "      <td>0.900535</td>\n",
       "    </tr>\n",
       "    <tr>\n",
       "      <th>110631</th>\n",
       "      <td>750</td>\n",
       "      <td>6196054</td>\n",
       "      <td>1495771144000000000</td>\n",
       "      <td>pl77</td>\n",
       "      <td>USR</td>\n",
       "      <td>https://api.github.com/repos/ros/rosdistro</td>\n",
       "      <td>Python</td>\n",
       "      <td>1</td>\n",
       "      <td>0.900534</td>\n",
       "    </tr>\n",
       "    <tr>\n",
       "      <th>110629</th>\n",
       "      <td>750</td>\n",
       "      <td>3076672</td>\n",
       "      <td>1494945008000000000</td>\n",
       "      <td>scheeloong</td>\n",
       "      <td>USR</td>\n",
       "      <td>https://api.github.com/repos/ros/rosdistro</td>\n",
       "      <td>Python</td>\n",
       "      <td>1</td>\n",
       "      <td>0.900533</td>\n",
       "    </tr>\n",
       "    <tr>\n",
       "      <th>110628</th>\n",
       "      <td>750</td>\n",
       "      <td>4714968</td>\n",
       "      <td>1497432802000000000</td>\n",
       "      <td>kenliao94</td>\n",
       "      <td>USR</td>\n",
       "      <td>https://api.github.com/repos/ros/rosdistro</td>\n",
       "      <td>Python</td>\n",
       "      <td>1</td>\n",
       "      <td>0.900533</td>\n",
       "    </tr>\n",
       "    <tr>\n",
       "      <th>110630</th>\n",
       "      <td>750</td>\n",
       "      <td>11360068</td>\n",
       "      <td>1486388164000000000</td>\n",
       "      <td>ahmdrz</td>\n",
       "      <td>USR</td>\n",
       "      <td>https://api.github.com/repos/ros/rosdistro</td>\n",
       "      <td>Python</td>\n",
       "      <td>1</td>\n",
       "      <td>0.900533</td>\n",
       "    </tr>\n",
       "    <tr>\n",
       "      <th>110625</th>\n",
       "      <td>750</td>\n",
       "      <td>13905205</td>\n",
       "      <td>1486852853000000000</td>\n",
       "      <td>rogersachan</td>\n",
       "      <td>USR</td>\n",
       "      <td>https://api.github.com/repos/ros/rosdistro</td>\n",
       "      <td>Python</td>\n",
       "      <td>1</td>\n",
       "      <td>0.900530</td>\n",
       "    </tr>\n",
       "    <tr>\n",
       "      <th>110624</th>\n",
       "      <td>750</td>\n",
       "      <td>6845249</td>\n",
       "      <td>1491638496000000000</td>\n",
       "      <td>kiddos</td>\n",
       "      <td>USR</td>\n",
       "      <td>https://api.github.com/repos/ros/rosdistro</td>\n",
       "      <td>Python</td>\n",
       "      <td>1</td>\n",
       "      <td>0.900530</td>\n",
       "    </tr>\n",
       "    <tr>\n",
       "      <th>110626</th>\n",
       "      <td>750</td>\n",
       "      <td>6380778</td>\n",
       "      <td>1488489918000000000</td>\n",
       "      <td>fkromer</td>\n",
       "      <td>USR</td>\n",
       "      <td>https://api.github.com/repos/ros/rosdistro</td>\n",
       "      <td>Python</td>\n",
       "      <td>1</td>\n",
       "      <td>0.900522</td>\n",
       "    </tr>\n",
       "    <tr>\n",
       "      <th>43241</th>\n",
       "      <td>17790004</td>\n",
       "      <td>32185626</td>\n",
       "      <td>1486074075000000000</td>\n",
       "      <td>idcrook</td>\n",
       "      <td>USR</td>\n",
       "      <td>https://api.github.com/repos/OlivierLD/raspber...</td>\n",
       "      <td>Java</td>\n",
       "      <td>1</td>\n",
       "      <td>0.900351</td>\n",
       "    </tr>\n",
       "    <tr>\n",
       "      <th>7339</th>\n",
       "      <td>7692265</td>\n",
       "      <td>8046710</td>\n",
       "      <td>1486857780000000000</td>\n",
       "      <td>rhyzomatic</td>\n",
       "      <td>USR</td>\n",
       "      <td>https://api.github.com/repos/uw-biorobotics/ra...</td>\n",
       "      <td>C++</td>\n",
       "      <td>1</td>\n",
       "      <td>0.900342</td>\n",
       "    </tr>\n",
       "    <tr>\n",
       "      <th>43240</th>\n",
       "      <td>17790004</td>\n",
       "      <td>108574</td>\n",
       "      <td>1485789614000000000</td>\n",
       "      <td>rollbrettler</td>\n",
       "      <td>USR</td>\n",
       "      <td>https://api.github.com/repos/OlivierLD/raspber...</td>\n",
       "      <td>Java</td>\n",
       "      <td>1</td>\n",
       "      <td>0.900342</td>\n",
       "    </tr>\n",
       "    <tr>\n",
       "      <th>43242</th>\n",
       "      <td>17790004</td>\n",
       "      <td>12331290</td>\n",
       "      <td>1486984323000000000</td>\n",
       "      <td>TheProthean</td>\n",
       "      <td>USR</td>\n",
       "      <td>https://api.github.com/repos/OlivierLD/raspber...</td>\n",
       "      <td>Java</td>\n",
       "      <td>1</td>\n",
       "      <td>0.900340</td>\n",
       "    </tr>\n",
       "    <tr>\n",
       "      <th>87882</th>\n",
       "      <td>4823412</td>\n",
       "      <td>4750922</td>\n",
       "      <td>1487542277000000000</td>\n",
       "      <td>ningirsu</td>\n",
       "      <td>USR</td>\n",
       "      <td>https://api.github.com/repos/Frozenball/pytest...</td>\n",
       "      <td>Python</td>\n",
       "      <td>1</td>\n",
       "      <td>0.900298</td>\n",
       "    </tr>\n",
       "    <tr>\n",
       "      <th>31462</th>\n",
       "      <td>19219484</td>\n",
       "      <td>213777</td>\n",
       "      <td>1491159323000000000</td>\n",
       "      <td>40a</td>\n",
       "      <td>USR</td>\n",
       "      <td>https://api.github.com/repos/jivoi/junk</td>\n",
       "      <td>TeX</td>\n",
       "      <td>1</td>\n",
       "      <td>0.900282</td>\n",
       "    </tr>\n",
       "    <tr>\n",
       "      <th>31465</th>\n",
       "      <td>19219484</td>\n",
       "      <td>455588</td>\n",
       "      <td>1487098623000000000</td>\n",
       "      <td>toddlers</td>\n",
       "      <td>USR</td>\n",
       "      <td>https://api.github.com/repos/jivoi/junk</td>\n",
       "      <td>TeX</td>\n",
       "      <td>1</td>\n",
       "      <td>0.900280</td>\n",
       "    </tr>\n",
       "    <tr>\n",
       "      <th>31463</th>\n",
       "      <td>19219484</td>\n",
       "      <td>7364754</td>\n",
       "      <td>1488708235000000000</td>\n",
       "      <td>andriyor</td>\n",
       "      <td>USR</td>\n",
       "      <td>https://api.github.com/repos/jivoi/junk</td>\n",
       "      <td>TeX</td>\n",
       "      <td>1</td>\n",
       "      <td>0.900278</td>\n",
       "    </tr>\n",
       "    <tr>\n",
       "      <th>31468</th>\n",
       "      <td>19219484</td>\n",
       "      <td>9111697</td>\n",
       "      <td>1490105100000000000</td>\n",
       "      <td>Levantado</td>\n",
       "      <td>USR</td>\n",
       "      <td>https://api.github.com/repos/jivoi/junk</td>\n",
       "      <td>TeX</td>\n",
       "      <td>1</td>\n",
       "      <td>0.900278</td>\n",
       "    </tr>\n",
       "    <tr>\n",
       "      <th>...</th>\n",
       "      <td>...</td>\n",
       "      <td>...</td>\n",
       "      <td>...</td>\n",
       "      <td>...</td>\n",
       "      <td>...</td>\n",
       "      <td>...</td>\n",
       "      <td>...</td>\n",
       "      <td>...</td>\n",
       "      <td>...</td>\n",
       "    </tr>\n",
       "    <tr>\n",
       "      <th>179135</th>\n",
       "      <td>57581775</td>\n",
       "      <td>679350</td>\n",
       "      <td>1492376382000000000</td>\n",
       "      <td>sambayless</td>\n",
       "      <td>USR</td>\n",
       "      <td>https://api.github.com/repos/kkmc/monosat</td>\n",
       "      <td>C++</td>\n",
       "      <td>1</td>\n",
       "      <td>NaN</td>\n",
       "    </tr>\n",
       "    <tr>\n",
       "      <th>179136</th>\n",
       "      <td>57984055</td>\n",
       "      <td>9212553</td>\n",
       "      <td>1498672172000000000</td>\n",
       "      <td>bserna-usgs</td>\n",
       "      <td>USR</td>\n",
       "      <td>https://api.github.com/repos/jonhusson/gdd_demo</td>\n",
       "      <td>Python</td>\n",
       "      <td>1</td>\n",
       "      <td>NaN</td>\n",
       "    </tr>\n",
       "    <tr>\n",
       "      <th>179137</th>\n",
       "      <td>60336095</td>\n",
       "      <td>254606</td>\n",
       "      <td>1490428420000000000</td>\n",
       "      <td>m1kola</td>\n",
       "      <td>USR</td>\n",
       "      <td>https://api.github.com/repos/leukeleu/wagtail-...</td>\n",
       "      <td>Python</td>\n",
       "      <td>1</td>\n",
       "      <td>NaN</td>\n",
       "    </tr>\n",
       "    <tr>\n",
       "      <th>179138</th>\n",
       "      <td>60336095</td>\n",
       "      <td>16913</td>\n",
       "      <td>1490182363000000000</td>\n",
       "      <td>BertrandBordage</td>\n",
       "      <td>USR</td>\n",
       "      <td>https://api.github.com/repos/leukeleu/wagtail-...</td>\n",
       "      <td>Python</td>\n",
       "      <td>1</td>\n",
       "      <td>NaN</td>\n",
       "    </tr>\n",
       "    <tr>\n",
       "      <th>179139</th>\n",
       "      <td>60336095</td>\n",
       "      <td>77366</td>\n",
       "      <td>1493137776000000000</td>\n",
       "      <td>cleder</td>\n",
       "      <td>USR</td>\n",
       "      <td>https://api.github.com/repos/leukeleu/wagtail-...</td>\n",
       "      <td>Python</td>\n",
       "      <td>1</td>\n",
       "      <td>NaN</td>\n",
       "    </tr>\n",
       "    <tr>\n",
       "      <th>179140</th>\n",
       "      <td>60336095</td>\n",
       "      <td>75627</td>\n",
       "      <td>1490288012000000000</td>\n",
       "      <td>mvantellingen</td>\n",
       "      <td>USR</td>\n",
       "      <td>https://api.github.com/repos/leukeleu/wagtail-...</td>\n",
       "      <td>Python</td>\n",
       "      <td>1</td>\n",
       "      <td>NaN</td>\n",
       "    </tr>\n",
       "    <tr>\n",
       "      <th>179141</th>\n",
       "      <td>60336095</td>\n",
       "      <td>17816</td>\n",
       "      <td>1490378345000000000</td>\n",
       "      <td>tomdyson</td>\n",
       "      <td>USR</td>\n",
       "      <td>https://api.github.com/repos/leukeleu/wagtail-...</td>\n",
       "      <td>Python</td>\n",
       "      <td>1</td>\n",
       "      <td>NaN</td>\n",
       "    </tr>\n",
       "    <tr>\n",
       "      <th>179142</th>\n",
       "      <td>60498637</td>\n",
       "      <td>18268997</td>\n",
       "      <td>1497100712000000000</td>\n",
       "      <td>aidan-n</td>\n",
       "      <td>USR</td>\n",
       "      <td>https://api.github.com/repos/DEIB-GECO/PyGMQL</td>\n",
       "      <td>Python</td>\n",
       "      <td>1</td>\n",
       "      <td>NaN</td>\n",
       "    </tr>\n",
       "    <tr>\n",
       "      <th>179143</th>\n",
       "      <td>60598720</td>\n",
       "      <td>33160346</td>\n",
       "      <td>1491055692000000000</td>\n",
       "      <td>bruce3zhenghao</td>\n",
       "      <td>USR</td>\n",
       "      <td>https://api.github.com/repos/bruce3zhenghao/An...</td>\n",
       "      <td>Python</td>\n",
       "      <td>1</td>\n",
       "      <td>NaN</td>\n",
       "    </tr>\n",
       "    <tr>\n",
       "      <th>179144</th>\n",
       "      <td>61505410</td>\n",
       "      <td>3188856</td>\n",
       "      <td>1496953062000000000</td>\n",
       "      <td>tausackhn</td>\n",
       "      <td>USR</td>\n",
       "      <td>https://api.github.com/repos/tausackhn/twlived</td>\n",
       "      <td>\\N</td>\n",
       "      <td>1</td>\n",
       "      <td>NaN</td>\n",
       "    </tr>\n",
       "    <tr>\n",
       "      <th>179145</th>\n",
       "      <td>62112697</td>\n",
       "      <td>3739997</td>\n",
       "      <td>1496666270000000000</td>\n",
       "      <td>PSJoshi</td>\n",
       "      <td>USR</td>\n",
       "      <td>https://api.github.com/repos/WTFox/pg_compare</td>\n",
       "      <td>\\N</td>\n",
       "      <td>1</td>\n",
       "      <td>NaN</td>\n",
       "    </tr>\n",
       "    <tr>\n",
       "      <th>179146</th>\n",
       "      <td>62112697</td>\n",
       "      <td>269583</td>\n",
       "      <td>1492452386000000000</td>\n",
       "      <td>myoung34</td>\n",
       "      <td>USR</td>\n",
       "      <td>https://api.github.com/repos/WTFox/pg_compare</td>\n",
       "      <td>\\N</td>\n",
       "      <td>1</td>\n",
       "      <td>NaN</td>\n",
       "    </tr>\n",
       "    <tr>\n",
       "      <th>179147</th>\n",
       "      <td>62555609</td>\n",
       "      <td>11686434</td>\n",
       "      <td>1492686238000000000</td>\n",
       "      <td>sicongHe</td>\n",
       "      <td>USR</td>\n",
       "      <td>https://api.github.com/repos/sicongHe/llbzaServer</td>\n",
       "      <td>\\N</td>\n",
       "      <td>1</td>\n",
       "      <td>NaN</td>\n",
       "    </tr>\n",
       "    <tr>\n",
       "      <th>179148</th>\n",
       "      <td>63875353</td>\n",
       "      <td>32341953</td>\n",
       "      <td>1497904036000000000</td>\n",
       "      <td>apolloaggrey</td>\n",
       "      <td>USR</td>\n",
       "      <td>https://api.github.com/repos/apolloaggrey/term...</td>\n",
       "      <td>Python</td>\n",
       "      <td>1</td>\n",
       "      <td>NaN</td>\n",
       "    </tr>\n",
       "    <tr>\n",
       "      <th>179149</th>\n",
       "      <td>64142349</td>\n",
       "      <td>32004393</td>\n",
       "      <td>1498385256000000000</td>\n",
       "      <td>jinhuiWong</td>\n",
       "      <td>USR</td>\n",
       "      <td>https://api.github.com/repos/jinhuiWong/ueditor</td>\n",
       "      <td>\\N</td>\n",
       "      <td>1</td>\n",
       "      <td>NaN</td>\n",
       "    </tr>\n",
       "    <tr>\n",
       "      <th>179150</th>\n",
       "      <td>65962227</td>\n",
       "      <td>35435201</td>\n",
       "      <td>1496452282000000000</td>\n",
       "      <td>game-libgdx-unity</td>\n",
       "      <td>USR</td>\n",
       "      <td>https://api.github.com/repos/game-libgdx-unity...</td>\n",
       "      <td>C#</td>\n",
       "      <td>1</td>\n",
       "      <td>NaN</td>\n",
       "    </tr>\n",
       "    <tr>\n",
       "      <th>179151</th>\n",
       "      <td>66011221</td>\n",
       "      <td>28360337</td>\n",
       "      <td>1496415055000000000</td>\n",
       "      <td>HinamoreCh4n</td>\n",
       "      <td>USR</td>\n",
       "      <td>https://api.github.com/repos/lattkkthxbbye/aryas</td>\n",
       "      <td>Python</td>\n",
       "      <td>1</td>\n",
       "      <td>NaN</td>\n",
       "    </tr>\n",
       "    <tr>\n",
       "      <th>179152</th>\n",
       "      <td>66011221</td>\n",
       "      <td>35104142</td>\n",
       "      <td>1496436497000000000</td>\n",
       "      <td>BlackTiger1500</td>\n",
       "      <td>USR</td>\n",
       "      <td>https://api.github.com/repos/lattkkthxbbye/aryas</td>\n",
       "      <td>Python</td>\n",
       "      <td>1</td>\n",
       "      <td>NaN</td>\n",
       "    </tr>\n",
       "    <tr>\n",
       "      <th>179153</th>\n",
       "      <td>66011221</td>\n",
       "      <td>5790860</td>\n",
       "      <td>1496268729000000000</td>\n",
       "      <td>tom-sherman</td>\n",
       "      <td>USR</td>\n",
       "      <td>https://api.github.com/repos/lattkkthxbbye/aryas</td>\n",
       "      <td>Python</td>\n",
       "      <td>1</td>\n",
       "      <td>NaN</td>\n",
       "    </tr>\n",
       "    <tr>\n",
       "      <th>179154</th>\n",
       "      <td>66011221</td>\n",
       "      <td>35341385</td>\n",
       "      <td>1496448991000000000</td>\n",
       "      <td>AFodil</td>\n",
       "      <td>USR</td>\n",
       "      <td>https://api.github.com/repos/lattkkthxbbye/aryas</td>\n",
       "      <td>Python</td>\n",
       "      <td>1</td>\n",
       "      <td>NaN</td>\n",
       "    </tr>\n",
       "    <tr>\n",
       "      <th>179155</th>\n",
       "      <td>66011221</td>\n",
       "      <td>9119426</td>\n",
       "      <td>1496700107000000000</td>\n",
       "      <td>NatKarmios</td>\n",
       "      <td>USR</td>\n",
       "      <td>https://api.github.com/repos/lattkkthxbbye/aryas</td>\n",
       "      <td>Python</td>\n",
       "      <td>1</td>\n",
       "      <td>NaN</td>\n",
       "    </tr>\n",
       "    <tr>\n",
       "      <th>179156</th>\n",
       "      <td>66113905</td>\n",
       "      <td>10509382</td>\n",
       "      <td>1496766828000000000</td>\n",
       "      <td>navid-kalaei</td>\n",
       "      <td>USR</td>\n",
       "      <td>https://api.github.com/repos/ClaudeCoulombe/tf...</td>\n",
       "      <td>Python</td>\n",
       "      <td>1</td>\n",
       "      <td>NaN</td>\n",
       "    </tr>\n",
       "    <tr>\n",
       "      <th>179157</th>\n",
       "      <td>66113905</td>\n",
       "      <td>8092401</td>\n",
       "      <td>1496689197000000000</td>\n",
       "      <td>johnsonice</td>\n",
       "      <td>USR</td>\n",
       "      <td>https://api.github.com/repos/ClaudeCoulombe/tf...</td>\n",
       "      <td>Python</td>\n",
       "      <td>1</td>\n",
       "      <td>NaN</td>\n",
       "    </tr>\n",
       "    <tr>\n",
       "      <th>179158</th>\n",
       "      <td>66113905</td>\n",
       "      <td>1491796</td>\n",
       "      <td>1496400032000000000</td>\n",
       "      <td>tsu-nera</td>\n",
       "      <td>USR</td>\n",
       "      <td>https://api.github.com/repos/ClaudeCoulombe/tf...</td>\n",
       "      <td>Python</td>\n",
       "      <td>1</td>\n",
       "      <td>NaN</td>\n",
       "    </tr>\n",
       "    <tr>\n",
       "      <th>179159</th>\n",
       "      <td>66113905</td>\n",
       "      <td>23830589</td>\n",
       "      <td>1496363514000000000</td>\n",
       "      <td>ClaudeCoulombe</td>\n",
       "      <td>USR</td>\n",
       "      <td>https://api.github.com/repos/ClaudeCoulombe/tf...</td>\n",
       "      <td>Python</td>\n",
       "      <td>1</td>\n",
       "      <td>NaN</td>\n",
       "    </tr>\n",
       "    <tr>\n",
       "      <th>179160</th>\n",
       "      <td>66113905</td>\n",
       "      <td>5844144</td>\n",
       "      <td>1497766751000000000</td>\n",
       "      <td>YoungGer</td>\n",
       "      <td>USR</td>\n",
       "      <td>https://api.github.com/repos/ClaudeCoulombe/tf...</td>\n",
       "      <td>Python</td>\n",
       "      <td>1</td>\n",
       "      <td>NaN</td>\n",
       "    </tr>\n",
       "    <tr>\n",
       "      <th>179161</th>\n",
       "      <td>66113905</td>\n",
       "      <td>811451</td>\n",
       "      <td>1496360808000000000</td>\n",
       "      <td>godfreyduke</td>\n",
       "      <td>USR</td>\n",
       "      <td>https://api.github.com/repos/ClaudeCoulombe/tf...</td>\n",
       "      <td>Python</td>\n",
       "      <td>1</td>\n",
       "      <td>NaN</td>\n",
       "    </tr>\n",
       "    <tr>\n",
       "      <th>179162</th>\n",
       "      <td>66113905</td>\n",
       "      <td>3179363</td>\n",
       "      <td>1496359767000000000</td>\n",
       "      <td>hushenglang</td>\n",
       "      <td>USR</td>\n",
       "      <td>https://api.github.com/repos/ClaudeCoulombe/tf...</td>\n",
       "      <td>Python</td>\n",
       "      <td>1</td>\n",
       "      <td>NaN</td>\n",
       "    </tr>\n",
       "    <tr>\n",
       "      <th>179163</th>\n",
       "      <td>66579553</td>\n",
       "      <td>2552078</td>\n",
       "      <td>1496800519000000000</td>\n",
       "      <td>edwinksl</td>\n",
       "      <td>USR</td>\n",
       "      <td>https://api.github.com/repos/erl7902/ComicBot</td>\n",
       "      <td>Python</td>\n",
       "      <td>1</td>\n",
       "      <td>NaN</td>\n",
       "    </tr>\n",
       "    <tr>\n",
       "      <th>179164</th>\n",
       "      <td>66738382</td>\n",
       "      <td>2243533</td>\n",
       "      <td>1496941961000000000</td>\n",
       "      <td>modulebaan</td>\n",
       "      <td>USR</td>\n",
       "      <td>https://api.github.com/repos/modulebaan/harbou...</td>\n",
       "      <td>Python</td>\n",
       "      <td>1</td>\n",
       "      <td>NaN</td>\n",
       "    </tr>\n",
       "  </tbody>\n",
       "</table>\n",
       "<p>179165 rows × 9 columns</p>\n",
       "</div>"
      ],
      "text/plain": [
       "         repo_id   user_id           created_at              login type  \\\n",
       "153561  18059067    121133  1489510601000000000         SimonEbner  USR   \n",
       "53874   31810056    121133  1488213819000000000         SimonEbner  USR   \n",
       "64441   40445917   1160385  1487626701000000000             silgon  USR   \n",
       "56385   19688305   1160385  1486740545000000000             silgon  USR   \n",
       "17647   10412366  30383526  1486755550000000000               cjue  USR   \n",
       "17648   10412366   3944360  1495956582000000000             habedi  USR   \n",
       "17649   10412366   7627650  1498444082000000000          YuehChuan  USR   \n",
       "35749     108908    287007  1495715652000000000             jfloff  USR   \n",
       "4119    11388076  30694659  1490778834000000000          jacknlliu  USR   \n",
       "110627       750   8651447  1494002386000000000          Crobisaur  USR   \n",
       "88303   22047463      1871  1491235778000000000     gustavofonseca  USR   \n",
       "110632       750     77446  1496349595000000000           rmoorman  USR   \n",
       "125775     12049      1871  1494334358000000000     gustavofonseca  USR   \n",
       "76965     191659      1871  1487102954000000000     gustavofonseca  USR   \n",
       "110631       750   6196054  1495771144000000000               pl77  USR   \n",
       "110629       750   3076672  1494945008000000000         scheeloong  USR   \n",
       "110628       750   4714968  1497432802000000000          kenliao94  USR   \n",
       "110630       750  11360068  1486388164000000000             ahmdrz  USR   \n",
       "110625       750  13905205  1486852853000000000        rogersachan  USR   \n",
       "110624       750   6845249  1491638496000000000             kiddos  USR   \n",
       "110626       750   6380778  1488489918000000000            fkromer  USR   \n",
       "43241   17790004  32185626  1486074075000000000            idcrook  USR   \n",
       "7339     7692265   8046710  1486857780000000000         rhyzomatic  USR   \n",
       "43240   17790004    108574  1485789614000000000       rollbrettler  USR   \n",
       "43242   17790004  12331290  1486984323000000000        TheProthean  USR   \n",
       "87882    4823412   4750922  1487542277000000000           ningirsu  USR   \n",
       "31462   19219484    213777  1491159323000000000                40a  USR   \n",
       "31465   19219484    455588  1487098623000000000           toddlers  USR   \n",
       "31463   19219484   7364754  1488708235000000000           andriyor  USR   \n",
       "31468   19219484   9111697  1490105100000000000          Levantado  USR   \n",
       "...          ...       ...                  ...                ...  ...   \n",
       "179135  57581775    679350  1492376382000000000         sambayless  USR   \n",
       "179136  57984055   9212553  1498672172000000000        bserna-usgs  USR   \n",
       "179137  60336095    254606  1490428420000000000             m1kola  USR   \n",
       "179138  60336095     16913  1490182363000000000    BertrandBordage  USR   \n",
       "179139  60336095     77366  1493137776000000000             cleder  USR   \n",
       "179140  60336095     75627  1490288012000000000      mvantellingen  USR   \n",
       "179141  60336095     17816  1490378345000000000           tomdyson  USR   \n",
       "179142  60498637  18268997  1497100712000000000            aidan-n  USR   \n",
       "179143  60598720  33160346  1491055692000000000     bruce3zhenghao  USR   \n",
       "179144  61505410   3188856  1496953062000000000          tausackhn  USR   \n",
       "179145  62112697   3739997  1496666270000000000            PSJoshi  USR   \n",
       "179146  62112697    269583  1492452386000000000           myoung34  USR   \n",
       "179147  62555609  11686434  1492686238000000000           sicongHe  USR   \n",
       "179148  63875353  32341953  1497904036000000000       apolloaggrey  USR   \n",
       "179149  64142349  32004393  1498385256000000000         jinhuiWong  USR   \n",
       "179150  65962227  35435201  1496452282000000000  game-libgdx-unity  USR   \n",
       "179151  66011221  28360337  1496415055000000000       HinamoreCh4n  USR   \n",
       "179152  66011221  35104142  1496436497000000000     BlackTiger1500  USR   \n",
       "179153  66011221   5790860  1496268729000000000        tom-sherman  USR   \n",
       "179154  66011221  35341385  1496448991000000000             AFodil  USR   \n",
       "179155  66011221   9119426  1496700107000000000         NatKarmios  USR   \n",
       "179156  66113905  10509382  1496766828000000000       navid-kalaei  USR   \n",
       "179157  66113905   8092401  1496689197000000000         johnsonice  USR   \n",
       "179158  66113905   1491796  1496400032000000000           tsu-nera  USR   \n",
       "179159  66113905  23830589  1496363514000000000     ClaudeCoulombe  USR   \n",
       "179160  66113905   5844144  1497766751000000000           YoungGer  USR   \n",
       "179161  66113905    811451  1496360808000000000        godfreyduke  USR   \n",
       "179162  66113905   3179363  1496359767000000000        hushenglang  USR   \n",
       "179163  66579553   2552078  1496800519000000000           edwinksl  USR   \n",
       "179164  66738382   2243533  1496941961000000000         modulebaan  USR   \n",
       "\n",
       "                                                      url language  starred  \\\n",
       "153561        https://api.github.com/repos/fchollet/keras   Python        1   \n",
       "53874      https://api.github.com/repos/tensorflow/models   Python        1   \n",
       "64441   https://api.github.com/repos/llSourcell/One-Sh...   Python        1   \n",
       "56385   https://api.github.com/repos/vegasbrianc/docke...   Python        1   \n",
       "17647    https://api.github.com/repos/FreeOpcUa/freeopcua      C++        1   \n",
       "17648    https://api.github.com/repos/FreeOpcUa/freeopcua      C++        1   \n",
       "17649    https://api.github.com/repos/FreeOpcUa/freeopcua      C++        1   \n",
       "35749         https://api.github.com/repos/fogbeam/Quoddy   Groovy        1   \n",
       "4119    https://api.github.com/repos/rock-simulation/p...   Python        1   \n",
       "110627         https://api.github.com/repos/ros/rosdistro   Python        1   \n",
       "88303   https://api.github.com/repos/donnemartin/inter...   Python        1   \n",
       "110632         https://api.github.com/repos/ros/rosdistro   Python        1   \n",
       "125775               https://api.github.com/repos/nvie/rq   Python        1   \n",
       "76965   https://api.github.com/repos/disqus/django-bit...   Python        1   \n",
       "110631         https://api.github.com/repos/ros/rosdistro   Python        1   \n",
       "110629         https://api.github.com/repos/ros/rosdistro   Python        1   \n",
       "110628         https://api.github.com/repos/ros/rosdistro   Python        1   \n",
       "110630         https://api.github.com/repos/ros/rosdistro   Python        1   \n",
       "110625         https://api.github.com/repos/ros/rosdistro   Python        1   \n",
       "110624         https://api.github.com/repos/ros/rosdistro   Python        1   \n",
       "110626         https://api.github.com/repos/ros/rosdistro   Python        1   \n",
       "43241   https://api.github.com/repos/OlivierLD/raspber...     Java        1   \n",
       "7339    https://api.github.com/repos/uw-biorobotics/ra...      C++        1   \n",
       "43240   https://api.github.com/repos/OlivierLD/raspber...     Java        1   \n",
       "43242   https://api.github.com/repos/OlivierLD/raspber...     Java        1   \n",
       "87882   https://api.github.com/repos/Frozenball/pytest...   Python        1   \n",
       "31462             https://api.github.com/repos/jivoi/junk      TeX        1   \n",
       "31465             https://api.github.com/repos/jivoi/junk      TeX        1   \n",
       "31463             https://api.github.com/repos/jivoi/junk      TeX        1   \n",
       "31468             https://api.github.com/repos/jivoi/junk      TeX        1   \n",
       "...                                                   ...      ...      ...   \n",
       "179135          https://api.github.com/repos/kkmc/monosat      C++        1   \n",
       "179136    https://api.github.com/repos/jonhusson/gdd_demo   Python        1   \n",
       "179137  https://api.github.com/repos/leukeleu/wagtail-...   Python        1   \n",
       "179138  https://api.github.com/repos/leukeleu/wagtail-...   Python        1   \n",
       "179139  https://api.github.com/repos/leukeleu/wagtail-...   Python        1   \n",
       "179140  https://api.github.com/repos/leukeleu/wagtail-...   Python        1   \n",
       "179141  https://api.github.com/repos/leukeleu/wagtail-...   Python        1   \n",
       "179142      https://api.github.com/repos/DEIB-GECO/PyGMQL   Python        1   \n",
       "179143  https://api.github.com/repos/bruce3zhenghao/An...   Python        1   \n",
       "179144     https://api.github.com/repos/tausackhn/twlived       \\N        1   \n",
       "179145      https://api.github.com/repos/WTFox/pg_compare       \\N        1   \n",
       "179146      https://api.github.com/repos/WTFox/pg_compare       \\N        1   \n",
       "179147  https://api.github.com/repos/sicongHe/llbzaServer       \\N        1   \n",
       "179148  https://api.github.com/repos/apolloaggrey/term...   Python        1   \n",
       "179149    https://api.github.com/repos/jinhuiWong/ueditor       \\N        1   \n",
       "179150  https://api.github.com/repos/game-libgdx-unity...       C#        1   \n",
       "179151   https://api.github.com/repos/lattkkthxbbye/aryas   Python        1   \n",
       "179152   https://api.github.com/repos/lattkkthxbbye/aryas   Python        1   \n",
       "179153   https://api.github.com/repos/lattkkthxbbye/aryas   Python        1   \n",
       "179154   https://api.github.com/repos/lattkkthxbbye/aryas   Python        1   \n",
       "179155   https://api.github.com/repos/lattkkthxbbye/aryas   Python        1   \n",
       "179156  https://api.github.com/repos/ClaudeCoulombe/tf...   Python        1   \n",
       "179157  https://api.github.com/repos/ClaudeCoulombe/tf...   Python        1   \n",
       "179158  https://api.github.com/repos/ClaudeCoulombe/tf...   Python        1   \n",
       "179159  https://api.github.com/repos/ClaudeCoulombe/tf...   Python        1   \n",
       "179160  https://api.github.com/repos/ClaudeCoulombe/tf...   Python        1   \n",
       "179161  https://api.github.com/repos/ClaudeCoulombe/tf...   Python        1   \n",
       "179162  https://api.github.com/repos/ClaudeCoulombe/tf...   Python        1   \n",
       "179163      https://api.github.com/repos/erl7902/ComicBot   Python        1   \n",
       "179164  https://api.github.com/repos/modulebaan/harbou...   Python        1   \n",
       "\n",
       "        prediction  \n",
       "153561    0.902500  \n",
       "53874     0.902497  \n",
       "64441     0.902074  \n",
       "56385     0.902065  \n",
       "17647     0.901518  \n",
       "17648     0.901486  \n",
       "17649     0.901462  \n",
       "35749     0.901445  \n",
       "4119      0.901234  \n",
       "110627    0.900545  \n",
       "88303     0.900537  \n",
       "110632    0.900537  \n",
       "125775    0.900536  \n",
       "76965     0.900535  \n",
       "110631    0.900534  \n",
       "110629    0.900533  \n",
       "110628    0.900533  \n",
       "110630    0.900533  \n",
       "110625    0.900530  \n",
       "110624    0.900530  \n",
       "110626    0.900522  \n",
       "43241     0.900351  \n",
       "7339      0.900342  \n",
       "43240     0.900342  \n",
       "43242     0.900340  \n",
       "87882     0.900298  \n",
       "31462     0.900282  \n",
       "31465     0.900280  \n",
       "31463     0.900278  \n",
       "31468     0.900278  \n",
       "...            ...  \n",
       "179135         NaN  \n",
       "179136         NaN  \n",
       "179137         NaN  \n",
       "179138         NaN  \n",
       "179139         NaN  \n",
       "179140         NaN  \n",
       "179141         NaN  \n",
       "179142         NaN  \n",
       "179143         NaN  \n",
       "179144         NaN  \n",
       "179145         NaN  \n",
       "179146         NaN  \n",
       "179147         NaN  \n",
       "179148         NaN  \n",
       "179149         NaN  \n",
       "179150         NaN  \n",
       "179151         NaN  \n",
       "179152         NaN  \n",
       "179153         NaN  \n",
       "179154         NaN  \n",
       "179155         NaN  \n",
       "179156         NaN  \n",
       "179157         NaN  \n",
       "179158         NaN  \n",
       "179159         NaN  \n",
       "179160         NaN  \n",
       "179161         NaN  \n",
       "179162         NaN  \n",
       "179163         NaN  \n",
       "179164         NaN  \n",
       "\n",
       "[179165 rows x 9 columns]"
      ]
     },
     "execution_count": 20,
     "metadata": {},
     "output_type": "execute_result"
    }
   ],
   "source": [
    "pred_df.sort_values('prediction', ascending=False)"
   ]
  },
  {
   "cell_type": "code",
   "execution_count": 24,
   "metadata": {},
   "outputs": [
    {
     "data": {
      "text/html": [
       "<div>\n",
       "<style>\n",
       "    .dataframe thead tr:only-child th {\n",
       "        text-align: right;\n",
       "    }\n",
       "\n",
       "    .dataframe thead th {\n",
       "        text-align: left;\n",
       "    }\n",
       "\n",
       "    .dataframe tbody tr th {\n",
       "        vertical-align: top;\n",
       "    }\n",
       "</style>\n",
       "<table border=\"1\" class=\"dataframe\">\n",
       "  <thead>\n",
       "    <tr style=\"text-align: right;\">\n",
       "      <th></th>\n",
       "      <th>repo_id</th>\n",
       "      <th>user_id</th>\n",
       "      <th>created_at</th>\n",
       "      <th>login</th>\n",
       "      <th>type</th>\n",
       "      <th>url</th>\n",
       "      <th>language</th>\n",
       "      <th>starred</th>\n",
       "    </tr>\n",
       "  </thead>\n",
       "  <tbody>\n",
       "    <tr>\n",
       "      <th>18697</th>\n",
       "      <td>3231</td>\n",
       "      <td>121133</td>\n",
       "      <td>1295332198000000000</td>\n",
       "      <td>SimonEbner</td>\n",
       "      <td>USR</td>\n",
       "      <td>https://api.github.com/repos/robbyrussell/oh-m...</td>\n",
       "      <td>Shell</td>\n",
       "      <td>1</td>\n",
       "    </tr>\n",
       "    <tr>\n",
       "      <th>18698</th>\n",
       "      <td>13014344</td>\n",
       "      <td>121133</td>\n",
       "      <td>1295332198000000000</td>\n",
       "      <td>SimonEbner</td>\n",
       "      <td>USR</td>\n",
       "      <td>https://api.github.com/repos/ipa320/cob_simula...</td>\n",
       "      <td>Python</td>\n",
       "      <td>1</td>\n",
       "    </tr>\n",
       "    <tr>\n",
       "      <th>35461</th>\n",
       "      <td>13014712</td>\n",
       "      <td>121133</td>\n",
       "      <td>1319433104000000000</td>\n",
       "      <td>SimonEbner</td>\n",
       "      <td>USR</td>\n",
       "      <td>https://api.github.com/repos/ipa320/cob_robots</td>\n",
       "      <td>Python</td>\n",
       "      <td>1</td>\n",
       "    </tr>\n",
       "    <tr>\n",
       "      <th>189928</th>\n",
       "      <td>12621136</td>\n",
       "      <td>121133</td>\n",
       "      <td>1420290172000000000</td>\n",
       "      <td>SimonEbner</td>\n",
       "      <td>USR</td>\n",
       "      <td>https://api.github.com/repos/flyingrub/scdl</td>\n",
       "      <td>Python</td>\n",
       "      <td>1</td>\n",
       "    </tr>\n",
       "    <tr>\n",
       "      <th>245025</th>\n",
       "      <td>2893017</td>\n",
       "      <td>121133</td>\n",
       "      <td>1429613577000000000</td>\n",
       "      <td>SimonEbner</td>\n",
       "      <td>USR</td>\n",
       "      <td>https://api.github.com/repos/SheffieldML/GPmat</td>\n",
       "      <td>Matlab</td>\n",
       "      <td>1</td>\n",
       "    </tr>\n",
       "    <tr>\n",
       "      <th>313010</th>\n",
       "      <td>17270853</td>\n",
       "      <td>121133</td>\n",
       "      <td>1440193984000000000</td>\n",
       "      <td>SimonEbner</td>\n",
       "      <td>USR</td>\n",
       "      <td>https://api.github.com/repos/HIPS/autograd</td>\n",
       "      <td>Python</td>\n",
       "      <td>1</td>\n",
       "    </tr>\n",
       "    <tr>\n",
       "      <th>436899</th>\n",
       "      <td>20800664</td>\n",
       "      <td>121133</td>\n",
       "      <td>1455022299000000000</td>\n",
       "      <td>SimonEbner</td>\n",
       "      <td>USR</td>\n",
       "      <td>https://api.github.com/repos/agconti/cookiecut...</td>\n",
       "      <td>Python</td>\n",
       "      <td>1</td>\n",
       "    </tr>\n",
       "    <tr>\n",
       "      <th>436900</th>\n",
       "      <td>5057272</td>\n",
       "      <td>121133</td>\n",
       "      <td>1455022308000000000</td>\n",
       "      <td>SimonEbner</td>\n",
       "      <td>USR</td>\n",
       "      <td>https://api.github.com/repos/pydanny/cookiecut...</td>\n",
       "      <td>Python</td>\n",
       "      <td>1</td>\n",
       "    </tr>\n",
       "  </tbody>\n",
       "</table>\n",
       "</div>"
      ],
      "text/plain": [
       "         repo_id  user_id           created_at       login type  \\\n",
       "18697       3231   121133  1295332198000000000  SimonEbner  USR   \n",
       "18698   13014344   121133  1295332198000000000  SimonEbner  USR   \n",
       "35461   13014712   121133  1319433104000000000  SimonEbner  USR   \n",
       "189928  12621136   121133  1420290172000000000  SimonEbner  USR   \n",
       "245025   2893017   121133  1429613577000000000  SimonEbner  USR   \n",
       "313010  17270853   121133  1440193984000000000  SimonEbner  USR   \n",
       "436899  20800664   121133  1455022299000000000  SimonEbner  USR   \n",
       "436900   5057272   121133  1455022308000000000  SimonEbner  USR   \n",
       "\n",
       "                                                      url language  starred  \n",
       "18697   https://api.github.com/repos/robbyrussell/oh-m...    Shell        1  \n",
       "18698   https://api.github.com/repos/ipa320/cob_simula...   Python        1  \n",
       "35461      https://api.github.com/repos/ipa320/cob_robots   Python        1  \n",
       "189928        https://api.github.com/repos/flyingrub/scdl   Python        1  \n",
       "245025     https://api.github.com/repos/SheffieldML/GPmat   Matlab        1  \n",
       "313010         https://api.github.com/repos/HIPS/autograd   Python        1  \n",
       "436899  https://api.github.com/repos/agconti/cookiecut...   Python        1  \n",
       "436900  https://api.github.com/repos/pydanny/cookiecut...   Python        1  "
      ]
     },
     "execution_count": 24,
     "metadata": {},
     "output_type": "execute_result"
    }
   ],
   "source": [
    "train_df = spark_train_stars_df.toPandas()\n",
    "train_df[train_df['user_id'] == 121133]"
   ]
  },
  {
   "cell_type": "code",
   "execution_count": 25,
   "metadata": {},
   "outputs": [
    {
     "data": {
      "text/html": [
       "<div>\n",
       "<style>\n",
       "    .dataframe thead tr:only-child th {\n",
       "        text-align: right;\n",
       "    }\n",
       "\n",
       "    .dataframe thead th {\n",
       "        text-align: left;\n",
       "    }\n",
       "\n",
       "    .dataframe tbody tr th {\n",
       "        vertical-align: top;\n",
       "    }\n",
       "</style>\n",
       "<table border=\"1\" class=\"dataframe\">\n",
       "  <thead>\n",
       "    <tr style=\"text-align: right;\">\n",
       "      <th></th>\n",
       "      <th>repo_id</th>\n",
       "      <th>user_id</th>\n",
       "      <th>created_at</th>\n",
       "      <th>login</th>\n",
       "      <th>type</th>\n",
       "      <th>url</th>\n",
       "      <th>language</th>\n",
       "      <th>starred</th>\n",
       "    </tr>\n",
       "  </thead>\n",
       "  <tbody>\n",
       "    <tr>\n",
       "      <th>34192</th>\n",
       "      <td>31810056</td>\n",
       "      <td>121133</td>\n",
       "      <td>1488213819000000000</td>\n",
       "      <td>SimonEbner</td>\n",
       "      <td>USR</td>\n",
       "      <td>https://api.github.com/repos/tensorflow/models</td>\n",
       "      <td>Python</td>\n",
       "      <td>1</td>\n",
       "    </tr>\n",
       "    <tr>\n",
       "      <th>51807</th>\n",
       "      <td>18059067</td>\n",
       "      <td>121133</td>\n",
       "      <td>1489510601000000000</td>\n",
       "      <td>SimonEbner</td>\n",
       "      <td>USR</td>\n",
       "      <td>https://api.github.com/repos/fchollet/keras</td>\n",
       "      <td>Python</td>\n",
       "      <td>1</td>\n",
       "    </tr>\n",
       "  </tbody>\n",
       "</table>\n",
       "</div>"
      ],
      "text/plain": [
       "        repo_id  user_id           created_at       login type  \\\n",
       "34192  31810056   121133  1488213819000000000  SimonEbner  USR   \n",
       "51807  18059067   121133  1489510601000000000  SimonEbner  USR   \n",
       "\n",
       "                                                  url language  starred  \n",
       "34192  https://api.github.com/repos/tensorflow/models   Python        1  \n",
       "51807     https://api.github.com/repos/fchollet/keras   Python        1  "
      ]
     },
     "execution_count": 25,
     "metadata": {},
     "output_type": "execute_result"
    }
   ],
   "source": [
    "test_df = spark_test_stars_df.toPandas()\n",
    "test_df[test_df['user_id'] == 121133]"
   ]
  },
  {
   "cell_type": "code",
   "execution_count": 38,
   "metadata": {},
   "outputs": [
    {
     "data": {
      "text/plain": [
       "array([[<matplotlib.axes._subplots.AxesSubplot object at 0x7fd8b8854890>]], dtype=object)"
      ]
     },
     "execution_count": 38,
     "metadata": {},
     "output_type": "execute_result"
    },
    {
     "data": {
      "image/png": "[encoded data removed]",
      "text/plain": [
       "<matplotlib.figure.Figure at 0x7fd8b4d9e210>"
      ]
     },
     "metadata": {},
     "output_type": "display_data"
    }
   ],
   "source": [
    "pred_df.hist(column='prediction', bins=5)"
   ]
  },
  {
   "cell_type": "code",
   "execution_count": 29,
   "metadata": {},
   "outputs": [
    {
     "name": "stdout",
     "output_type": "stream",
     "text": [
      "<class 'pandas.core.frame.DataFrame'>\n",
      "RangeIndex: 179165 entries, 0 to 179164\n",
      "Data columns (total 9 columns):\n",
      "repo_id       179165 non-null int64\n",
      "user_id       179165 non-null int64\n",
      "created_at    179165 non-null int64\n",
      "login         179165 non-null object\n",
      "type          179165 non-null object\n",
      "url           179165 non-null object\n",
      "language      179165 non-null object\n",
      "starred       179165 non-null int64\n",
      "prediction    140930 non-null float64\n",
      "dtypes: float64(1), int64(4), object(4)\n",
      "memory usage: 12.3+ MB\n"
     ]
    }
   ],
   "source": [
    "pred_df.info()"
   ]
  },
  {
   "cell_type": "code",
   "execution_count": 39,
   "metadata": {},
   "outputs": [
    {
     "data": {
      "text/plain": [
       "38235"
      ]
     },
     "execution_count": 39,
     "metadata": {},
     "output_type": "execute_result"
    }
   ],
   "source": [
    "#Missing predictions due to cold start \n",
    "179165 - 140930"
   ]
  },
  {
   "cell_type": "code",
   "execution_count": 77,
   "metadata": {
    "collapsed": true
   },
   "outputs": [
    {
     "ename": "KeyError",
     "evalue": "'rating'",
     "output_type": "error",
     "traceback": [
      "\u001b[0;31m---------------------------------------------------------------------------\u001b[0m",
      "\u001b[0;31mKeyError\u001b[0m                                  Traceback (most recent call last)",
      "\u001b[0;32m<ipython-input-77-61c8b43d345f>\u001b[0m in \u001b[0;36m<module>\u001b[0;34m()\u001b[0m\n\u001b[0;32m----> 1\u001b[0;31m \u001b[0mevaluate\u001b[0m\u001b[0;34m.\u001b[0m\u001b[0mevaluate_recommender\u001b[0m\u001b[0;34m(\u001b[0m\u001b[0mals_model\u001b[0m\u001b[0;34m,\u001b[0m \u001b[0mspark_train_stars_df\u001b[0m\u001b[0;34m,\u001b[0m \u001b[0mspark_test_stars_df\u001b[0m\u001b[0;34m)\u001b[0m\u001b[0;34m\u001b[0m\u001b[0m\n\u001b[0m",
      "\u001b[0;32m/home/ubuntu/PROJECT/github-collaborator/src/evaluate.pyc\u001b[0m in \u001b[0;36mevaluate_recommender\u001b[0;34m(model, train, test)\u001b[0m\n\u001b[1;32m     17\u001b[0m     \u001b[0mpredicted\u001b[0m \u001b[0;34m=\u001b[0m \u001b[0mfit_model\u001b[0m\u001b[0;34m.\u001b[0m\u001b[0mtransform\u001b[0m\u001b[0;34m(\u001b[0m\u001b[0mtest\u001b[0m\u001b[0;34m)\u001b[0m\u001b[0;34m\u001b[0m\u001b[0m\n\u001b[1;32m     18\u001b[0m     \u001b[0mtest_pd\u001b[0m \u001b[0;34m=\u001b[0m \u001b[0mtest\u001b[0m\u001b[0;34m.\u001b[0m\u001b[0mtoPandas\u001b[0m\u001b[0;34m(\u001b[0m\u001b[0;34m)\u001b[0m\u001b[0;34m\u001b[0m\u001b[0m\n\u001b[0;32m---> 19\u001b[0;31m     \u001b[0mtest_pd\u001b[0m\u001b[0;34m[\u001b[0m\u001b[0;34m'actuallystarred'\u001b[0m\u001b[0;34m]\u001b[0m \u001b[0;34m=\u001b[0m \u001b[0mtest_pd\u001b[0m\u001b[0;34m[\u001b[0m\u001b[0;34m'starred'\u001b[0m\u001b[0;34m]\u001b[0m\u001b[0;34m\u001b[0m\u001b[0m\n\u001b[0m\u001b[1;32m     20\u001b[0m     \u001b[0mtest_pd\u001b[0m\u001b[0;34m.\u001b[0m\u001b[0mdrop\u001b[0m\u001b[0;34m(\u001b[0m\u001b[0;34m'starred'\u001b[0m\u001b[0;34m,\u001b[0m \u001b[0maxis\u001b[0m\u001b[0;34m=\u001b[0m\u001b[0;36m1\u001b[0m\u001b[0;34m,\u001b[0m \u001b[0minplace\u001b[0m\u001b[0;34m=\u001b[0m\u001b[0mTrue\u001b[0m\u001b[0;34m)\u001b[0m\u001b[0;34m\u001b[0m\u001b[0m\n\u001b[1;32m     21\u001b[0m     \u001b[0mpredicted_pd\u001b[0m \u001b[0;34m=\u001b[0m \u001b[0mpredicted\u001b[0m\u001b[0;34m.\u001b[0m\u001b[0mtoPandas\u001b[0m\u001b[0;34m(\u001b[0m\u001b[0;34m)\u001b[0m\u001b[0;34m\u001b[0m\u001b[0m\n",
      "\u001b[0;32m/home/ubuntu/anaconda2/lib/python2.7/site-packages/pandas/core/frame.pyc\u001b[0m in \u001b[0;36m__getitem__\u001b[0;34m(self, key)\u001b[0m\n\u001b[1;32m   2060\u001b[0m             \u001b[0;32mreturn\u001b[0m \u001b[0mself\u001b[0m\u001b[0;34m.\u001b[0m\u001b[0m_getitem_multilevel\u001b[0m\u001b[0;34m(\u001b[0m\u001b[0mkey\u001b[0m\u001b[0;34m)\u001b[0m\u001b[0;34m\u001b[0m\u001b[0m\n\u001b[1;32m   2061\u001b[0m         \u001b[0;32melse\u001b[0m\u001b[0;34m:\u001b[0m\u001b[0;34m\u001b[0m\u001b[0m\n\u001b[0;32m-> 2062\u001b[0;31m             \u001b[0;32mreturn\u001b[0m \u001b[0mself\u001b[0m\u001b[0;34m.\u001b[0m\u001b[0m_getitem_column\u001b[0m\u001b[0;34m(\u001b[0m\u001b[0mkey\u001b[0m\u001b[0;34m)\u001b[0m\u001b[0;34m\u001b[0m\u001b[0m\n\u001b[0m\u001b[1;32m   2063\u001b[0m \u001b[0;34m\u001b[0m\u001b[0m\n\u001b[1;32m   2064\u001b[0m     \u001b[0;32mdef\u001b[0m \u001b[0m_getitem_column\u001b[0m\u001b[0;34m(\u001b[0m\u001b[0mself\u001b[0m\u001b[0;34m,\u001b[0m \u001b[0mkey\u001b[0m\u001b[0;34m)\u001b[0m\u001b[0;34m:\u001b[0m\u001b[0;34m\u001b[0m\u001b[0m\n",
      "\u001b[0;32m/home/ubuntu/anaconda2/lib/python2.7/site-packages/pandas/core/frame.pyc\u001b[0m in \u001b[0;36m_getitem_column\u001b[0;34m(self, key)\u001b[0m\n\u001b[1;32m   2067\u001b[0m         \u001b[0;31m# get column\u001b[0m\u001b[0;34m\u001b[0m\u001b[0;34m\u001b[0m\u001b[0m\n\u001b[1;32m   2068\u001b[0m         \u001b[0;32mif\u001b[0m \u001b[0mself\u001b[0m\u001b[0;34m.\u001b[0m\u001b[0mcolumns\u001b[0m\u001b[0;34m.\u001b[0m\u001b[0mis_unique\u001b[0m\u001b[0;34m:\u001b[0m\u001b[0;34m\u001b[0m\u001b[0m\n\u001b[0;32m-> 2069\u001b[0;31m             \u001b[0;32mreturn\u001b[0m \u001b[0mself\u001b[0m\u001b[0;34m.\u001b[0m\u001b[0m_get_item_cache\u001b[0m\u001b[0;34m(\u001b[0m\u001b[0mkey\u001b[0m\u001b[0;34m)\u001b[0m\u001b[0;34m\u001b[0m\u001b[0m\n\u001b[0m\u001b[1;32m   2070\u001b[0m \u001b[0;34m\u001b[0m\u001b[0m\n\u001b[1;32m   2071\u001b[0m         \u001b[0;31m# duplicate columns & possible reduce dimensionality\u001b[0m\u001b[0;34m\u001b[0m\u001b[0;34m\u001b[0m\u001b[0m\n",
      "\u001b[0;32m/home/ubuntu/anaconda2/lib/python2.7/site-packages/pandas/core/generic.pyc\u001b[0m in \u001b[0;36m_get_item_cache\u001b[0;34m(self, item)\u001b[0m\n\u001b[1;32m   1532\u001b[0m         \u001b[0mres\u001b[0m \u001b[0;34m=\u001b[0m \u001b[0mcache\u001b[0m\u001b[0;34m.\u001b[0m\u001b[0mget\u001b[0m\u001b[0;34m(\u001b[0m\u001b[0mitem\u001b[0m\u001b[0;34m)\u001b[0m\u001b[0;34m\u001b[0m\u001b[0m\n\u001b[1;32m   1533\u001b[0m         \u001b[0;32mif\u001b[0m \u001b[0mres\u001b[0m \u001b[0;32mis\u001b[0m \u001b[0mNone\u001b[0m\u001b[0;34m:\u001b[0m\u001b[0;34m\u001b[0m\u001b[0m\n\u001b[0;32m-> 1534\u001b[0;31m             \u001b[0mvalues\u001b[0m \u001b[0;34m=\u001b[0m \u001b[0mself\u001b[0m\u001b[0;34m.\u001b[0m\u001b[0m_data\u001b[0m\u001b[0;34m.\u001b[0m\u001b[0mget\u001b[0m\u001b[0;34m(\u001b[0m\u001b[0mitem\u001b[0m\u001b[0;34m)\u001b[0m\u001b[0;34m\u001b[0m\u001b[0m\n\u001b[0m\u001b[1;32m   1535\u001b[0m             \u001b[0mres\u001b[0m \u001b[0;34m=\u001b[0m \u001b[0mself\u001b[0m\u001b[0;34m.\u001b[0m\u001b[0m_box_item_values\u001b[0m\u001b[0;34m(\u001b[0m\u001b[0mitem\u001b[0m\u001b[0;34m,\u001b[0m \u001b[0mvalues\u001b[0m\u001b[0;34m)\u001b[0m\u001b[0;34m\u001b[0m\u001b[0m\n\u001b[1;32m   1536\u001b[0m             \u001b[0mcache\u001b[0m\u001b[0;34m[\u001b[0m\u001b[0mitem\u001b[0m\u001b[0;34m]\u001b[0m \u001b[0;34m=\u001b[0m \u001b[0mres\u001b[0m\u001b[0;34m\u001b[0m\u001b[0m\n",
      "\u001b[0;32m/home/ubuntu/anaconda2/lib/python2.7/site-packages/pandas/core/internals.pyc\u001b[0m in \u001b[0;36mget\u001b[0;34m(self, item, fastpath)\u001b[0m\n\u001b[1;32m   3588\u001b[0m \u001b[0;34m\u001b[0m\u001b[0m\n\u001b[1;32m   3589\u001b[0m             \u001b[0;32mif\u001b[0m \u001b[0;32mnot\u001b[0m \u001b[0misnull\u001b[0m\u001b[0;34m(\u001b[0m\u001b[0mitem\u001b[0m\u001b[0;34m)\u001b[0m\u001b[0;34m:\u001b[0m\u001b[0;34m\u001b[0m\u001b[0m\n\u001b[0;32m-> 3590\u001b[0;31m                 \u001b[0mloc\u001b[0m \u001b[0;34m=\u001b[0m \u001b[0mself\u001b[0m\u001b[0;34m.\u001b[0m\u001b[0mitems\u001b[0m\u001b[0;34m.\u001b[0m\u001b[0mget_loc\u001b[0m\u001b[0;34m(\u001b[0m\u001b[0mitem\u001b[0m\u001b[0;34m)\u001b[0m\u001b[0;34m\u001b[0m\u001b[0m\n\u001b[0m\u001b[1;32m   3591\u001b[0m             \u001b[0;32melse\u001b[0m\u001b[0;34m:\u001b[0m\u001b[0;34m\u001b[0m\u001b[0m\n\u001b[1;32m   3592\u001b[0m                 \u001b[0mindexer\u001b[0m \u001b[0;34m=\u001b[0m \u001b[0mnp\u001b[0m\u001b[0;34m.\u001b[0m\u001b[0marange\u001b[0m\u001b[0;34m(\u001b[0m\u001b[0mlen\u001b[0m\u001b[0;34m(\u001b[0m\u001b[0mself\u001b[0m\u001b[0;34m.\u001b[0m\u001b[0mitems\u001b[0m\u001b[0;34m)\u001b[0m\u001b[0;34m)\u001b[0m\u001b[0;34m[\u001b[0m\u001b[0misnull\u001b[0m\u001b[0;34m(\u001b[0m\u001b[0mself\u001b[0m\u001b[0;34m.\u001b[0m\u001b[0mitems\u001b[0m\u001b[0;34m)\u001b[0m\u001b[0;34m]\u001b[0m\u001b[0;34m\u001b[0m\u001b[0m\n",
      "\u001b[0;32m/home/ubuntu/anaconda2/lib/python2.7/site-packages/pandas/core/indexes/base.pyc\u001b[0m in \u001b[0;36mget_loc\u001b[0;34m(self, key, method, tolerance)\u001b[0m\n\u001b[1;32m   2393\u001b[0m                 \u001b[0;32mreturn\u001b[0m \u001b[0mself\u001b[0m\u001b[0;34m.\u001b[0m\u001b[0m_engine\u001b[0m\u001b[0;34m.\u001b[0m\u001b[0mget_loc\u001b[0m\u001b[0;34m(\u001b[0m\u001b[0mkey\u001b[0m\u001b[0;34m)\u001b[0m\u001b[0;34m\u001b[0m\u001b[0m\n\u001b[1;32m   2394\u001b[0m             \u001b[0;32mexcept\u001b[0m \u001b[0mKeyError\u001b[0m\u001b[0;34m:\u001b[0m\u001b[0;34m\u001b[0m\u001b[0m\n\u001b[0;32m-> 2395\u001b[0;31m                 \u001b[0;32mreturn\u001b[0m \u001b[0mself\u001b[0m\u001b[0;34m.\u001b[0m\u001b[0m_engine\u001b[0m\u001b[0;34m.\u001b[0m\u001b[0mget_loc\u001b[0m\u001b[0;34m(\u001b[0m\u001b[0mself\u001b[0m\u001b[0;34m.\u001b[0m\u001b[0m_maybe_cast_indexer\u001b[0m\u001b[0;34m(\u001b[0m\u001b[0mkey\u001b[0m\u001b[0;34m)\u001b[0m\u001b[0;34m)\u001b[0m\u001b[0;34m\u001b[0m\u001b[0m\n\u001b[0m\u001b[1;32m   2396\u001b[0m \u001b[0;34m\u001b[0m\u001b[0m\n\u001b[1;32m   2397\u001b[0m         \u001b[0mindexer\u001b[0m \u001b[0;34m=\u001b[0m \u001b[0mself\u001b[0m\u001b[0;34m.\u001b[0m\u001b[0mget_indexer\u001b[0m\u001b[0;34m(\u001b[0m\u001b[0;34m[\u001b[0m\u001b[0mkey\u001b[0m\u001b[0;34m]\u001b[0m\u001b[0;34m,\u001b[0m \u001b[0mmethod\u001b[0m\u001b[0;34m=\u001b[0m\u001b[0mmethod\u001b[0m\u001b[0;34m,\u001b[0m \u001b[0mtolerance\u001b[0m\u001b[0;34m=\u001b[0m\u001b[0mtolerance\u001b[0m\u001b[0;34m)\u001b[0m\u001b[0;34m\u001b[0m\u001b[0m\n",
      "\u001b[0;32mpandas/_libs/index.pyx\u001b[0m in \u001b[0;36mpandas._libs.index.IndexEngine.get_loc (pandas/_libs/index.c:5239)\u001b[0;34m()\u001b[0m\n",
      "\u001b[0;32mpandas/_libs/index.pyx\u001b[0m in \u001b[0;36mpandas._libs.index.IndexEngine.get_loc (pandas/_libs/index.c:5085)\u001b[0;34m()\u001b[0m\n",
      "\u001b[0;32mpandas/_libs/hashtable_class_helper.pxi\u001b[0m in \u001b[0;36mpandas._libs.hashtable.PyObjectHashTable.get_item (pandas/_libs/hashtable.c:20405)\u001b[0;34m()\u001b[0m\n",
      "\u001b[0;32mpandas/_libs/hashtable_class_helper.pxi\u001b[0m in \u001b[0;36mpandas._libs.hashtable.PyObjectHashTable.get_item (pandas/_libs/hashtable.c:20359)\u001b[0;34m()\u001b[0m\n",
      "\u001b[0;31mKeyError\u001b[0m: 'rating'"
     ]
    }
   ],
   "source": [
    "#evaluate.evaluate_recommender(als_model, spark_train_stars_df, spark_test_stars_df)"
   ]
  },
  {
   "cell_type": "markdown",
   "metadata": {},
   "source": [
    "## Implicit ALS model"
   ]
  },
  {
   "cell_type": "code",
   "execution_count": 10,
   "metadata": {},
   "outputs": [
    {
     "ename": "IllegalArgumentException",
     "evalue": "u\"Error while instantiating 'org.apache.spark.sql.hive.HiveSessionState':\"",
     "output_type": "error",
     "traceback": [
      "\u001b[0;31m---------------------------------------------------------------------------\u001b[0m",
      "\u001b[0;31mIllegalArgumentException\u001b[0m                  Traceback (most recent call last)",
      "\u001b[0;32m<ipython-input-10-fcb94b1c9a55>\u001b[0m in \u001b[0;36m<module>\u001b[0;34m()\u001b[0m\n\u001b[1;32m     10\u001b[0m \u001b[0;34m\u001b[0m\u001b[0m\n\u001b[1;32m     11\u001b[0m \u001b[0;31m# Setup a SparkSession\u001b[0m\u001b[0;34m\u001b[0m\u001b[0;34m\u001b[0m\u001b[0m\n\u001b[0;32m---> 12\u001b[0;31m \u001b[0mspark\u001b[0m \u001b[0;34m=\u001b[0m \u001b[0mSparkSession\u001b[0m\u001b[0;34m.\u001b[0m\u001b[0mbuilder\u001b[0m\u001b[0;34m.\u001b[0m\u001b[0mgetOrCreate\u001b[0m\u001b[0;34m(\u001b[0m\u001b[0;34m)\u001b[0m\u001b[0;34m\u001b[0m\u001b[0m\n\u001b[0m",
      "\u001b[0;32m/home/ubuntu/spark-2.1.1-bin-hadoop2.7/python/pyspark/sql/session.pyc\u001b[0m in \u001b[0;36mgetOrCreate\u001b[0;34m(self)\u001b[0m\n\u001b[1;32m    177\u001b[0m                     \u001b[0msession\u001b[0m \u001b[0;34m=\u001b[0m \u001b[0mSparkSession\u001b[0m\u001b[0;34m(\u001b[0m\u001b[0msc\u001b[0m\u001b[0;34m)\u001b[0m\u001b[0;34m\u001b[0m\u001b[0m\n\u001b[1;32m    178\u001b[0m                 \u001b[0;32mfor\u001b[0m \u001b[0mkey\u001b[0m\u001b[0;34m,\u001b[0m \u001b[0mvalue\u001b[0m \u001b[0;32min\u001b[0m \u001b[0mself\u001b[0m\u001b[0;34m.\u001b[0m\u001b[0m_options\u001b[0m\u001b[0;34m.\u001b[0m\u001b[0mitems\u001b[0m\u001b[0;34m(\u001b[0m\u001b[0;34m)\u001b[0m\u001b[0;34m:\u001b[0m\u001b[0;34m\u001b[0m\u001b[0m\n\u001b[0;32m--> 179\u001b[0;31m                     \u001b[0msession\u001b[0m\u001b[0;34m.\u001b[0m\u001b[0m_jsparkSession\u001b[0m\u001b[0;34m.\u001b[0m\u001b[0msessionState\u001b[0m\u001b[0;34m(\u001b[0m\u001b[0;34m)\u001b[0m\u001b[0;34m.\u001b[0m\u001b[0mconf\u001b[0m\u001b[0;34m(\u001b[0m\u001b[0;34m)\u001b[0m\u001b[0;34m.\u001b[0m\u001b[0msetConfString\u001b[0m\u001b[0;34m(\u001b[0m\u001b[0mkey\u001b[0m\u001b[0;34m,\u001b[0m \u001b[0mvalue\u001b[0m\u001b[0;34m)\u001b[0m\u001b[0;34m\u001b[0m\u001b[0m\n\u001b[0m\u001b[1;32m    180\u001b[0m                 \u001b[0;32mfor\u001b[0m \u001b[0mkey\u001b[0m\u001b[0;34m,\u001b[0m \u001b[0mvalue\u001b[0m \u001b[0;32min\u001b[0m \u001b[0mself\u001b[0m\u001b[0;34m.\u001b[0m\u001b[0m_options\u001b[0m\u001b[0;34m.\u001b[0m\u001b[0mitems\u001b[0m\u001b[0;34m(\u001b[0m\u001b[0;34m)\u001b[0m\u001b[0;34m:\u001b[0m\u001b[0;34m\u001b[0m\u001b[0m\n\u001b[1;32m    181\u001b[0m                     \u001b[0msession\u001b[0m\u001b[0;34m.\u001b[0m\u001b[0msparkContext\u001b[0m\u001b[0;34m.\u001b[0m\u001b[0m_conf\u001b[0m\u001b[0;34m.\u001b[0m\u001b[0mset\u001b[0m\u001b[0;34m(\u001b[0m\u001b[0mkey\u001b[0m\u001b[0;34m,\u001b[0m \u001b[0mvalue\u001b[0m\u001b[0;34m)\u001b[0m\u001b[0;34m\u001b[0m\u001b[0m\n",
      "\u001b[0;32m/home/ubuntu/spark-2.1.1-bin-hadoop2.7/python/lib/py4j-0.10.4-src.zip/py4j/java_gateway.py\u001b[0m in \u001b[0;36m__call__\u001b[0;34m(self, *args)\u001b[0m\n\u001b[1;32m   1131\u001b[0m         \u001b[0manswer\u001b[0m \u001b[0;34m=\u001b[0m \u001b[0mself\u001b[0m\u001b[0;34m.\u001b[0m\u001b[0mgateway_client\u001b[0m\u001b[0;34m.\u001b[0m\u001b[0msend_command\u001b[0m\u001b[0;34m(\u001b[0m\u001b[0mcommand\u001b[0m\u001b[0;34m)\u001b[0m\u001b[0;34m\u001b[0m\u001b[0m\n\u001b[1;32m   1132\u001b[0m         return_value = get_return_value(\n\u001b[0;32m-> 1133\u001b[0;31m             answer, self.gateway_client, self.target_id, self.name)\n\u001b[0m\u001b[1;32m   1134\u001b[0m \u001b[0;34m\u001b[0m\u001b[0m\n\u001b[1;32m   1135\u001b[0m         \u001b[0;32mfor\u001b[0m \u001b[0mtemp_arg\u001b[0m \u001b[0;32min\u001b[0m \u001b[0mtemp_args\u001b[0m\u001b[0;34m:\u001b[0m\u001b[0;34m\u001b[0m\u001b[0m\n",
      "\u001b[0;32m/home/ubuntu/spark-2.1.1-bin-hadoop2.7/python/pyspark/sql/utils.pyc\u001b[0m in \u001b[0;36mdeco\u001b[0;34m(*a, **kw)\u001b[0m\n\u001b[1;32m     77\u001b[0m                 \u001b[0;32mraise\u001b[0m \u001b[0mQueryExecutionException\u001b[0m\u001b[0;34m(\u001b[0m\u001b[0ms\u001b[0m\u001b[0;34m.\u001b[0m\u001b[0msplit\u001b[0m\u001b[0;34m(\u001b[0m\u001b[0;34m': '\u001b[0m\u001b[0;34m,\u001b[0m \u001b[0;36m1\u001b[0m\u001b[0;34m)\u001b[0m\u001b[0;34m[\u001b[0m\u001b[0;36m1\u001b[0m\u001b[0;34m]\u001b[0m\u001b[0;34m,\u001b[0m \u001b[0mstackTrace\u001b[0m\u001b[0;34m)\u001b[0m\u001b[0;34m\u001b[0m\u001b[0m\n\u001b[1;32m     78\u001b[0m             \u001b[0;32mif\u001b[0m \u001b[0ms\u001b[0m\u001b[0;34m.\u001b[0m\u001b[0mstartswith\u001b[0m\u001b[0;34m(\u001b[0m\u001b[0;34m'java.lang.IllegalArgumentException: '\u001b[0m\u001b[0;34m)\u001b[0m\u001b[0;34m:\u001b[0m\u001b[0;34m\u001b[0m\u001b[0m\n\u001b[0;32m---> 79\u001b[0;31m                 \u001b[0;32mraise\u001b[0m \u001b[0mIllegalArgumentException\u001b[0m\u001b[0;34m(\u001b[0m\u001b[0ms\u001b[0m\u001b[0;34m.\u001b[0m\u001b[0msplit\u001b[0m\u001b[0;34m(\u001b[0m\u001b[0;34m': '\u001b[0m\u001b[0;34m,\u001b[0m \u001b[0;36m1\u001b[0m\u001b[0;34m)\u001b[0m\u001b[0;34m[\u001b[0m\u001b[0;36m1\u001b[0m\u001b[0;34m]\u001b[0m\u001b[0;34m,\u001b[0m \u001b[0mstackTrace\u001b[0m\u001b[0;34m)\u001b[0m\u001b[0;34m\u001b[0m\u001b[0m\n\u001b[0m\u001b[1;32m     80\u001b[0m             \u001b[0;32mraise\u001b[0m\u001b[0;34m\u001b[0m\u001b[0m\n\u001b[1;32m     81\u001b[0m     \u001b[0;32mreturn\u001b[0m \u001b[0mdeco\u001b[0m\u001b[0;34m\u001b[0m\u001b[0m\n",
      "\u001b[0;31mIllegalArgumentException\u001b[0m: u\"Error while instantiating 'org.apache.spark.sql.hive.HiveSessionState':\""
     ]
    }
   ],
   "source": [
    "import pyspark\n",
    "from pyspark.sql import SparkSession\n",
    "# from pyspark.ml.recommendation import ALS\n",
    "from pyspark.mllib.recommendation import ALS, MatrixFactorizationModel, Rating\n",
    "\n",
    "# Setup a SparkSession\n",
    "spark = SparkSession.builder.getOrCreate()\n",
    "\n",
    "\n",
    "# from pyspark import SparkContext\n",
    "# sc = SparkContext()\n",
    "\n",
    "# import src_2.evaluate as evaluate"
   ]
  },
  {
   "cell_type": "code",
   "execution_count": 3,
   "metadata": {
    "collapsed": true
   },
   "outputs": [],
   "source": [
    "import pandas as pd\n",
    "import numpy as np\n",
    "import matplotlib.pyplot as plt\n",
    "%matplotlib inline"
   ]
  },
  {
   "cell_type": "code",
   "execution_count": 4,
   "metadata": {},
   "outputs": [
    {
     "data": {
      "text/plain": [
       "Index([u'user_id', u'repo_id', u'forked', u'created_at', u'starred',\n",
       "       u'interest_rank'],\n",
       "      dtype='object')"
      ]
     },
     "execution_count": 4,
     "metadata": {},
     "output_type": "execute_result"
    }
   ],
   "source": [
    "forks_and_stars = pd.read_pickle('data/pickled/forks_and_stars.pkl')\n",
    "forks_and_stars.columns"
   ]
  },
  {
   "cell_type": "code",
   "execution_count": 5,
   "metadata": {
    "collapsed": true
   },
   "outputs": [],
   "source": [
    "def ordered_train_test_split(df, order_by, test_size=0.33):\n",
    "    '''\n",
    "    Takes a pandas dataframe and returns a train and test dataset ordered by the \n",
    "    column name passed to order_by and sliced up to the test_size\n",
    "    INPUT:\n",
    "    df: pandas df\n",
    "    order_by: list or str of column names\n",
    "    test_size: float percentage of df to use as test set\n",
    "    OUTPUT:\n",
    "    train: pandas dataframe\n",
    "    test: pandas dataframe\n",
    "    '''\n",
    "    upto = int(df.shape[0] * (1 - test_size))\n",
    "    df.sort_values(by=order_by, axis=0)\n",
    "    train = forks_and_stars.iloc[:upto,:]\n",
    "    test = forks_and_stars.iloc[upto:,:]\n",
    "    return train, test"
   ]
  },
  {
   "cell_type": "code",
   "execution_count": 6,
   "metadata": {
    "collapsed": true
   },
   "outputs": [],
   "source": [
    "train_forks_stars, test_forks_stars = ordered_train_test_split(\n",
    "    forks_and_stars, order_by=['created_at'], test_size=0.33)"
   ]
  },
  {
   "cell_type": "code",
   "execution_count": 7,
   "metadata": {},
   "outputs": [
    {
     "data": {
      "text/plain": [
       "(681076, 6)"
      ]
     },
     "execution_count": 7,
     "metadata": {},
     "output_type": "execute_result"
    }
   ],
   "source": [
    "train_forks_stars.shape"
   ]
  },
  {
   "cell_type": "code",
   "execution_count": 8,
   "metadata": {},
   "outputs": [
    {
     "data": {
      "text/plain": [
       "(335456, 6)"
      ]
     },
     "execution_count": 8,
     "metadata": {},
     "output_type": "execute_result"
    }
   ],
   "source": [
    "test_forks_stars.shape"
   ]
  },
  {
   "cell_type": "code",
   "execution_count": 9,
   "metadata": {},
   "outputs": [
    {
     "ename": "NameError",
     "evalue": "name 'spark' is not defined",
     "output_type": "error",
     "traceback": [
      "\u001b[0;31m---------------------------------------------------------------------------\u001b[0m",
      "\u001b[0;31mNameError\u001b[0m                                 Traceback (most recent call last)",
      "\u001b[0;32m<ipython-input-9-7543a96fc591>\u001b[0m in \u001b[0;36m<module>\u001b[0;34m()\u001b[0m\n\u001b[0;32m----> 1\u001b[0;31m \u001b[0msp_train_forks_stars\u001b[0m \u001b[0;34m=\u001b[0m \u001b[0mspark\u001b[0m\u001b[0;34m.\u001b[0m\u001b[0mcreateDataFrame\u001b[0m\u001b[0;34m(\u001b[0m\u001b[0mtrain_forks_stars\u001b[0m\u001b[0;34m)\u001b[0m\u001b[0;34m\u001b[0m\u001b[0m\n\u001b[0m\u001b[1;32m      2\u001b[0m \u001b[0msp_test_forks_stars\u001b[0m \u001b[0;34m=\u001b[0m \u001b[0mspark\u001b[0m\u001b[0;34m.\u001b[0m\u001b[0mcreateDataFrame\u001b[0m\u001b[0;34m(\u001b[0m\u001b[0mtest_forks_stars\u001b[0m\u001b[0;34m)\u001b[0m\u001b[0;34m\u001b[0m\u001b[0m\n",
      "\u001b[0;31mNameError\u001b[0m: name 'spark' is not defined"
     ]
    }
   ],
   "source": [
    "sp_train_forks_stars = spark.createDataFrame(train_forks_stars)\n",
    "sp_test_forks_stars = spark.createDataFrame(test_forks_stars)"
   ]
  },
  {
   "cell_type": "code",
   "execution_count": 11,
   "metadata": {},
   "outputs": [
    {
     "ename": "TypeError",
     "evalue": "withColumn() takes exactly 3 arguments (2 given)",
     "output_type": "error",
     "traceback": [
      "\u001b[0;31m---------------------------------------------------------------------------\u001b[0m",
      "\u001b[0;31mTypeError\u001b[0m                                 Traceback (most recent call last)",
      "\u001b[0;32m<ipython-input-11-0451ad636a16>\u001b[0m in \u001b[0;36m<module>\u001b[0;34m()\u001b[0m\n\u001b[0;32m----> 1\u001b[0;31m \u001b[0msp_train_forks_stars\u001b[0m\u001b[0;34m.\u001b[0m\u001b[0mwithColumn\u001b[0m\u001b[0;34m(\u001b[0m\u001b[0;34m'user_repo'\u001b[0m\u001b[0;34m)\u001b[0m\u001b[0;34m\u001b[0m\u001b[0m\n\u001b[0m",
      "\u001b[0;31mTypeError\u001b[0m: withColumn() takes exactly 3 arguments (2 given)"
     ]
    }
   ],
   "source": [
    "sp_train_forks_stars.withColumn('user_repo')"
   ]
  },
  {
   "cell_type": "code",
   "execution_count": 45,
   "metadata": {
    "collapsed": true
   },
   "outputs": [],
   "source": [
    "user_train = tuple(train_forks_stars['user_id'])\n",
    "repo_train = tuple(train_forks_stars['repo_id'])\n",
    "interest_rank_train = tuple(train_forks_stars['interest_rank'])\n"
   ]
  },
  {
   "cell_type": "code",
   "execution_count": 48,
   "metadata": {},
   "outputs": [
    {
     "ename": "AttributeError",
     "evalue": "'SparkSession' object has no attribute 'parallelize'",
     "output_type": "error",
     "traceback": [
      "\u001b[0;31m---------------------------------------------------------------------------\u001b[0m",
      "\u001b[0;31mAttributeError\u001b[0m                            Traceback (most recent call last)",
      "\u001b[0;32m<ipython-input-48-a0eef3c744db>\u001b[0m in \u001b[0;36m<module>\u001b[0;34m()\u001b[0m\n\u001b[1;32m      3\u001b[0m \u001b[0;31m#                  rating=interest_rank_train)\u001b[0m\u001b[0;34m\u001b[0m\u001b[0;34m\u001b[0m\u001b[0m\n\u001b[1;32m      4\u001b[0m \u001b[0;34m\u001b[0m\u001b[0m\n\u001b[0;32m----> 5\u001b[0;31m \u001b[0mratings\u001b[0m \u001b[0;34m=\u001b[0m \u001b[0mspark\u001b[0m\u001b[0;34m.\u001b[0m\u001b[0mparallelize\u001b[0m\u001b[0;34m(\u001b[0m\u001b[0;34m[\u001b[0m\u001b[0muser_train\u001b[0m\u001b[0;34m,\u001b[0m \u001b[0mrepo_train\u001b[0m\u001b[0;34m,\u001b[0m \u001b[0minterest_rank_train\u001b[0m\u001b[0;34m]\u001b[0m\u001b[0;34m)\u001b[0m\u001b[0;34m\u001b[0m\u001b[0m\n\u001b[0m",
      "\u001b[0;31mAttributeError\u001b[0m: 'SparkSession' object has no attribute 'parallelize'"
     ]
    }
   ],
   "source": [
    "ratings = Rating(user=sp_train_forks_stars.withColumn('user_repo'), \n",
    "                 product=repo_train, \n",
    "                 rating=interest_rank_train)\n",
    "\n",
    "# ratings = spark.parallelize([user_train, repo_train, interest_rank_train])"
   ]
  },
  {
   "cell_type": "code",
   "execution_count": 40,
   "metadata": {},
   "outputs": [
    {
     "ename": "TypeError",
     "evalue": "Ratings should be represented by either an RDD or a DataFrame, but got <class 'pyspark.mllib.recommendation.Rating'>.",
     "output_type": "error",
     "traceback": [
      "\u001b[0;31m---------------------------------------------------------------------------\u001b[0m",
      "\u001b[0;31mTypeError\u001b[0m                                 Traceback (most recent call last)",
      "\u001b[0;32m<ipython-input-40-18e494bcc4ea>\u001b[0m in \u001b[0;36m<module>\u001b[0;34m()\u001b[0m\n\u001b[1;32m      3\u001b[0m                           \u001b[0miterations\u001b[0m\u001b[0;34m=\u001b[0m\u001b[0;36m5\u001b[0m\u001b[0;34m,\u001b[0m\u001b[0;34m\u001b[0m\u001b[0m\n\u001b[1;32m      4\u001b[0m                           \u001b[0mnonnegative\u001b[0m\u001b[0;34m=\u001b[0m\u001b[0mTrue\u001b[0m\u001b[0;34m,\u001b[0m\u001b[0;34m\u001b[0m\u001b[0m\n\u001b[0;32m----> 5\u001b[0;31m                           alpha=0.1)\n\u001b[0m",
      "\u001b[0;32m/home/ubuntu/spark-2.1.1-bin-hadoop2.7/python/pyspark/mllib/recommendation.py\u001b[0m in \u001b[0;36mtrainImplicit\u001b[0;34m(cls, ratings, rank, iterations, lambda_, blocks, alpha, nonnegative, seed)\u001b[0m\n\u001b[1;32m    311\u001b[0m           \u001b[0;34m(\u001b[0m\u001b[0mdefault\u001b[0m\u001b[0;34m:\u001b[0m \u001b[0mNone\u001b[0m\u001b[0;34m)\u001b[0m\u001b[0;34m\u001b[0m\u001b[0m\n\u001b[1;32m    312\u001b[0m         \"\"\"\n\u001b[0;32m--> 313\u001b[0;31m         model = callMLlibFunc(\"trainImplicitALSModel\", cls._prepare(ratings), rank,\n\u001b[0m\u001b[1;32m    314\u001b[0m                               iterations, lambda_, blocks, alpha, nonnegative, seed)\n\u001b[1;32m    315\u001b[0m         \u001b[0;32mreturn\u001b[0m \u001b[0mMatrixFactorizationModel\u001b[0m\u001b[0;34m(\u001b[0m\u001b[0mmodel\u001b[0m\u001b[0;34m)\u001b[0m\u001b[0;34m\u001b[0m\u001b[0m\n",
      "\u001b[0;32m/home/ubuntu/spark-2.1.1-bin-hadoop2.7/python/pyspark/mllib/recommendation.py\u001b[0m in \u001b[0;36m_prepare\u001b[0;34m(cls, ratings)\u001b[0m\n\u001b[1;32m    226\u001b[0m         \u001b[0;32melse\u001b[0m\u001b[0;34m:\u001b[0m\u001b[0;34m\u001b[0m\u001b[0m\n\u001b[1;32m    227\u001b[0m             raise TypeError(\"Ratings should be represented by either an RDD or a DataFrame, \"\n\u001b[0;32m--> 228\u001b[0;31m                             \"but got %s.\" % type(ratings))\n\u001b[0m\u001b[1;32m    229\u001b[0m         \u001b[0mfirst\u001b[0m \u001b[0;34m=\u001b[0m \u001b[0mratings\u001b[0m\u001b[0;34m.\u001b[0m\u001b[0mfirst\u001b[0m\u001b[0;34m(\u001b[0m\u001b[0;34m)\u001b[0m\u001b[0;34m\u001b[0m\u001b[0m\n\u001b[1;32m    230\u001b[0m         \u001b[0;32mif\u001b[0m \u001b[0misinstance\u001b[0m\u001b[0;34m(\u001b[0m\u001b[0mfirst\u001b[0m\u001b[0;34m,\u001b[0m \u001b[0mRating\u001b[0m\u001b[0;34m)\u001b[0m\u001b[0;34m:\u001b[0m\u001b[0;34m\u001b[0m\u001b[0m\n",
      "\u001b[0;31mTypeError\u001b[0m: Ratings should be represented by either an RDD or a DataFrame, but got <class 'pyspark.mllib.recommendation.Rating'>."
     ]
    }
   ],
   "source": [
    "model = ALS.trainImplicit(ratings=ratings, \n",
    "                          rank=15, \n",
    "                          iterations=5, \n",
    "                          nonnegative=True,\n",
    "                          alpha=0.1)"
   ]
  },
  {
   "cell_type": "code",
   "execution_count": null,
   "metadata": {
    "collapsed": true
   },
   "outputs": [],
   "source": [
    "\n",
    ">>> model.predict(2, 2)"
   ]
  },
  {
   "cell_type": "code",
   "execution_count": null,
   "metadata": {
    "collapsed": true
   },
   "outputs": [],
   "source": []
  },
  {
   "cell_type": "code",
   "execution_count": null,
   "metadata": {
    "collapsed": true
   },
   "outputs": [],
   "source": []
  },
  {
   "cell_type": "code",
   "execution_count": null,
   "metadata": {
    "collapsed": true
   },
   "outputs": [],
   "source": []
  },
  {
   "cell_type": "code",
   "execution_count": null,
   "metadata": {
    "collapsed": true
   },
   "outputs": [],
   "source": []
  },
  {
   "cell_type": "code",
   "execution_count": 78,
   "metadata": {
    "collapsed": true
   },
   "outputs": [],
   "source": [
    "from sklearn.metrics import confusion_matrix"
   ]
  },
  {
   "cell_type": "code",
   "execution_count": null,
   "metadata": {
    "collapsed": true
   },
   "outputs": [],
   "source": []
  },
  {
   "cell_type": "code",
   "execution_count": null,
   "metadata": {
    "collapsed": true
   },
   "outputs": [],
   "source": []
  },
  {
   "cell_type": "code",
   "execution_count": null,
   "metadata": {
    "collapsed": true
   },
   "outputs": [],
   "source": []
  },
  {
   "cell_type": "code",
   "execution_count": null,
   "metadata": {
    "collapsed": true
   },
   "outputs": [],
   "source": []
  },
  {
   "cell_type": "code",
   "execution_count": 87,
   "metadata": {
    "collapsed": true
   },
   "outputs": [],
   "source": [
    "ALS_predictions = pd.read_csv('submissions/ALS.csv')\n",
    "brians_mean_movie_rating = pd.read_csv('submissions/brian_avg_movie_rating.csv')"
   ]
  },
  {
   "cell_type": "code",
   "execution_count": 88,
   "metadata": {},
   "outputs": [
    {
     "data": {
      "text/html": [
       "<div>\n",
       "<table border=\"1\" class=\"dataframe\">\n",
       "  <thead>\n",
       "    <tr style=\"text-align: right;\">\n",
       "      <th></th>\n",
       "      <th>user</th>\n",
       "      <th>movie</th>\n",
       "      <th>prediction</th>\n",
       "    </tr>\n",
       "  </thead>\n",
       "  <tbody>\n",
       "    <tr>\n",
       "      <th>0</th>\n",
       "      <td>53</td>\n",
       "      <td>148</td>\n",
       "      <td>NaN</td>\n",
       "    </tr>\n",
       "    <tr>\n",
       "      <th>1</th>\n",
       "      <td>4169</td>\n",
       "      <td>148</td>\n",
       "      <td>3.034759</td>\n",
       "    </tr>\n",
       "    <tr>\n",
       "      <th>2</th>\n",
       "      <td>5333</td>\n",
       "      <td>148</td>\n",
       "      <td>2.316155</td>\n",
       "    </tr>\n",
       "    <tr>\n",
       "      <th>3</th>\n",
       "      <td>4387</td>\n",
       "      <td>148</td>\n",
       "      <td>2.017670</td>\n",
       "    </tr>\n",
       "    <tr>\n",
       "      <th>4</th>\n",
       "      <td>840</td>\n",
       "      <td>148</td>\n",
       "      <td>2.425453</td>\n",
       "    </tr>\n",
       "  </tbody>\n",
       "</table>\n",
       "</div>"
      ],
      "text/plain": [
       "   user  movie  prediction\n",
       "0    53    148         NaN\n",
       "1  4169    148    3.034759\n",
       "2  5333    148    2.316155\n",
       "3  4387    148    2.017670\n",
       "4   840    148    2.425453"
      ]
     },
     "execution_count": 88,
     "metadata": {},
     "output_type": "execute_result"
    }
   ],
   "source": [
    "ALS_predictions.head()"
   ]
  },
  {
   "cell_type": "code",
   "execution_count": 89,
   "metadata": {},
   "outputs": [
    {
     "data": {
      "text/html": [
       "<div>\n",
       "<table border=\"1\" class=\"dataframe\">\n",
       "  <thead>\n",
       "    <tr style=\"text-align: right;\">\n",
       "      <th></th>\n",
       "      <th>user</th>\n",
       "      <th>movie</th>\n",
       "      <th>rating</th>\n",
       "    </tr>\n",
       "  </thead>\n",
       "  <tbody>\n",
       "    <tr>\n",
       "      <th>0</th>\n",
       "      <td>4958</td>\n",
       "      <td>1924</td>\n",
       "      <td>2.645714</td>\n",
       "    </tr>\n",
       "    <tr>\n",
       "      <th>1</th>\n",
       "      <td>4958</td>\n",
       "      <td>3264</td>\n",
       "      <td>3.110448</td>\n",
       "    </tr>\n",
       "    <tr>\n",
       "      <th>2</th>\n",
       "      <td>4958</td>\n",
       "      <td>2634</td>\n",
       "      <td>3.161290</td>\n",
       "    </tr>\n",
       "    <tr>\n",
       "      <th>3</th>\n",
       "      <td>4958</td>\n",
       "      <td>1407</td>\n",
       "      <td>3.637457</td>\n",
       "    </tr>\n",
       "    <tr>\n",
       "      <th>4</th>\n",
       "      <td>4958</td>\n",
       "      <td>2399</td>\n",
       "      <td>2.717391</td>\n",
       "    </tr>\n",
       "  </tbody>\n",
       "</table>\n",
       "</div>"
      ],
      "text/plain": [
       "   user  movie    rating\n",
       "0  4958   1924  2.645714\n",
       "1  4958   3264  3.110448\n",
       "2  4958   2634  3.161290\n",
       "3  4958   1407  3.637457\n",
       "4  4958   2399  2.717391"
      ]
     },
     "execution_count": 89,
     "metadata": {},
     "output_type": "execute_result"
    }
   ],
   "source": [
    "brians_mean_movie_rating.head()"
   ]
  },
  {
   "cell_type": "code",
   "execution_count": 96,
   "metadata": {},
   "outputs": [
    {
     "data": {
      "text/html": [
       "<div>\n",
       "<table border=\"1\" class=\"dataframe\">\n",
       "  <thead>\n",
       "    <tr style=\"text-align: right;\">\n",
       "      <th></th>\n",
       "      <th>user</th>\n",
       "      <th>movie</th>\n",
       "      <th>prediction</th>\n",
       "    </tr>\n",
       "  </thead>\n",
       "  <tbody>\n",
       "    <tr>\n",
       "      <th>count</th>\n",
       "      <td>200209.000000</td>\n",
       "      <td>200209.000000</td>\n",
       "      <td>104439.000000</td>\n",
       "    </tr>\n",
       "    <tr>\n",
       "      <th>mean</th>\n",
       "      <td>1511.751225</td>\n",
       "      <td>1930.586682</td>\n",
       "      <td>3.363050</td>\n",
       "    </tr>\n",
       "    <tr>\n",
       "      <th>std</th>\n",
       "      <td>1582.930564</td>\n",
       "      <td>1129.670350</td>\n",
       "      <td>0.664480</td>\n",
       "    </tr>\n",
       "    <tr>\n",
       "      <th>min</th>\n",
       "      <td>1.000000</td>\n",
       "      <td>1.000000</td>\n",
       "      <td>0.475375</td>\n",
       "    </tr>\n",
       "    <tr>\n",
       "      <th>25%</th>\n",
       "      <td>331.000000</td>\n",
       "      <td>1046.000000</td>\n",
       "      <td>2.950058</td>\n",
       "    </tr>\n",
       "    <tr>\n",
       "      <th>50%</th>\n",
       "      <td>752.000000</td>\n",
       "      <td>1946.000000</td>\n",
       "      <td>3.423546</td>\n",
       "    </tr>\n",
       "    <tr>\n",
       "      <th>75%</th>\n",
       "      <td>2131.000000</td>\n",
       "      <td>2890.000000</td>\n",
       "      <td>3.834524</td>\n",
       "    </tr>\n",
       "    <tr>\n",
       "      <th>max</th>\n",
       "      <td>6040.000000</td>\n",
       "      <td>3952.000000</td>\n",
       "      <td>5.428523</td>\n",
       "    </tr>\n",
       "  </tbody>\n",
       "</table>\n",
       "</div>"
      ],
      "text/plain": [
       "                user          movie     prediction\n",
       "count  200209.000000  200209.000000  104439.000000\n",
       "mean     1511.751225    1930.586682       3.363050\n",
       "std      1582.930564    1129.670350       0.664480\n",
       "min         1.000000       1.000000       0.475375\n",
       "25%       331.000000    1046.000000       2.950058\n",
       "50%       752.000000    1946.000000       3.423546\n",
       "75%      2131.000000    2890.000000       3.834524\n",
       "max      6040.000000    3952.000000       5.428523"
      ]
     },
     "execution_count": 96,
     "metadata": {},
     "output_type": "execute_result"
    }
   ],
   "source": [
    "ALS_predictions.describe()"
   ]
  },
  {
   "cell_type": "code",
   "execution_count": 65,
   "metadata": {},
   "outputs": [
    {
     "data": {
      "text/html": [
       "<div>\n",
       "<table border=\"1\" class=\"dataframe\">\n",
       "  <thead>\n",
       "    <tr style=\"text-align: right;\">\n",
       "      <th></th>\n",
       "      <th>user</th>\n",
       "      <th>movie</th>\n",
       "      <th>rating</th>\n",
       "    </tr>\n",
       "  </thead>\n",
       "  <tbody>\n",
       "    <tr>\n",
       "      <th>count</th>\n",
       "      <td>200209.000000</td>\n",
       "      <td>200209.000000</td>\n",
       "      <td>200082.000000</td>\n",
       "    </tr>\n",
       "    <tr>\n",
       "      <th>mean</th>\n",
       "      <td>1511.751225</td>\n",
       "      <td>1930.586682</td>\n",
       "      <td>3.563625</td>\n",
       "    </tr>\n",
       "    <tr>\n",
       "      <th>std</th>\n",
       "      <td>1582.930564</td>\n",
       "      <td>1129.670350</td>\n",
       "      <td>0.550986</td>\n",
       "    </tr>\n",
       "    <tr>\n",
       "      <th>min</th>\n",
       "      <td>1.000000</td>\n",
       "      <td>1.000000</td>\n",
       "      <td>1.000000</td>\n",
       "    </tr>\n",
       "    <tr>\n",
       "      <th>25%</th>\n",
       "      <td>331.000000</td>\n",
       "      <td>1046.000000</td>\n",
       "      <td>3.241379</td>\n",
       "    </tr>\n",
       "    <tr>\n",
       "      <th>50%</th>\n",
       "      <td>752.000000</td>\n",
       "      <td>1946.000000</td>\n",
       "      <td>3.662857</td>\n",
       "    </tr>\n",
       "    <tr>\n",
       "      <th>75%</th>\n",
       "      <td>2131.000000</td>\n",
       "      <td>2890.000000</td>\n",
       "      <td>3.962349</td>\n",
       "    </tr>\n",
       "    <tr>\n",
       "      <th>max</th>\n",
       "      <td>6040.000000</td>\n",
       "      <td>3952.000000</td>\n",
       "      <td>5.000000</td>\n",
       "    </tr>\n",
       "  </tbody>\n",
       "</table>\n",
       "</div>"
      ],
      "text/plain": [
       "                user          movie         rating\n",
       "count  200209.000000  200209.000000  200082.000000\n",
       "mean     1511.751225    1930.586682       3.563625\n",
       "std      1582.930564    1129.670350       0.550986\n",
       "min         1.000000       1.000000       1.000000\n",
       "25%       331.000000    1046.000000       3.241379\n",
       "50%       752.000000    1946.000000       3.662857\n",
       "75%      2131.000000    2890.000000       3.962349\n",
       "max      6040.000000    3952.000000       5.000000"
      ]
     },
     "execution_count": 65,
     "metadata": {},
     "output_type": "execute_result"
    }
   ],
   "source": [
    "brians_mean_movie_rating.describe()"
   ]
  },
  {
   "cell_type": "code",
   "execution_count": 64,
   "metadata": {},
   "outputs": [
    {
     "name": "stdout",
     "output_type": "stream",
     "text": [
      "ALS Model Predicitons\n",
      "<class 'pandas.core.frame.DataFrame'>\n",
      "RangeIndex: 200209 entries, 0 to 200208\n",
      "Data columns (total 3 columns):\n",
      "user          200209 non-null int64\n",
      "movie         200209 non-null int64\n",
      "prediction    104439 non-null float64\n",
      "dtypes: float64(1), int64(2)\n",
      "memory usage: 4.6 MB\n",
      "None\n",
      "\n",
      "    Missing Predictions just running through ALS: 52.164987588%\n",
      "\n",
      "Simple Predict the Mean Movie Rating\n",
      "<class 'pandas.core.frame.DataFrame'>\n",
      "RangeIndex: 200209 entries, 0 to 200208\n",
      "Data columns (total 3 columns):\n",
      "user      200209 non-null int64\n",
      "movie     200209 non-null int64\n",
      "rating    200082 non-null float64\n",
      "dtypes: float64(1), int64(2)\n",
      "memory usage: 4.6 MB\n",
      "None\n"
     ]
    }
   ],
   "source": [
    "print \"ALS Model Predicitons\"\n",
    "print ALS_predictions.info()\n",
    "print \"\\n    Missing Predictions just running through ALS: {}%\\n\".format((104439./200209)*100)\n",
    "print \"Simple Predict the Mean Movie Rating\"\n",
    "print brians_mean_movie_rating.info()"
   ]
  },
  {
   "cell_type": "code",
   "execution_count": 68,
   "metadata": {
    "collapsed": true
   },
   "outputs": [],
   "source": [
    "ALS_join = pd.merge(ALS_predictions, brians_mean_movie_rating, how='left', on=[\"user\",\"movie\"])"
   ]
  },
  {
   "cell_type": "code",
   "execution_count": 69,
   "metadata": {},
   "outputs": [
    {
     "name": "stdout",
     "output_type": "stream",
     "text": [
      "<class 'pandas.core.frame.DataFrame'>\n",
      "Int64Index: 200209 entries, 0 to 200208\n",
      "Data columns (total 4 columns):\n",
      "user          200209 non-null int64\n",
      "movie         200209 non-null int64\n",
      "prediction    104439 non-null float64\n",
      "rating        200082 non-null float64\n",
      "dtypes: float64(2), int64(2)\n",
      "memory usage: 7.6 MB\n"
     ]
    }
   ],
   "source": [
    "ALS_join.info()"
   ]
  },
  {
   "cell_type": "code",
   "execution_count": 75,
   "metadata": {
    "collapsed": true
   },
   "outputs": [],
   "source": [
    "ALS_join['prediction'].fillna(value=ALS_join.rating, inplace=True)"
   ]
  },
  {
   "cell_type": "code",
   "execution_count": 76,
   "metadata": {},
   "outputs": [
    {
     "data": {
      "text/html": [
       "<div>\n",
       "<table border=\"1\" class=\"dataframe\">\n",
       "  <thead>\n",
       "    <tr style=\"text-align: right;\">\n",
       "      <th></th>\n",
       "      <th>user</th>\n",
       "      <th>movie</th>\n",
       "      <th>prediction</th>\n",
       "      <th>rating</th>\n",
       "    </tr>\n",
       "  </thead>\n",
       "  <tbody>\n",
       "    <tr>\n",
       "      <th>0</th>\n",
       "      <td>53</td>\n",
       "      <td>148</td>\n",
       "      <td>2.700000</td>\n",
       "      <td>2.700000</td>\n",
       "    </tr>\n",
       "    <tr>\n",
       "      <th>1</th>\n",
       "      <td>4169</td>\n",
       "      <td>148</td>\n",
       "      <td>3.034759</td>\n",
       "      <td>2.700000</td>\n",
       "    </tr>\n",
       "    <tr>\n",
       "      <th>2</th>\n",
       "      <td>5333</td>\n",
       "      <td>148</td>\n",
       "      <td>2.316155</td>\n",
       "      <td>2.700000</td>\n",
       "    </tr>\n",
       "    <tr>\n",
       "      <th>3</th>\n",
       "      <td>4387</td>\n",
       "      <td>148</td>\n",
       "      <td>2.017670</td>\n",
       "      <td>2.700000</td>\n",
       "    </tr>\n",
       "    <tr>\n",
       "      <th>4</th>\n",
       "      <td>840</td>\n",
       "      <td>148</td>\n",
       "      <td>2.425453</td>\n",
       "      <td>2.700000</td>\n",
       "    </tr>\n",
       "    <tr>\n",
       "      <th>5</th>\n",
       "      <td>216</td>\n",
       "      <td>148</td>\n",
       "      <td>2.700000</td>\n",
       "      <td>2.700000</td>\n",
       "    </tr>\n",
       "    <tr>\n",
       "      <th>6</th>\n",
       "      <td>482</td>\n",
       "      <td>148</td>\n",
       "      <td>2.700000</td>\n",
       "      <td>2.700000</td>\n",
       "    </tr>\n",
       "    <tr>\n",
       "      <th>7</th>\n",
       "      <td>752</td>\n",
       "      <td>148</td>\n",
       "      <td>2.999931</td>\n",
       "      <td>2.700000</td>\n",
       "    </tr>\n",
       "    <tr>\n",
       "      <th>8</th>\n",
       "      <td>424</td>\n",
       "      <td>148</td>\n",
       "      <td>2.700000</td>\n",
       "      <td>2.700000</td>\n",
       "    </tr>\n",
       "    <tr>\n",
       "      <th>9</th>\n",
       "      <td>970</td>\n",
       "      <td>463</td>\n",
       "      <td>2.748142</td>\n",
       "      <td>2.821429</td>\n",
       "    </tr>\n",
       "  </tbody>\n",
       "</table>\n",
       "</div>"
      ],
      "text/plain": [
       "   user  movie  prediction    rating\n",
       "0    53    148    2.700000  2.700000\n",
       "1  4169    148    3.034759  2.700000\n",
       "2  5333    148    2.316155  2.700000\n",
       "3  4387    148    2.017670  2.700000\n",
       "4   840    148    2.425453  2.700000\n",
       "5   216    148    2.700000  2.700000\n",
       "6   482    148    2.700000  2.700000\n",
       "7   752    148    2.999931  2.700000\n",
       "8   424    148    2.700000  2.700000\n",
       "9   970    463    2.748142  2.821429"
      ]
     },
     "execution_count": 76,
     "metadata": {},
     "output_type": "execute_result"
    }
   ],
   "source": [
    "ALS_join.head(10)"
   ]
  },
  {
   "cell_type": "code",
   "execution_count": 77,
   "metadata": {},
   "outputs": [
    {
     "name": "stdout",
     "output_type": "stream",
     "text": [
      "<class 'pandas.core.frame.DataFrame'>\n",
      "Int64Index: 200209 entries, 0 to 200208\n",
      "Data columns (total 4 columns):\n",
      "user          200209 non-null int64\n",
      "movie         200209 non-null int64\n",
      "prediction    200092 non-null float64\n",
      "rating        200082 non-null float64\n",
      "dtypes: float64(2), int64(2)\n",
      "memory usage: 7.6 MB\n"
     ]
    }
   ],
   "source": [
    "ALS_join.info()"
   ]
  },
  {
   "cell_type": "code",
   "execution_count": null,
   "metadata": {
    "collapsed": true
   },
   "outputs": [],
   "source": [
    "ALS_join = ALS_join.drop('rating', axis=1)"
   ]
  },
  {
   "cell_type": "code",
   "execution_count": 81,
   "metadata": {},
   "outputs": [
    {
     "data": {
      "text/html": [
       "<div>\n",
       "<table border=\"1\" class=\"dataframe\">\n",
       "  <thead>\n",
       "    <tr style=\"text-align: right;\">\n",
       "      <th></th>\n",
       "      <th>user</th>\n",
       "      <th>movie</th>\n",
       "      <th>rating</th>\n",
       "    </tr>\n",
       "  </thead>\n",
       "  <tbody>\n",
       "    <tr>\n",
       "      <th>0</th>\n",
       "      <td>53</td>\n",
       "      <td>148</td>\n",
       "      <td>2.700000</td>\n",
       "    </tr>\n",
       "    <tr>\n",
       "      <th>1</th>\n",
       "      <td>4169</td>\n",
       "      <td>148</td>\n",
       "      <td>3.034759</td>\n",
       "    </tr>\n",
       "    <tr>\n",
       "      <th>2</th>\n",
       "      <td>5333</td>\n",
       "      <td>148</td>\n",
       "      <td>2.316155</td>\n",
       "    </tr>\n",
       "    <tr>\n",
       "      <th>3</th>\n",
       "      <td>4387</td>\n",
       "      <td>148</td>\n",
       "      <td>2.017670</td>\n",
       "    </tr>\n",
       "    <tr>\n",
       "      <th>4</th>\n",
       "      <td>840</td>\n",
       "      <td>148</td>\n",
       "      <td>2.425453</td>\n",
       "    </tr>\n",
       "  </tbody>\n",
       "</table>\n",
       "</div>"
      ],
      "text/plain": [
       "   user  movie    rating\n",
       "0    53    148  2.700000\n",
       "1  4169    148  3.034759\n",
       "2  5333    148  2.316155\n",
       "3  4387    148  2.017670\n",
       "4   840    148  2.425453"
      ]
     },
     "execution_count": 81,
     "metadata": {},
     "output_type": "execute_result"
    }
   ],
   "source": [
    "ALS_join = ALS_join.rename(columns={'prediction':'rating'})\n",
    "ALS_join.head()"
   ]
  },
  {
   "cell_type": "code",
   "execution_count": 84,
   "metadata": {
    "collapsed": true
   },
   "outputs": [],
   "source": [
    "ALS_join.to_csv('submissions/ALS_impute_Movie_Means1.csv', index=False)\n"
   ]
  },
  {
   "cell_type": "code",
   "execution_count": 86,
   "metadata": {},
   "outputs": [
    {
     "name": "stdout",
     "output_type": "stream",
     "text": [
      "user,movie,rating\r\n",
      "53,148,2.7\r\n",
      "4169,148,3.03475856781\r\n",
      "5333,148,2.31615543365\r\n",
      "4387,148,2.01766991615\r\n",
      "840,148,2.42545342445\r\n",
      "216,148,2.7\r\n",
      "482,148,2.7\r\n",
      "752,148,2.99993133545\r\n",
      "424,148,2.7\r\n"
     ]
    }
   ],
   "source": [
    "!head 'submissions/ALS_impute_Movie_Means.csv'"
   ]
  },
  {
   "cell_type": "code",
   "execution_count": 90,
   "metadata": {
    "collapsed": true
   },
   "outputs": [],
   "source": [
    "brians_4 = pd.read_csv('submissions/brians_meanmovierating_userbias.csv')"
   ]
  },
  {
   "cell_type": "code",
   "execution_count": 92,
   "metadata": {},
   "outputs": [
    {
     "name": "stdout",
     "output_type": "stream",
     "text": [
      "<class 'pandas.core.frame.DataFrame'>\n",
      "RangeIndex: 200209 entries, 0 to 200208\n",
      "Data columns (total 3 columns):\n",
      "user      200209 non-null int64\n",
      "movie     200209 non-null int64\n",
      "rating    200209 non-null float64\n",
      "dtypes: float64(1), int64(2)\n",
      "memory usage: 4.6 MB\n"
     ]
    }
   ],
   "source": [
    "brians_4.info()"
   ]
  },
  {
   "cell_type": "code",
   "execution_count": 94,
   "metadata": {},
   "outputs": [
    {
     "name": "stdout",
     "output_type": "stream",
     "text": [
      "<class 'pandas.core.frame.DataFrame'>\n",
      "RangeIndex: 200209 entries, 0 to 200208\n",
      "Data columns (total 3 columns):\n",
      "user      200209 non-null int64\n",
      "movie     200209 non-null int64\n",
      "rating    200209 non-null float64\n",
      "dtypes: float64(1), int64(2)\n",
      "memory usage: 4.6 MB\n"
     ]
    }
   ],
   "source": [
    "new_predictions = pd.read_csv('submissions/ALS_with_imputing435.csv')\n",
    "new_predictions.info()"
   ]
  },
  {
   "cell_type": "code",
   "execution_count": 95,
   "metadata": {},
   "outputs": [
    {
     "data": {
      "text/html": [
       "<div>\n",
       "<table border=\"1\" class=\"dataframe\">\n",
       "  <thead>\n",
       "    <tr style=\"text-align: right;\">\n",
       "      <th></th>\n",
       "      <th>user</th>\n",
       "      <th>movie</th>\n",
       "      <th>rating</th>\n",
       "    </tr>\n",
       "  </thead>\n",
       "  <tbody>\n",
       "    <tr>\n",
       "      <th>count</th>\n",
       "      <td>200209.000000</td>\n",
       "      <td>200209.000000</td>\n",
       "      <td>200209.000000</td>\n",
       "    </tr>\n",
       "    <tr>\n",
       "      <th>mean</th>\n",
       "      <td>1511.751225</td>\n",
       "      <td>1930.586682</td>\n",
       "      <td>3.472030</td>\n",
       "    </tr>\n",
       "    <tr>\n",
       "      <th>std</th>\n",
       "      <td>1582.930564</td>\n",
       "      <td>1129.670350</td>\n",
       "      <td>0.622423</td>\n",
       "    </tr>\n",
       "    <tr>\n",
       "      <th>min</th>\n",
       "      <td>1.000000</td>\n",
       "      <td>1.000000</td>\n",
       "      <td>0.475375</td>\n",
       "    </tr>\n",
       "    <tr>\n",
       "      <th>25%</th>\n",
       "      <td>331.000000</td>\n",
       "      <td>1046.000000</td>\n",
       "      <td>3.103139</td>\n",
       "    </tr>\n",
       "    <tr>\n",
       "      <th>50%</th>\n",
       "      <td>752.000000</td>\n",
       "      <td>1946.000000</td>\n",
       "      <td>3.555398</td>\n",
       "    </tr>\n",
       "    <tr>\n",
       "      <th>75%</th>\n",
       "      <td>2131.000000</td>\n",
       "      <td>2890.000000</td>\n",
       "      <td>3.920826</td>\n",
       "    </tr>\n",
       "    <tr>\n",
       "      <th>max</th>\n",
       "      <td>6040.000000</td>\n",
       "      <td>3952.000000</td>\n",
       "      <td>5.428523</td>\n",
       "    </tr>\n",
       "  </tbody>\n",
       "</table>\n",
       "</div>"
      ],
      "text/plain": [
       "                user          movie         rating\n",
       "count  200209.000000  200209.000000  200209.000000\n",
       "mean     1511.751225    1930.586682       3.472030\n",
       "std      1582.930564    1129.670350       0.622423\n",
       "min         1.000000       1.000000       0.475375\n",
       "25%       331.000000    1046.000000       3.103139\n",
       "50%       752.000000    1946.000000       3.555398\n",
       "75%      2131.000000    2890.000000       3.920826\n",
       "max      6040.000000    3952.000000       5.428523"
      ]
     },
     "execution_count": 95,
     "metadata": {},
     "output_type": "execute_result"
    }
   ],
   "source": [
    "new_predictions.describe()"
   ]
  },
  {
   "cell_type": "code",
   "execution_count": null,
   "metadata": {
    "collapsed": true
   },
   "outputs": [],
   "source": []
  },
  {
   "cell_type": "code",
   "execution_count": null,
   "metadata": {
    "collapsed": true
   },
   "outputs": [],
   "source": []
  },
  {
   "cell_type": "markdown",
   "metadata": {},
   "source": [
    "## Model Performances"
   ]
  },
  {
   "cell_type": "markdown",
   "metadata": {},
   "source": [
    "#### Predict every user rates the movie a 5\n",
    "Rating of 3.54594448801"
   ]
  },
  {
   "cell_type": "markdown",
   "metadata": {},
   "source": [
    "#### Predict the rating for every user using the mean movie rating for each movie\n",
    "Rating of 4.27909532094"
   ]
  },
  {
   "cell_type": "markdown",
   "metadata": {},
   "source": [
    "#### Predict the rating using ALS and imputing the missing values using the mean movie rating and more\n",
    "\n",
    "Rating of 4.32845"
   ]
  },
  {
   "cell_type": "code",
   "execution_count": 97,
   "metadata": {},
   "outputs": [
    {
     "data": {
      "text/plain": [
       "0.04935467906000035"
      ]
     },
     "execution_count": 97,
     "metadata": {},
     "output_type": "execute_result"
    }
   ],
   "source": [
    "4.32845 - 4.27909532094"
   ]
  },
  {
   "cell_type": "code",
   "execution_count": null,
   "metadata": {
    "collapsed": true
   },
   "outputs": [],
   "source": []
  }
 ],
 "metadata": {
  "kernelspec": {
   "display_name": "Python 2",
   "language": "python",
   "name": "python2"
  },
  "language_info": {
   "codemirror_mode": {
    "name": "ipython",
    "version": 2
   },
   "file_extension": ".py",
   "mimetype": "text/x-python",
   "name": "python",
   "nbconvert_exporter": "python",
   "pygments_lexer": "ipython2",
   "version": "2.7.13"
  }
 },
 "nbformat": 4,
 "nbformat_minor": 2
}
